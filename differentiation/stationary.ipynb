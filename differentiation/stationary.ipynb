{
 "cells": [
  {
   "cell_type": "markdown",
   "id": "db58f2b4",
   "metadata": {},
   "source": [
    "# Stationary Points\n",
    "\n",
    "Stationary points occur when we have $\\frac{dy}{dx} = 0$; this represents when the gradient of a curve is horizontal, we have three types of stationary point:\n",
    "\n",
    "1. Local maximum"
   ]
  },
  {
   "cell_type": "code",
   "execution_count": null,
   "id": "11591fcd",
   "metadata": {
    "tags": [
     "hide-input"
    ]
   },
   "outputs": [],
   "source": [
    "import numpy as np\n",
    "import matplotlib.pyplot as plt\n",
    "\n",
    "x = np.linspace(-2, 2, 100)\n",
    "y = -(x ** 2) + 1.5\n",
    "\n",
    "plt.plot(x, y)\n",
    "plt.axhline(1.5, xmin=0.25, xmax=0.75, color='r', linestyle='--')\n",
    "plt.show()"
   ]
  },
  {
   "cell_type": "markdown",
   "id": "d399768f",
   "metadata": {},
   "source": [
    "We can see that when we pass through the maximum, the gradient goes from being positive ($\\frac{dy}{dx} > 0$) to being negative ($\\frac{dy}{dx} < 0$). \n",
    "\n",
    "2. Local minimum"
   ]
  },
  {
   "cell_type": "code",
   "execution_count": null,
   "id": "2354574e",
   "metadata": {
    "tags": [
     "hide-input"
    ]
   },
   "outputs": [],
   "source": [
    "y = x ** 2 - 1.5\n",
    "\n",
    "plt.plot(x, y)\n",
    "plt.axhline(-1.5, xmin=0.25, xmax=0.75, color='r', linestyle='--')\n",
    "plt.show()"
   ]
  },
  {
   "cell_type": "markdown",
   "id": "910a9c90",
   "metadata": {},
   "source": [
    "We can see that when we pass through a minimum, the gradient goes from being negative ($\\frac{dy}{dx} < 0$) to being positive ($\\frac{dy}{dx} > 0$). \n",
    "\n",
    "3. Point of inflection"
   ]
  },
  {
   "cell_type": "code",
   "execution_count": null,
   "id": "97625761",
   "metadata": {
    "tags": [
     "hide-input"
    ]
   },
   "outputs": [],
   "source": [
    "x = np.linspace(-1, 1, 100)\n",
    "y = x ** 3 + 0.5\n",
    "\n",
    "plt.plot(x, y)\n",
    "plt.axhline(0.5, xmin=0.25, xmax=0.75, color='r', linestyle='--')\n",
    "plt.show()"
   ]
  },
  {
   "cell_type": "markdown",
   "id": "ecd448fd",
   "metadata": {},
   "source": [
    "Finally, when we pass through a point of inflection, we should note that the gradient remains of the same sign (so either positive or negative on both sides). \n",
    "\n",
    "````{admonition} Example\n",
    ":class: example\n",
    "\n",
    "Find the stationary point of $y=x^2$. \n",
    "\n",
    "*Solution:* From the graph of $y=x^2$, we can see that there is a minimum at $x=0$, however, we need to find this algebraically. \n",
    "\n",
    "```{image} ./images/stationary.png\n",
    ":alt: A plot with a straight line with the equation y equals x squared.\n",
    ":width: 80%\n",
    ":align: center\n",
    "```\n",
    "\n",
    "First, we nee to find when $\\frac{dy}{dx} = 0$. Now $\\frac{dy}{dx} = 2x$ and therefore, $\\frac{dy}{dx}=0$ when $x=0$. \n",
    "\n",
    "So we know we have a stationary point at $x=0$. \n",
    "In the next section, we will discuss how to decide whether this is a maximum, minimum, or point of inflection. \n",
    "\n",
    "````\n",
    "\n",
    "## Classifying Stationary Points\n",
    "\n",
    "We now need to introduce the second derivative, denoted: \n",
    "\n",
    "$$\n",
    "\\frac{d^2y}{dx^2}\\;\\;\\;\\text{or}\\;\\;\\;f''(x)\n",
    "$$\n",
    "\n",
    "This means that we differentiate a function twice, so for example, if we have $y=x^3$, we would first find: \n",
    "\n",
    "$$\n",
    "\\frac{dy}{dx} = 3x^2\n",
    "$$\n",
    "\n",
    "which we would then differentiate again to find: \n",
    "\n",
    "$$\n",
    "\\frac{d^2y}{dx^2} = 6x.\n",
    "$$\n",
    "\n",
    "<hr>\n",
    "\n",
    "`sympy` can easily compute the second, or higher order, derivative. "
   ]
  },
  {
   "cell_type": "code",
   "execution_count": null,
   "id": "d7cc7a99",
   "metadata": {},
   "outputs": [],
   "source": [
    "from sympy import symbols, diff\n",
    "\n",
    "x = symbols('x')\n",
    "\n",
    "diff(diff(x ** 3))"
   ]
  },
  {
   "cell_type": "markdown",
   "id": "a49278f1",
   "metadata": {},
   "source": [
    "<hr>\n",
    "\n",
    "### First Test\n",
    "\n",
    "The second derivative is used to decide whether a stationary point is a maximum or a minimum. \n",
    "If we have a value of $x$ of a stationary point, then we substitute that value into the second derivative, if: \n",
    "\n",
    "- $\\frac{d^2y}{dx^2} > 0$, so positive, we have a minimum. \n",
    "- $\\frac{d^2y}{dx^2} <> 0$, so negative, we have a maximum.\n",
    "\n",
    "Unfortunately, this test fails if we find that $\\frac{d^2y}{dx^2} = 0$. \n",
    "In this case, we could have a maximum, minimum, or point of inflection and we must carry out the following further test in order to decide. \n",
    "\n",
    "### Second Test\n",
    "\n",
    "First, first two $x$ values, just to the left and right of the stationary point and calculate $f'(x)$ for each. \n",
    "Let us denote the $x$ value just to the left as $x_L$ and the one to the right as $x_R$, then if: \n",
    "\n",
    "- $f'(x_L) > 0$ and $f'(x_R) < 0$, we have a minimum. \n",
    "- $f'(x_L) < 0$ and $f'(x_R) > 0$, we have a maximum.\n",
    "- $f'(x_L)$ and $f'(x_R)$ have the same sign (so both are either positive of negative), then we have a point of inflection. \n",
    "\n",
    "```{admonition} Example\n",
    "class: example\n",
    "Find and classify the stationary points of $y=\\frac{x^4}{4} - \\frac{x^2}{2}$. \n",
    "\n",
    "*Solution:* First, we find when $\\frac{dy}{dx} = 0$ to find where the stationary points are. \n",
    "\n",
    "$$\n",
    "\\begin{aligned}\n",
    "\\frac{dy}{dx} & = x^3 - x = 0 \\\\\n",
    " & = x(x^2 - 1) = 0 \\\\ \n",
    " & x(x-1)(x+1) = 0\n",
    "\\end{aligned}\n",
    "$$\n",
    "\n",
    "Therefore, we have stationary points at $x=0$, $x=1$, and $x=-1$ to classify them, we first must find the second derivative: \n",
    "\n",
    "$$\n",
    "\\frac{d^2y}{dx^2} = 3x^2 - 1\n",
    "$$\n",
    "\n",
    "Now we substitute our $x$-values for the location of the stationary point into $\\frac{d^2y}{dx^2}$: \n",
    "\n",
    "- When $x=0$, we have $\\frac{d^2y}{dx^2} = -1, hence $\\frac{d^2y}{dx^2} < 0$ (negative), so this is a maximum. \n",
    "- When $x=1$, we have $\\frac{d^2y}{dx^2} = 2, hence $\\frac{d^2y}{dx^2} > 0$ (positive), so this is a minimum. \n",
    "- When $x=-1$, we have $\\frac{d^2y}{dx^2} = 2, hence $\\frac{d^2y}{dx^2} > 0$ (positive), so this is a minimum. \n",
    "```\n",
    "\n",
    "<hr>\n",
    " \n",
    "Let's look at doing this in Python. \n",
    "In addition to being able to perform differentiation, `sympy` can help us find the stationary points. "
   ]
  },
  {
   "cell_type": "code",
   "execution_count": null,
   "id": "2c991519",
   "metadata": {},
   "outputs": [],
   "source": [
    "from sympy import stationary_points\n",
    "\n",
    "y = x ** 4 / 4 - x ** 2 / 2\n",
    "sp = stationary_points(y, x)\n",
    "sp"
   ]
  },
  {
   "cell_type": "markdown",
   "id": "2da87e11",
   "metadata": {},
   "source": [
    "We then find the second derivative. "
   ]
  },
  {
   "cell_type": "code",
   "execution_count": null,
   "id": "ba843c2b",
   "metadata": {},
   "outputs": [],
   "source": [
    "second = diff(diff(y))\n",
    "second"
   ]
  },
  {
   "cell_type": "markdown",
   "id": "7b107694",
   "metadata": {},
   "source": [
    "And we iterate through the stationary points to find the value of $\\frac{d^2y}{dx^2}$ and perform the first test. \n",
    "\n",
    "````{margin}\n",
    "```{admonition} Python Note\n",
    ":class: python\n",
    "A `sympy` Set-type object can be converted to a standard Python list but passing it to the `list()` function. \n",
    "```\n",
    "````"
   ]
  },
  {
   "cell_type": "code",
   "execution_count": null,
   "id": "25f36bb0",
   "metadata": {},
   "outputs": [],
   "source": [
    "for point in list(sp):\n",
    "    value = second.evalf(subs={x: point})\n",
    "    print(f'x = {point}; d^2y/dx^2 = {value:.0f}')"
   ]
  },
  {
   "cell_type": "markdown",
   "id": "a8579502",
   "metadata": {},
   "source": [
    "This matches the findings above. \n",
    "\n",
    "<hr>\n",
    "\n",
    "```{admonition} Example\n",
    ":class: example\n",
    "\n",
    "Find and classify the stationary points of $y = x^3$. \n",
    "\n",
    "*Solution:* First, we find when $\\frac{dy}{dx} = 0$ to find where the stationary points are. \n",
    "\n",
    "$$\n",
    "\\begin{aligned}\n",
    "\\frac{dy}{dx} & = 3x^2 = 0 \\\\\n",
    " & = x = 0\n",
    "\\end{aligned}\n",
    "$$\n",
    "\n",
    "Now, when $x=0$, we have $\\frac{d^2y}{dx^2} = 0$, hence our test has failed and we must carried out the further test. \n",
    "\n",
    "We need to pick $x$ values close to either side of the stationary point at $x=0$. \n",
    "So a $x$ value just to the left would be $x_L = -0.5$ and one just to the right would be $x_R = 0.5$. \n",
    "\n",
    "Since $\\frac{dy}{dx} = 3x^2$, we have that: \n",
    "- $f'(x_L) = 3(x_L)^2 = 3 \\times -0.5 ^ 2 = 0.75 > 0$\n",
    "- $f'(x_R) = 3(x_R)^2 = 3 \\times 0.5 ^ 2 = 0.75 > 0$\n",
    "\n",
    "Both $f'(x_L) > 0$ and $f'(x_R) > 0$ are positive, so are of the same sign. \n",
    "Hence the stationary point at $x=0$ is a point of inflection. \n",
    "```\n",
    "\n",
    "<hr>\n",
    "\n",
    "We could check this using `sympy`. \n",
    "However, here we will use a graphical assessment by plotting the function, $x^3$. \n"
   ]
  },
  {
   "cell_type": "code",
   "execution_count": null,
   "id": "c887c147",
   "metadata": {
    "tags": [
     "hide-input"
    ]
   },
   "outputs": [],
   "source": [
    "x = np.linspace(-1, 1, 100)\n",
    "y = x ** 3\n",
    "\n",
    "plt.plot(x, y)\n",
    "plt.xlabel('$x$')\n",
    "plt.ylabel('$y$')\n",
    "plt.show()"
   ]
  },
  {
   "cell_type": "markdown",
   "id": "97efe0fe",
   "metadata": {},
   "source": [
    "The point of inflection is clear from the graph. \n",
    "\n",
    "````{admonition} Lennard-Jones Potential\n",
    ":class: chem\n",
    "The LennardJones potential describes the potential energy $v$ between two helium atoms, separated by a distance $r$. \n",
    "The equation and graph of this function are shown below: \n",
    "\n",
    "$$\n",
    "V(R) = \\frac{A}{r^{12}} - \\frac{B}{r^6}\n",
    "$$\n",
    "\n",
    "```{image} ./images/lennard-jones.png\n",
    ":alt: A plot of the Lennadrd Jones function with values of A = 1 and B = 1.\n",
    ":width: 80%\n",
    ":align: center\n",
    "```\n",
    "\n",
    "where $A$ and $B$ are constants. \n",
    "The two particles are at their equilibrium separation when the potential is at a minimum ($V$ is at a minimum). \n",
    "By differentiating this equation, with respect to $r$, find the equilibrium separation. \n",
    "\n",
    "*Solution:* To find the minimum $V$, we need to differentiate it and then set it equal to zero (find $\\frac{dV}{dr} = 0$). \n",
    "Then that value of $r$ will be where the potential is a minimum.\n",
    "Differentiating $V$ with respect to $r$ gives: \n",
    "\n",
    "$$\n",
    "\\frac{dV}{dr} = \\frac{-12A}{r^{13}} + \\frac{6B}{r^7}\n",
    "$$\n",
    "\n",
    "We need to find when $\\frac{dV}{dr} = 0$, we need to solve the equation:\n",
    "\n",
    "- Add $\\frac{-12A}{r^{13}}$ to both sides: $\\frac{6B}{r^7} = \\frac{12A}{r^{13}}$\n",
    "- Multiply each side by $r^{13}$ and divide by $6B$: $\\frac{r^{13}}{r^7} = \\frac{12A}{6B}$\n",
    "- Simplify both of the fractions: $r^6 = \\frac{2A}{B}$\n",
    "- That the 6th root of both sides: $r = \\left(\\frac{2A}{B}\\right)^{\\frac{1}{6}}$\n",
    "\n",
    "Hence the equilibrium separation is $r = \\left(\\frac{2A}{B}\\right)^{\\frac{1}{6}}$.\n",
    "````\n",
    "\n",
    "<hr>\n",
    "\n",
    "We can see this in Python, then compute and plot the equilibrium distance for any $A$ and $B$. "
   ]
  },
  {
   "cell_type": "code",
   "execution_count": null,
   "id": "dbb5a039",
   "metadata": {},
   "outputs": [],
   "source": [
    "A, B, r = symbols('A B r')\n",
    "\n",
    "V = A / r ** 12 - B / r ** 6\n",
    "\n",
    "first = stationary_points(V, r)\n",
    "first"
   ]
  },
  {
   "cell_type": "markdown",
   "id": "c0c70f2e",
   "metadata": {},
   "source": [
    "The notation above is slightly confusing, but all it says that there are two stationary points, one where $r$ is between 0 and positive infinity and another between negative infinity and 0. \n",
    "We are interested in the former as we can't have a distance between atoms of less than 0. \n",
    "We will evaluate this algebra for $A=1$ and $B=1$ and convert the results to a Numpy array. "
   ]
  },
  {
   "cell_type": "code",
   "execution_count": null,
   "id": "00be6ef8",
   "metadata": {},
   "outputs": [],
   "source": [
    "r_equil = np.array(list(first.evalf(subs={A: 1, B: 1})))\n",
    "r_equil"
   ]
  },
  {
   "cell_type": "markdown",
   "id": "c6e8b67e",
   "metadata": {},
   "source": [
    "You will notice there are two values of the equilibrium $r$. \n",
    "We are only interested in the one that is greater than 0, as outlined above. "
   ]
  },
  {
   "cell_type": "code",
   "execution_count": null,
   "id": "25063496",
   "metadata": {},
   "outputs": [],
   "source": [
    "r_equil = r_equil[r_equil > 0]\n",
    "r_equil"
   ]
  },
  {
   "cell_type": "markdown",
   "id": "a3f0b153",
   "metadata": {},
   "source": [
    "We can now plot the Lennard-Jones potential, and add a dashed line to show the equilibrium $r$ position."
   ]
  },
  {
   "cell_type": "code",
   "execution_count": null,
   "id": "fd8d2b47",
   "metadata": {},
   "outputs": [],
   "source": [
    "r = np.linspace(0.95, 5, 1000)\n",
    "V = 1 / r ** 12 - 1 / r ** 6\n",
    "\n",
    "plt.plot(r, V, label='Lennard-Jones potential')\n",
    "plt.axvline(r_equil, linestyle='--', color='k', label='Equilibrium $r$')\n",
    "plt.xlabel('$r$')\n",
    "plt.ylabel('$V$')\n",
    "plt.legend()\n",
    "plt.show()"
   ]
  },
  {
   "cell_type": "markdown",
   "id": "0172ec6d",
   "metadata": {},
   "source": [
    "<hr>"
   ]
  }
 ],
 "metadata": {
  "kernelspec": {
   "display_name": "kinisi-dev",
   "language": "python",
   "name": "python3"
  },
  "language_info": {
   "codemirror_mode": {
    "name": "ipython",
    "version": 3
   },
   "file_extension": ".py",
   "mimetype": "text/x-python",
   "name": "python",
   "nbconvert_exporter": "python",
   "pygments_lexer": "ipython3",
   "version": "3.11.13"
  }
 },
 "nbformat": 4,
 "nbformat_minor": 5
}
