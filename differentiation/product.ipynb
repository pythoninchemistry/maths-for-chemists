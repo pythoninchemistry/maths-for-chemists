{
 "cells": [
  {
   "cell_type": "markdown",
   "id": "109566db",
   "metadata": {},
   "source": [
    "# Product Rule\n",
    "\n",
    "Suppose we want to differentiate $y=x^2\\sin(x)$, then we encounter a problem: How to differentiate a function that is the product of two other functions, in this case $x^2$ and $\\sin(x)$.\n",
    "\n",
    "To do this, we need the product rule: \n",
    "\n",
    "> If the function $y = f(x)$ is written as the product of two functions, say $u(x)$ and $v(x)$ so\n",
    "> \n",
    "> $y = f(x) = u(x)v(x)$ then $\\frac{dy}{dx} = u\\frac{dv}{dx} + v\\frac{du}{dx}$. \n",
    "\n",
    "So returning to our example, we have $f(x) = x^2\\sin(x)$ with $u=x^2$ and $v = \\sin(x)$. \n",
    "\n",
    "First, we find that $\\frac{du}{dx} = 2x$ and $\\frac{dv}{dx} = \\cos(x)$, then we substitute into $\\frac{dy}{dx} = u\\frac{dv}{dx} + v\\frac{du}{dx}$. \n",
    "\n",
    "$$\n",
    "\\begin{aligned}\n",
    "\\frac{dy}{dx} & = x^2 \\cos(x) + \\sin(x)2x \\\\\n",
    " & = x[x \\cos(x) + 2\\sin(x)]\n",
    "\\end{aligned}\n",
    "$$\n",
    "\n",
    "```{admonition} Example\n",
    ":class: example\n",
    "\n",
    "Differentiate using the product rule: \n",
    "\n",
    "1. $y = x\\ln(x)$\n",
    "2. $y = 6e^x \\cos(x)$\n",
    "\n",
    "*Solution:* \n",
    "\n",
    "1. Take $u = x$ and $v = \\ln(x)$. We can now differentiate these to find that $\\frac{du}{dx} = 1$ and that $\\frac{dv}{dx} = \\frac{1}{x}$. \n",
    "\n",
    "- Using the product rule: \n",
    "\n",
    "$$ \n",
    "\\frac{dy}{dx} = u\\frac{du}{dx} + v\\frac{du}{dx}\n",
    "$$\n",
    "\n",
    "- Substitue in the quantities: \n",
    "\n",
    "$$\n",
    "\\frac{dy}{dx} = x\\left[\\frac{1}{x}\\right] + \\ln(x) (1)\n",
    "$$\n",
    "\n",
    "- Expand and simplify:\n",
    "\n",
    "$$\n",
    "\\frac{dy}{dx} = 1 + \\ln(x)\n",
    "$$\n",
    "\n",
    "2. For this, take $u=6e^x$ and $v=\\cos(x)$. Now we differentiate those to find that $\\frac{du}{x} = 6e^x$ and $\\frac{dv}{dx} = -\\sin(x)$. \n",
    "\n",
    "- By the product rule, we have: \n",
    "\n",
    "$$\n",
    "\\frac{dy}{dx} = u\\frac{dv}{dx} + v\\frac{du}{dx}\n",
    "$$\n",
    "\n",
    "- Substitute in the quantities: \n",
    "\n",
    "$$\n",
    "\\frac{dy}{dx} = 6e^x\\left[\\sin(x)\\right] + \\cos(x) \\left[6e^x\\right]\n",
    "$$\n",
    "\n",
    "- Expand the brackets: \n",
    "\n",
    "$$\n",
    "\\frac{dy}{dx} = -6e^x\\sin(x) + 6e^x\\cos(x) \n",
    "$$\n",
    "\n",
    "- Take a factor of $6e^x$ out:\n",
    "\n",
    "$$\n",
    "\\frac{dy}{dx} = 6e^x\\left[\\cos(x) - \\sin(x)\\right]\n",
    "$$\n",
    "```\n",
    "\n",
    "<hr>\n",
    "\n",
    "These can both be performed with `sympy`. "
   ]
  },
  {
   "cell_type": "code",
   "execution_count": null,
   "id": "3555a572",
   "metadata": {},
   "outputs": [],
   "source": [
    "from sympy import symbols, diff, log, cos, exp\n",
    "\n",
    "x = symbols('x')"
   ]
  },
  {
   "cell_type": "code",
   "execution_count": null,
   "id": "ee6fdc2b",
   "metadata": {},
   "outputs": [],
   "source": [
    "diff(x * log(x))"
   ]
  },
  {
   "cell_type": "markdown",
   "id": "dd7f642d",
   "metadata": {},
   "source": [
    "````{margin}\n",
    "```{note}\n",
    "You can test out using `sympy.simplify` to take out the common factor of this equation. \n",
    "However, be aware, the results may not be exactly what you expect. \n",
    "```\n",
    "````"
   ]
  },
  {
   "cell_type": "code",
   "execution_count": null,
   "id": "2bcc11d3",
   "metadata": {},
   "outputs": [],
   "source": [
    "diff(6 * exp(x) * cos(x))"
   ]
  },
  {
   "cell_type": "markdown",
   "id": "d0a9f2c2",
   "metadata": {},
   "source": [
    "<hr>\n",
    "\n",
    "```{admonition} Example\n",
    "Differentiate $y = \\frac{1}{3}(x^2 + 5x) \\sin(x)$.\n",
    "\n",
    "*Solution:* This is a product of two functions and we must use the product rule. \n",
    "\n",
    "Set $u=\\frac{1}{3}(x^2 + 5x)$ and $v = \\sin(x)$. \n",
    "\n",
    "We can differentiate to find that $\\frac{du}{dx} = \\frac{1}{3}(2x+5)$ and $\\frac{dv}{dx} = \\cos(x)$. \n",
    "\n",
    "- We now use the product rule: \n",
    "\n",
    "$$\n",
    "\\frac{dy}{dx} = u\\frac{dv}{dx} + v\\frac{du}{dx}\n",
    "$$\n",
    "\n",
    "- Substitute in what we've worked out: \n",
    "\n",
    "$$\n",
    "\\frac{dy}{dx} = \\frac{1}{3} (x^2 + 5x) \\left[\\cos(x)\\right] + \\sin(x) \\left[\\frac{1}{3}(2x + 5)\\right]\n",
    "$$\n",
    "\n",
    "- Simplify by taking a factor of $\\frac{1}{3}$ out\n",
    "\n",
    "$$\n",
    "\\frac{dy}{dx} = \\frac{1}{3}\\left[(x^2 + 5x) \\cos(x) + (2x+5)\\sin(x)\\right]\n",
    "$$\n",
    "\n",
    "The end result looks complicated and ugly, but it is nicer than having all the brackets expanded. \n",
    "```\n",
    "\n",
    "<hr>\n",
    "\n",
    "We can check the result with `sympy`. "
   ]
  },
  {
   "cell_type": "code",
   "execution_count": null,
   "id": "797f9607",
   "metadata": {},
   "outputs": [],
   "source": [
    "from sympy import sin\n",
    "\n",
    "diff((1 / 3) * (x ** 2 + 5 * x) * sin(x))"
   ]
  },
  {
   "cell_type": "markdown",
   "id": "1d9bd92b",
   "metadata": {},
   "source": [
    "Again this is quite *ugly* but we can see that the answer is correct. "
   ]
  }
 ],
 "metadata": {
  "kernelspec": {
   "display_name": "m4c",
   "language": "python",
   "name": "python3"
  },
  "language_info": {
   "codemirror_mode": {
    "name": "ipython",
    "version": 3
   },
   "file_extension": ".py",
   "mimetype": "text/x-python",
   "name": "python",
   "nbconvert_exporter": "python",
   "pygments_lexer": "ipython3",
   "version": "3.11.11"
  }
 },
 "nbformat": 4,
 "nbformat_minor": 5
}
