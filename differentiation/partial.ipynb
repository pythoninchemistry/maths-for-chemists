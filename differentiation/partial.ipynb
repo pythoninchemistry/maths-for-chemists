{
 "cells": [
  {
   "cell_type": "markdown",
   "id": "e22827c8",
   "metadata": {},
   "source": [
    "# Partial Differentiation\n",
    "\n",
    "Often we encounter quantities that depend on more than one variable. \n",
    "For example, the enthalpy, $H$, of a system depends on the pressure, $p$, and temperature, $T$. \n",
    "Another case is the ideal gas equation, as seen below: \n",
    "\n",
    "$$\n",
    "p = \\frac{nRT}{V}\n",
    "$$\n",
    "\n",
    "The pressure, $p$, of a gas depends on its volume, $V$, and the temperature, $T$, it is at. \n",
    "We often find it useful to calculate how one variable changes with another, while the remaining variables are seen to be constant. \n",
    "\n",
    "Recell, we can use the notation $y=f(x, z)$ to mean that $y$ is a function of $x$ and $z$, where $x$ and $z$ are independent variables. \n",
    "For example: \n",
    "\n",
    "$$\n",
    "y = x^2+zx\n",
    "$$\n",
    "\n",
    "We use partial derivatives to differentiate functions with multiple variables. \n",
    "We do this by differentiating with respect to one variable and treating all other variables as constants. \n",
    "So for $y=f(x, z)$, the partial derivative of $y$ with respect to $x$ is denoted: \n",
    "\n",
    "$$\n",
    "\\left(\\frac{\\partial y}{\\partial x}\\right)_z.\n",
    "$$\n",
    "\n",
    "````{margin}\n",
    "```{note}\n",
    "Some books just use the notation $\\frac{\\partial y}{\\partial x}$, taking it as understood that all other variables except $x$ are taken as constant. \n",
    "```\n",
    "````\n",
    "\n",
    "The curvey symbol, $\\partial$, informs us that we perform partial differentiation with respect to $x$, while the subscript variable, in this case $z$, is being considered as a constant. \n",
    "\n",
    "```{admonition} Example\n",
    ":class: example\n",
    "\n",
    "So, going back to our example, $y=x^2 +zx$. Find $\\left(\\frac{\\partial y}{\\partial x}\\right)_z$\n",
    "\n",
    "*Solution:* We note: \n",
    "\n",
    "- The curvey symbol, $\\partial$, informs us that we perform partial differentiation. \n",
    "- We are differentiating $y$ with respect to $x$.\n",
    "- We treat $z$ as a constant. \n",
    "\n",
    "So we differentiate the $x^2$ terms as usual to get $2x$. \n",
    "Then we differentiate the $zx$ term, treating $z$ as a constants, so this gives $z$. \n",
    "Hence: \n",
    "\n",
    "$$\n",
    "\\left(\\frac{\\partial y}{\\partial x}\\right)_z = 2x+z\n",
    "$$\n",
    "```\n",
    "\n",
    "<hr>\n",
    "\n",
    "`sympy` can perform partial differentiation by passing a symbol to differentiate with respect to. "
   ]
  },
  {
   "cell_type": "code",
   "execution_count": null,
   "id": "4de92fe0",
   "metadata": {},
   "outputs": [],
   "source": [
    "from sympy import symbols, diff\n",
    "\n",
    "x, z = symbols('x z')\n",
    "\n",
    "y = x ** 2 + z * x\n",
    "\n",
    "diff(y, x)"
   ]
  },
  {
   "cell_type": "markdown",
   "id": "75c7348a",
   "metadata": {},
   "source": [
    "<hr>\n",
    "\n",
    "```{admonition} Example\n",
    ":class: example\n",
    "\n",
    "For $y=2\\ln(z) + \\sin(zx)$, find $\\left(\\frac{\\partial y}{\\partial x}\\right)_z$ and $\\left(\\frac{\\partial y}{\\partial z}\\right)_x$.\n",
    "\n",
    "*Solution:* \n",
    "\n",
    "For $\\left(\\frac{\\partial y}{\\partial x}\\right)_z$, we treat $z$ as a constant and differentiate with respect to $x$. \n",
    "\n",
    "$$\n",
    "\\begin{aligned}\n",
    "\\left(\\frac{\\partial y}{\\partial x}\\right)_z & = \\frac{\\partial}{\\partial x} 2\\ln(z) + \\frac{\\partial}{\\partial x} \\sin(zx) \\\\ \n",
    " & = 0 + z\\cos(zx) = z\\cos(zx)\n",
    "\\end{aligned}\n",
    "$$\n",
    "\n",
    "For $\\left(\\frac{\\partial y}{\\partial z}\\right)_x$, we treat $x$ like a constatn and then differentiate with respect to $z$.\n",
    "\n",
    "$$\n",
    "\\begin{aligned}\n",
    "\\left(\\frac{\\partial y}{\\partial z}\\right)_x & = \\frac{\\partial}{\\partial z} 2\\ln(z) + \\frac{\\partial}{\\partial z} \\sin(zx) \\\\ \n",
    " & = \\frac{2}{z} + x\\cos(zx)\n",
    "\\end{aligned}\n",
    "$$\n",
    "\n",
    "```\n",
    "\n",
    "<hr>\n",
    "\n",
    "With `sympy`, we jsut change the symbol argument. "
   ]
  },
  {
   "cell_type": "code",
   "execution_count": null,
   "id": "81403bbc",
   "metadata": {},
   "outputs": [],
   "source": [
    "from sympy import log, sin\n",
    "\n",
    "y = 2 * log(z) + sin(z * x)\n",
    "\n",
    "diff(y, x)"
   ]
  },
  {
   "cell_type": "code",
   "execution_count": null,
   "id": "691c354a",
   "metadata": {},
   "outputs": [],
   "source": [
    "diff(y, z)"
   ]
  },
  {
   "cell_type": "markdown",
   "id": "0b71c309",
   "metadata": {},
   "source": [
    "<hr>\n",
    "\n",
    "```{admonition} Ideal Gas Equation\n",
    ":class: chem\n",
    "\n",
    "The ideal gas equation is $pV = nRT$. Find: \n",
    "\n",
    "1. $\\left(\\frac{\\partial V}{\\partial T}\\right)_p$\n",
    "\n",
    "2. $\\left(\\frac{\\partial T}{\\partial p}\\right)_V$\n",
    "\n",
    "*Solution:* \n",
    "\n",
    "1. To be able to find $\\left(\\frac{\\partial V}{\\partial T}\\right)_p$, we must first make $V$ the subject in the equation. \n",
    "This is done by dividing both side by $p$ to produce $V = \\frac{nRT}{p}$. \n",
    "\n",
    "    Now we differentiate with respect to $T$ taking $p$ to be a constant. \n",
    "\n",
    "    $$\n",
    "    \\begin{aligned}\n",
    "    \\left(\\frac{\\partial V}{\\partial T}\\right)_p & = \\frac{\\partial}{\\partial T} \\left(\\frac{nRT}{p}\\right) \\\\ \n",
    "    & = \\frac{nR}{p}\n",
    "    \\end{aligned}\n",
    "    $$\n",
    "\n",
    "    This is Charles' law, at constant pressure, the volume of a gas is directly proportional to the temperature. \n",
    "\n",
    "2. We do the same process to find $\\left(\\frac{\\partial T}{\\partial p}\\right)_V$. \n",
    "First make $T$ the subject by dividing both sides by $nR$ to obtain $T = \\frac{PV}{nR}$. \n",
    "\n",
    "    As before, we then differentiate, treating $V$ as a constant, this time we get: \n",
    "\n",
    "    $$\n",
    "    \\begin{aligned}\n",
    "    \\left(\\frac{\\partial T}{\\partial p}\\right)_V & = \\frac{\\partial}{\\partial p}\\left(\\frac{pV}{nR}\\right) \\\\\n",
    "     & = \\frac{V}{nR}\n",
    "    \\end{aligned}\n",
    "    $$\n",
    "\n",
    "    This is Gay-Lussac's (or the pressure) law: under fixed volume, the pressure is proportional to the temperature. \n",
    "\n",
    "```\n",
    "\n",
    "<hr> \n",
    "\n",
    "We can use `sympy` to define the following equality.\n",
    "\n",
    "$$\n",
    "pV = nRT\n",
    "$$"
   ]
  },
  {
   "cell_type": "code",
   "execution_count": null,
   "id": "9d3d6a79",
   "metadata": {},
   "outputs": [],
   "source": [
    "from sympy import solve, Eq\n",
    "\n",
    "p, V, n, R, T = symbols('p V n R T')\n",
    "\n",
    "ideal_gas = Eq(p * V, n * R * T)"
   ]
  },
  {
   "cell_type": "markdown",
   "id": "98c63c29",
   "metadata": {},
   "source": [
    "Then for Charles' law, we solve for $V$. \n",
    "\n",
    "````{margin}\n",
    "```{admonition} Python Note\n",
    ":class: python\n",
    "Since there may be more than one solution, i.e., if there was a square root, a list is returned.\n",
    "Hence we take the first index. \n",
    "```\n",
    "````"
   ]
  },
  {
   "cell_type": "code",
   "execution_count": null,
   "id": "b1f2b129",
   "metadata": {},
   "outputs": [],
   "source": [
    "ideal_gas_V = solve(ideal_gas, V)[0]\n",
    "ideal_gas_V"
   ]
  },
  {
   "cell_type": "markdown",
   "id": "b5740b6b",
   "metadata": {},
   "source": [
    "This can be differentiated with respect to $T$. "
   ]
  },
  {
   "cell_type": "code",
   "execution_count": null,
   "id": "b56a2e30",
   "metadata": {},
   "outputs": [],
   "source": [
    "diff(ideal_gas_V, T)"
   ]
  },
  {
   "cell_type": "markdown",
   "id": "85d4ba4b",
   "metadata": {},
   "source": [
    "The same process can then be followed with the `ideal_gas` object to find $\\left(\\frac{\\partial T}{\\partial p}\\right)_V$. "
   ]
  },
  {
   "cell_type": "code",
   "execution_count": null,
   "id": "4e04c75a",
   "metadata": {},
   "outputs": [],
   "source": [
    "diff(solve(ideal_gas, T)[0], p)"
   ]
  },
  {
   "cell_type": "markdown",
   "id": "f5af7929",
   "metadata": {},
   "source": [
    "<hr>"
   ]
  }
 ],
 "metadata": {
  "kernelspec": {
   "display_name": "m4c",
   "language": "python",
   "name": "python3"
  },
  "language_info": {
   "codemirror_mode": {
    "name": "ipython",
    "version": 3
   },
   "file_extension": ".py",
   "mimetype": "text/x-python",
   "name": "python",
   "nbconvert_exporter": "python",
   "pygments_lexer": "ipython3",
   "version": "3.11.11"
  }
 },
 "nbformat": 4,
 "nbformat_minor": 5
}
