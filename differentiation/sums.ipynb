{
 "cells": [
  {
   "cell_type": "markdown",
   "id": "92deed01",
   "metadata": {},
   "source": [
    "# Differentiating a Sum\n",
    "\n",
    "If we have multiple terms in the form of a sum, for example $y=x^3+bx+1$, then in order to find $\\frac{dy}{dx}$, we apply the differential operator on each of the terms in term. \n",
    "So in other words, we differentiate each part of the sum one by one. \n",
    "\n",
    "Consider $y = x^3 + 8x + 1$. \n",
    "If we want to find $\\frac{dy}{dx}$, then we would apply the $\\frac{d}{dx}$ operator to both sides of the equation giving us: \n",
    "\n",
    "- Starting from: $\\frac{dy}{dx} = \\frac{d}{dx} (x^3 + 8x + 1)$\n",
    "- Now we apply the $\\frac{d}{dx}$ operator to each term: $\\frac{dy}{dx} = \\frac{d}{dx}(x^3) + \\frac{d}{dx}(8x) + \\frac{d}{dx}(1)$\n",
    "- Now we differentiate each of the terms individually: $3x^2 + 8 + 0$\n",
    "- Now simplify: $3x^2 + 8$\n",
    "\n",
    "<hr>\n",
    "\n",
    "Let's see that in Python. \n"
   ]
  },
  {
   "cell_type": "code",
   "execution_count": null,
   "metadata": {
    "trusted": true
   },
   "outputs": [],
   "source": [
    "from sympy import symbols, diff\n",
    "\n",
    "x = symbols('x')\n",
    "\n",
    "diff(x ** 3 + 8 * x + 1)"
   ]
  },
  {
   "cell_type": "markdown",
   "metadata": {},
   "source": [
    "```{admonition} Example\n",
    ":class: example \n",
    "\n",
    "Differentiate the following: \n",
    "\n",
    "1. $y = e^x + 4x^6$\n",
    "2. $y = \\ln{(2x)} + \\frac{1}{3}\\sin{(9x)}$\n",
    "\n",
    "*Solution:*\n",
    "\n",
    "1. To differentiate $y$, we differentiate all of the terms individually.\n",
    "   We use the rules for differentiating exponentials and powers to get: \n",
    "   \n",
    "$$\n",
    "y = e^x + 4x^6 \\Rightarrow \\frac{dy}{dx} = e^x + 4 \\times 6x^5 = e^x + 24x^5\n",
    "$$\n",
    "\n",
    "2. Same as the example before, we differentiate each term. \n",
    "\n",
    "$$\n",
    "y = \\ln{(2x)} + \\frac{1}{3}\\sin({9x)} \\Rightarrow \\frac{dy}{dx} = \\frac{1}{x} + \\frac{1}{3}\\times 9\\cos{(9x)} = \\frac{1}{x} + 3\\cos{(9x)}\n",
    "$$\n",
    "```\n",
    "\n",
    "```{admonition} Example\n",
    ":class: Example\n",
    "\n",
    "Differentiate $z = \\cos{(4t)} + 6e^t + t^5 + 2t^2 + 7$ with respect to $t$. \n",
    "\n",
    "*Solution:* This question is different as our equation is not in terms of $y$ and $x$, but instead in terms of $z$ and $t$. \n",
    "We treat this in the same way as if the terms were $y$ and $x$, so we differentiate each term individually. \n",
    "\n",
    "$$\n",
    "\\frac{dz}{dt} = -4\\sin{(4t)} + 6e^t + 5t^4 + 4t\n",
    "$$\n",
    "```"
   ]
  },
  {
   "cell_type": "code",
   "execution_count": null,
   "metadata": {
    "trusted": true
   },
   "outputs": [],
   "source": [
    "from sympy import cos, exp\n",
    "\n",
    "t = symbols('t')\n",
    "\n",
    "diff(cos(4 * t) + 6 * exp(t) + t ** 5 + 2 * t ** 2 + 7)"
   ]
  },
  {
   "cell_type": "markdown",
   "metadata": {},
   "source": [
    "```{admonition} Onsager Equation\n",
    ":class: chem\n",
    "\n",
    "The Onsager equation $\\Lambda = \\Lambda^\\circ - b\\sqrt{c}$ describes the relationship between the conductivity $\\Lambda$ of a simple ionic salt in solution and the concentration $c$ where the limiting conductivity $\\Lambda^\\circ$ and $b$ are constants. Find $\\frac{d\\Lambda}{dc}$. \n",
    "\n",
    "*Solution:* As with the previous example, we aren't using $y$ and $x$. \n",
    "We can write $\\sqrt{c}$ as the fractional power $c^{\\frac{1}{2}}$. \n",
    "This gives us $\\Lambda = \\Lambda^\\circ - bc^{\\frac{1}{2}$. \n",
    "- We can then differentiate this with respect to $c$: $\\frac{d\\Lambda}{c} = \\frac{d}{dc}(\\Lambda^\\circ) - b\\frac{d}{dc}\\left(c^{\\frac{1}{2}}\\right)$\n",
    "- We can now differentiate each of the terms: $\\frac{d\\Lambda}{dc} = 0 - b\\left(\\frac{1}{2}c^{-\\frac{1}{2}}\\right)$\n",
    "- Then expand and simplify: $\\frac{d\\Lambda}{dc} = -\\frac{b}{2}c^{-\\frac{1}{2}}$\n",
    "```"
   ]
  },
  {
   "cell_type": "code",
   "execution_count": null,
   "metadata": {
    "trusted": true
   },
   "outputs": [],
   "source": [
    "from sympy import sqrt\n",
    "\n",
    "b, c, Lambda_o = symbols('b, c, \\Lambda^\\circ')\n",
    "\n",
    "diff(Lambda_o - b * sqrt(c), c)"
   ]
  }
 ],
 "metadata": {
  "kernelspec": {
   "display_name": "Python 3",
   "language": "python",
   "name": "python3"
  },
  "language_info": {
   "codemirror_mode": {
    "name": "ipython",
    "version": 3
   },
   "file_extension": ".py",
   "mimetype": "text/x-python",
   "name": "python",
   "nbconvert_exporter": "python",
   "pygments_lexer": "ipython3",
   "version": "3.10.4"
  }
 },
 "nbformat": 4,
 "nbformat_minor": 5
}
