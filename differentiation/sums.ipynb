{
 "cells": [
  {
   "metadata": {},
   "id": "92deed01",
   "cell_type": "markdown",
   "source": "# Differentiating a Sum\n\nIf we have multiple terms in the form of a sum, for example $y=x^3+bx+1$, then in order to find $\\frac{dy}{dx}$, we apply the differential operator on each of the terms in term. \nSo in other words, we differentiate each part of the sum one by one. \n\nConsider $y = x^3 + 8x + 1$. \nIf we want to find $\\frac{dy}{dx}$, then we would apply the $\\frac{d}{dx}$ operator to both sides of the equation giving us: \n\n- Starting from: $\\frac{dy}{dx} = \\frac{d}{dx} (x^3 + 8x + 1)$\n- Now we apply the $\\frac{d}{dx}$ operator to each term: $\\frac{dy}{dx} = \\frac{d}{dx}(x^3) + \\frac{d}{dx}(8x) + \\frac{d}{dx}(1)$\n- Now we differentiate each of the terms individually: $3x^2 + 8 + 0$\n- Now simplify: $3x^2 + 8$\n\n<hr>\n\nLet's see that in Python. \n"
  },
  {
   "metadata": {
    "trusted": true
   },
   "cell_type": "code",
   "source": "from sympy import symbols, diff\n\nx = symbols('x')\n\ndiff(x ** 3 + 8 * x + 1)",
   "execution_count": 1,
   "outputs": [
    {
     "output_type": "execute_result",
     "execution_count": 1,
     "data": {
      "text/plain": "3*x**2 + 8",
      "text/latex": "$\\displaystyle 3 x^{2} + 8$"
     },
     "metadata": {}
    }
   ]
  },
  {
   "metadata": {},
   "cell_type": "markdown",
   "source": "```{admonition} Example\n:class: example \n\nDifferentiate the following: \n\n1. $y = e^x + 4x^6$\n2. $y = \\ln{(2x)} + \\frac{1}{3}\\sin{(9x)}$\n\n*Solution:*\n\n1. To differentiate $y$, we differentiate all of the terms individually.\n   We use the rules for differentiating exponentials and powers to get: \n   \n$$\ny = e^x + 4x^6 \\Rightarrow \\frac{dy}{dx} = e^x + 4 \\times 6x^5 = e^x + 24x^5\n$$\n\n2. Same as the example before, we differentiate each term. \n\n$$\ny = \\ln{(2x)} + \\frac{1}{3}\\sin({9x)} \\Rightarrow \\frac{dy}{dx} = \\frac{1}{x} + \\frac{1}{3}\\times 9\\cos{(9x)} = \\frac{1}{x} + 3\\cos{(9x)}\n$$\n```\n\n```{admonition} Example\n:class: Example\n\nDifferentiate $z = \\cos{(4t)} + 6e^t + t^5 + 2t^2 + 7$ with respect to $t$. \n\n*Solution:* This question is different as our equation is not in terms of $y$ and $x$, but instead in terms of $z$ and $t$. \nWe treat this in the same way as if the terms were $y$ and $x$, so we differentiate each term individually. \n\n$$\n\\frac{dz}{dt} = -4\\sin{(4t)} + 6e^t + 5t^4 + 4t\n$$\n```"
  },
  {
   "metadata": {
    "trusted": true
   },
   "cell_type": "code",
   "source": "from sympy import cos, exp\n\nt = symbols('t')\n\ndiff(cos(4 * t) + 6 * exp(t) + t ** 5 + 2 * t ** 2 + 7)",
   "execution_count": 2,
   "outputs": [
    {
     "output_type": "execute_result",
     "execution_count": 2,
     "data": {
      "text/plain": "5*t**4 + 4*t + 6*exp(t) - 4*sin(4*t)",
      "text/latex": "$\\displaystyle 5 t^{4} + 4 t + 6 e^{t} - 4 \\sin{\\left(4 t \\right)}$"
     },
     "metadata": {}
    }
   ]
  },
  {
   "metadata": {},
   "cell_type": "markdown",
   "source": "```{admonition} Onsager Equation\n:class: chem\n\nThe Onsager equation $\\Lambda = \\Lambda^\\circ - b\\sqrt{c}$ describes the relationship between the conductivity $\\Lambda$ of a simple ionic salt in solution and the concentration $c$ where the limiting conductivity $\\Lambda^\\circ$ and $b$ are constants. Find $\\frac{d\\Lambda}{dc}$. \n\n*Solution:* As with the previous example, we aren't using $y$ and $x$. \nWe can write $\\sqrt{c}$ as the fractional power $c^{\\frac{1}{2}}$. \nThis gives us $\\Lambda = \\Lambda^\\circ - bc^{\\frac{1}{2}$. \n- We can then differentiate this with respect to $c$: $\\frac{d\\Lambda}{c} = \\frac{d}{dc}(\\Lambda^\\circ) - b\\frac{d}{dc}\\left(c^{\\frac{1}{2}}\\right)$\n- We can now differentiate each of the terms: $\\frac{d\\Lambda}{dc} = 0 - b\\left(\\frac{1}{2}c^{-\\frac{1}{2}}\\right)\n- Then expand and simplify: $\\frac{d\\Lambda}{dc} = -\\frac{b}{2}c^{-\\frac{1}{2}}$\n```\n"
  },
  {
   "metadata": {
    "trusted": true
   },
   "cell_type": "code",
   "source": "from sympy import sqrt\n\nb, c, Lambda_o = symbols('b, c, \\Lambda^\\circ')\n\ndiff(Lambda_o - b * sqrt(c), c)",
   "execution_count": 4,
   "outputs": [
    {
     "output_type": "execute_result",
     "execution_count": 4,
     "data": {
      "text/plain": "-b/(2*sqrt(c))",
      "text/latex": "$\\displaystyle - \\frac{b}{2 \\sqrt{c}}$"
     },
     "metadata": {}
    }
   ]
  }
 ],
 "metadata": {
  "language_info": {
   "name": "python",
   "version": "3.10.4",
   "mimetype": "text/x-python",
   "codemirror_mode": {
    "name": "ipython",
    "version": 3
   },
   "pygments_lexer": "ipython3",
   "nbconvert_exporter": "python",
   "file_extension": ".py"
  },
  "kernelspec": {
   "name": "python3",
   "display_name": "Python 3",
   "language": "python"
  }
 },
 "nbformat": 4,
 "nbformat_minor": 5
}