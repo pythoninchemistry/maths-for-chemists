{
 "cells": [
  {
   "metadata": {},
   "id": "92deed01",
   "cell_type": "markdown",
   "source": "# Differentiating a Sum\n\nIf we have multiple terms in the form of a sum, for example $y=x^3+bx+1$, then in order to find $\\frac{dy}{dx}$, we apply the differential operator on each of the terms in term. \nSo in other words, we differentiate each part of the sum one by one. \n\nConsider $y = x^3 + 8x + 1$. \nIf we want to find $\\frac{dy}{dx}$, then we would apply the $\\frac{d}{dx}$ operator to both sides of the equation giving us: "
  },
  {
   "metadata": {
    "trusted": true
   },
   "cell_type": "code",
   "source": "",
   "execution_count": null,
   "outputs": []
  }
 ],
 "metadata": {
  "language_info": {
   "name": "python",
   "version": "3.10.4",
   "mimetype": "text/x-python",
   "codemirror_mode": {
    "name": "ipython",
    "version": 3
   },
   "pygments_lexer": "ipython3",
   "nbconvert_exporter": "python",
   "file_extension": ".py"
  },
  "kernelspec": {
   "name": "python3",
   "display_name": "Python 3",
   "language": "python"
  }
 },
 "nbformat": 4,
 "nbformat_minor": 5
}