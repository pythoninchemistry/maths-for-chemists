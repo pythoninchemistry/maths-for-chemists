{
 "cells": [
  {
   "cell_type": "markdown",
   "id": "92deed01",
   "metadata": {},
   "source": [
    "# Differentiating a Sum"
   ]
  }
 ],
 "metadata": {
  "language_info": {
   "name": "python"
  }
 },
 "nbformat": 4,
 "nbformat_minor": 5
}
