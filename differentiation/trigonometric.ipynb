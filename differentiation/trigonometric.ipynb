{
 "cells": [
  {
   "cell_type": "markdown",
   "id": "794d48d5",
   "metadata": {},
   "source": [
    "# Differentiating Trigonometric Functions\n",
    "\n",
    "Below, we have the rules for differentiating trigonometric functions: \n",
    "\n",
    "$$\n",
    "\\textrm{If }y = \\sin{(x)}\\textrm{ then }\\frac{dy}{dx} = \\cos{(x)}\n",
    "$$\n",
    "\n",
    "$$\n",
    "\\textrm{If }y = \\cos{(x)}\\textrm{ then }\\frac{dy}{dx} = -\\sin{(x)}\n",
    "$$\n",
    "\n",
    "When we have constants multiplying the trigonometric functions and coefficients multiplying our $x$, we can use the following rules: \n",
    "\n",
    "$$\n",
    "\\textrm{If }y = a\\sin{(bx)}\\textrm{ then }\\frac{dy}{dx} = a \\times b \\times \\cos{(x)}\n",
    "$$\n",
    "\n",
    "$$\n",
    "\\textrm{If }y = a\\cos{(bx)}\\textrm{ then }\\frac{dy}{dx} = -a \\times b \\times \\sin{(x)}\n",
    "$$\n",
    "\n",
    "```{admonition} Example\n",
    ":class: example\n",
    "\n",
    "Differentiate: \n",
    "\n",
    "1. $y = \\sin(9x)$\n",
    "2. $y = 4 \\cos\\left(\\frac{x}{2}\\right)$\n",
    "3. $y = -2\\cos(7x)$\n",
    "\n",
    "*Solution:*\n",
    "\n",
    "1. Using the rule: \n",
    "\n",
    "$$\n",
    "\\textrm{If }y = a\\sin{(bx)}\\textrm{ then }\\frac{dy}{dx} = a \\times b \\times \\cos{(x)}\n",
    "$$\n",
    "\n",
    "Now that we have $y=\\sin(9x)$, so $a=1$ and $b=9$. So $\\frac{dy}{dx} = 9\\cos(9x)$. \n",
    "\n",
    "2. Using the rule:\n",
    "\n",
    "$$\n",
    "\\textrm{If }y = a\\cos{(bx)}\\textrm{ then }\\frac{dy}{dx} = -a \\times b \\times \\sin{(x)}\n",
    "$$\n",
    "\n",
    "Not that we have $y=4\\cos\\left(\\frac{x}{2}\\right)$, so $a=4$ and $b=\\frac{1}{2}$\n",
    "\n",
    "$$\n",
    "\\frac{dy}{dx} = -4 \\times \\frac{1}{2} \\times \\sin\\left(\\frac{x}{2}\\right) = -2\\sin\\left(\\frac{x}{2}\\right).\n",
    "$$\n",
    "\n",
    "3. Using the rule: \n",
    "\n",
    "$$\n",
    "\\textrm{If }y = a\\cos{(bx)}\\textrm{ then }\\frac{dy}{dx} = -a \\times b \\times \\sin{(x)}\n",
    "$$\n",
    "\n",
    "Note that we have $y=-2\\cos(7x)$, so $a=-2$ and $b=7$\n",
    "\n",
    "$$\n",
    "\\frac{dy}{dx} = -(-2) \\times (7\\sin(7x)) = 14\\sin(7x).\n",
    "$$\n",
    "\n",
    "```\n",
    "\n",
    "<hr>\n",
    "\n",
    "The `sympy` symbolic differentiation can be used for trigonometric functions. \n",
    "However, we must use the `sympy` versions of `sin` and `cos`. "
   ]
  },
  {
   "cell_type": "code",
   "execution_count": null,
   "id": "3369d54f",
   "metadata": {},
   "outputs": [],
   "source": [
    "from sympy import symbols, diff, sin, cos\n",
    "\n",
    "x = symbols('x')\n",
    "\n",
    "diff(sin(9 * x))"
   ]
  },
  {
   "cell_type": "code",
   "execution_count": null,
   "id": "cb774c0f",
   "metadata": {},
   "outputs": [],
   "source": [
    "diff(4 * cos(x / 2))"
   ]
  },
  {
   "cell_type": "code",
   "execution_count": null,
   "id": "93ccc91c",
   "metadata": {},
   "outputs": [],
   "source": [
    "diff(-2 * cos(7 * x))"
   ]
  },
  {
   "cell_type": "markdown",
   "id": "24d745f0",
   "metadata": {},
   "source": [
    "<hr>\n",
    "\n",
    "```{admonition} Bragg Equation\n",
    ":class: chem\n",
    "\n",
    "In X-ray crystallography, the Bragg equation relates the distance $d$ between successive layers in a crystal, the wavelength of the X-rays, $\\lambda$, an integer $n$, and the angle through which the X-rays are scattered, $\\theta$, in the equation: \n",
    "\n",
    "$$\n",
    "\\lambda = \\frac{2d}{n}\\sin{\\theta}\n",
    "$$\n",
    "\n",
    "What is the rate of change of $\\lambda$ with $\\theta$?\n",
    "\n",
    "*Solution:* The question is asking us to find $\\frac{d\\lambda}{d\\theta}$. \n",
    "So as $n$ and $d$ are constants, we can use the rule:\n",
    "\n",
    "$$\n",
    "\\textrm{If }y = a\\sin{(bx)}\\textrm{ then }\\frac{dy}{dx} = a \\times b \\times \\cos{(x)}\n",
    "$$\n",
    "\n",
    "So we have $a=\\left(\\frac{2d}{n}\\right)$ and $b=1$, with $\\lambda$ as $y$ and $\\theta$ as $x$, therefore: \n",
    "\n",
    "$$\n",
    "\\frac{d\\lambda}{d\\theta} = \\left(\\frac{2d}{n}\\right) \\times 1 \\times cos\\theta = \\frac{2d}{n}\\cos\\theta.\n",
    "$$\n",
    "```\n",
    "\n",
    "<hr>"
   ]
  },
  {
   "cell_type": "code",
   "execution_count": null,
   "id": "a83c8bae",
   "metadata": {},
   "outputs": [],
   "source": [
    "n, d, theta = symbols(r'n d \\theta')\n",
    "\n",
    "diff(2 * d / n * sin(theta), theta)"
   ]
  }
 ],
 "metadata": {
  "kernelspec": {
   "display_name": "m4c",
   "language": "python",
   "name": "python3"
  },
  "language_info": {
   "codemirror_mode": {
    "name": "ipython",
    "version": 3
   },
   "file_extension": ".py",
   "mimetype": "text/x-python",
   "name": "python",
   "nbconvert_exporter": "python",
   "pygments_lexer": "ipython3",
   "version": "3.11.11"
  }
 },
 "nbformat": 4,
 "nbformat_minor": 5
}
