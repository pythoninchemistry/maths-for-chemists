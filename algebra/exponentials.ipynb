{
 "cells": [
  {
   "cell_type": "markdown",
   "id": "b14849ae",
   "metadata": {},
   "source": [
    "# Exponentials \n",
    "\n",
    "We may use the term \"exponential growth\" as a way to describe the rate of a reaction as the temperature increases. \n",
    "In using this phrase, we are describing a very fast rate of increase. \n",
    "We can represent this idea mathematically with one of the simplest exponential equations: \n",
    "\n",
    "$$\n",
    "y = a^x\n",
    "$$\n",
    "\n",
    "where, $a$ is a constant, $x$ is the controlled variable (in the above case, temperature), and $y$ is the observed variable (in the above case, rate of reaction). "
   ]
  },
  {
   "cell_type": "code",
   "execution_count": null,
   "id": "941de10e",
   "metadata": {
    "tags": [
     "hide-input"
    ]
   },
   "outputs": [],
   "source": [
    "import numpy as np\n",
    "import matplotlib.pyplot as plt\n",
    "\n",
    "x = np.linspace(-4, 6, 100)\n",
    "y = 2 ** x\n",
    "\n",
    "fig, ax = plt.subplots()\n",
    "ax.plot(x, y)\n",
    "ax.set_xlabel('x')\n",
    "ax.set_ylabel('y')\n",
    "plt.show()"
   ]
  },
  {
   "cell_type": "markdown",
   "id": "f701a083",
   "metadata": {},
   "source": [
    "Above, we have the graph of $y=2^x$ and we can see the graph increases at a very fast rate, which is what we would expect with exponential growh. \n",
    "Other mathematical things to note are: \n",
    "- The graph passes through the point (0, 1), as any variable raised to the power of 0 is equal to 1. \n",
    "- The values of $y$ are small and positive when $x$ is negative. \n",
    "- The values of $y$ are large and positive when $x$ is postive. \n",
    "\n",
    "## The Exponential Function\n",
    "\n",
    "So far, we have used the word exponential to describe equations in the form $y=a^x$. \n",
    "However, the word is usually reserved to describe a special type of function. \n",
    "It is quite likely we will have see the symbol &pi; before, and know it represented the irrational number 3.14159265.... \n",
    "In this section, we will be working with the number: \n",
    "\n",
    "$$\n",
    "e = 2.7182818\\ldots\n",
    "$$\n",
    "\n",
    "````{margin}\n",
    "```{note}\n",
    "Another notation for $e^x$ is $\\exp(x)$. \n",
    "They mean the same thing. \n",
    "```\n",
    "````\n",
    "\n",
    "Like &pi;, *e* is another number that goes on forever!\n",
    "when we refer to **the** exponential function, we mean $y=e^x$. \n",
    "This can be seen as a special case of the previous section, when the constant is $a=e$, in the equation $y=a^x$. \n",
    "When we refer to $e^x$, we say \"*e* to the *x*\". \n",
    "\n",
    "<hr>\n",
    "\n",
    "There are two ways to access the value *e* in Python. "
   ]
  },
  {
   "cell_type": "code",
   "execution_count": null,
   "id": "0fd90b61",
   "metadata": {},
   "outputs": [],
   "source": [
    "import numpy as np\n",
    "\n",
    "np.e"
   ]
  },
  {
   "cell_type": "code",
   "execution_count": null,
   "id": "cc6ac5ed",
   "metadata": {},
   "outputs": [],
   "source": [
    "np.exp(1)"
   ]
  },
  {
   "cell_type": "markdown",
   "id": "1b629341",
   "metadata": {},
   "source": [
    "<hr>\n",
    "\n",
    "```{admonition} Arrhenius Equation\n",
    ":class: chem\n",
    "\n",
    "The Arrhenius equation below describes the exponential relationship between the rate of a reaction $k$ and the temperature $T$. \n",
    "\n",
    "$$\n",
    "k = A\\exp{\\left(\\frac{-E_a}{RT}\\right)}\n",
    "$$\n",
    "\n",
    "where $R$, $E_a$ and $A$ are all constants. \n",
    "Support for a reaction that the activation energy is $E_a=52.0\\;\\textrm{kJ mol}^{-1}$, the gas constant $R = 8.314\\;\\textrm{JK}^{-1}\\textrm{mol}^{-1}$ and $A = 1.00$. \n",
    "What is the rate of the reaction $k$, when the temperature $T=241\\;\\textrm{K}$?\n",
    "\n",
    "*Solution:* We substitute our given values from the question into the Arrhenius equation. \n",
    "\n",
    "$$\n",
    "\\begin{aligned}\n",
    "k & = A\\exp{\\left(\\frac{-E_a}{RT}\\right)} \\\\\n",
    "k & = 1 \\times \\exp{\\left(\\frac{-52\\times10^{3}}{8.314 \\times 241}\\right)} \\\\\n",
    "k & = \\exp(-25.9509\\ldots) \\\\\n",
    "k & = 5.3663\\ldots \\times 10^{-12} \\\\\n",
    "k & = 5.37 \\times 10^{-12} \\textrm{(to 3 s.f.)} \n",
    "\\end{aligned}\n",
    "$$\n",
    "```\n",
    "\n",
    "<hr>\n",
    "\n",
    "Python is great for doing computations such as these. \n",
    "\n",
    "````{margin}\n",
    "```{admonition} Python Note\n",
    ":class: python\n",
    "\n",
    "In this code cell, we import the constant $R$ from the `scipy.constants` library. \n",
    "```\n",
    "````"
   ]
  },
  {
   "cell_type": "code",
   "execution_count": null,
   "id": "ff441ea4",
   "metadata": {},
   "outputs": [],
   "source": [
    "from scipy.constants import R\n",
    "\n",
    "E_a = 52e3\n",
    "T = 241 \n",
    "A = 1\n",
    "\n",
    "k = A * np.exp(-E_a / (R * T))\n",
    "k"
   ]
  },
  {
   "cell_type": "markdown",
   "id": "a54ee3b0",
   "metadata": {},
   "source": [
    "<hr>\n",
    "\n",
    "## Exponential Graphs\n",
    "\n",
    "Exponential graphs follow two general shapes, called growth and decay, which are shown below. "
   ]
  },
  {
   "cell_type": "code",
   "execution_count": null,
   "id": "3d5eba11",
   "metadata": {
    "tags": [
     "hide-input"
    ]
   },
   "outputs": [],
   "source": [
    "x1 = np.linspace(-6, 2, 100)\n",
    "y1 = np.exp(x1)\n",
    "x2 = np.linspace(-2, 6, 100)\n",
    "y2 = np.exp(-x2)\n",
    "\n",
    "fig, (ax1, ax2) = plt.subplots(1, 2, figsize=(10, 4))\n",
    "ax1.plot(x1, y1)\n",
    "ax1.set_xlabel('x')\n",
    "ax1.set_ylabel('y = exp(x)')\n",
    "ax2.plot(x2, y2, color='orange')\n",
    "ax2.set_xlabel('x')\n",
    "ax2.set_ylabel('y = exp(-x)')\n",
    "plt.tight_layout()\n",
    "plt.show()"
   ]
  },
  {
   "cell_type": "markdown",
   "id": "91b07d9c",
   "metadata": {},
   "source": [
    "- On the left exponential growth, which is represented by the equation $y=e^x$, note that the graph gets steeper from left to right. \n",
    "- On the right exponential growth, which is represented by the equation $y=e^{-x}$, note that the graph gets shallowed from left to right. \n",
    "\n",
    "## Alegbraic Rules for Exponentials \n",
    "\n",
    "We use very similar rules as the ones we had for powers. \n",
    "The only difference is that the base is now a constant and the power is a variable. \n",
    "\n",
    "````{margin}\n",
    "```{note}\n",
    "Here, we have that $x$ and $y$ are variables and $a$ is a constant, for example $a=e$ or $a=3$. \n",
    "In order to use the rules, $a$ must be the same for all terms. \n",
    "For example, we cannot simplify $e^x \\times 3^x \\times 4^x$. \n",
    "```\n",
    "````\n",
    "\n",
    "1. $a^x \\times a^y = a^{x+y}$\n",
    "2. $\\frac{a^x}{a^y} = a^{x-y}$\n",
    "3. $(a^x)^y = a^{x\\times y}$\n",
    "\n",
    "```{admonition} Example\n",
    ":class: example\n",
    "\n",
    "Simplify the following equations: \n",
    "\n",
    "1. $y = 3^x \\times 3^{2x}$\n",
    "2. $y = \\frac{2^x}{4}$\n",
    "3. $y = \\left(e^{-x+1}\\right)^x$\n",
    "\n",
    "*Solution:*\n",
    "\n",
    "1. Since the bases ar ehte same, we use the first rule. \n",
    "\n",
    "    $$ \n",
    "    y = 3^x \\times 3^{2x} = 3^{x+2x} = 3^{3x}\n",
    "    $$\n",
    "\n",
    "2. The first thing we notice is that $4$ can be written as $2^2$ so: \n",
    "\n",
    "    $$\n",
    "    y = \\frac{2^x}{2^2}\n",
    "    $$\n",
    "\n",
    "    Now that we have powers to the same base, we can apply the rules. \n",
    "    Using the second rule, we have: \n",
    "\n",
    "    $$\n",
    "    y = 2^{x-2}\n",
    "    $$\n",
    "\n",
    "3. Using the third rule, we get that: \n",
    "\n",
    "    $$\n",
    "    y = \\left(e^{-x+1}\\right)^x = e^{-x^2+x}\n",
    "    $$ \n",
    "```\n",
    "\n",
    "<hr> \n",
    "\n",
    "The `sympy` package is aware of these rules."
   ]
  },
  {
   "cell_type": "code",
   "execution_count": null,
   "id": "1e82fa2a",
   "metadata": {},
   "outputs": [],
   "source": [
    "from sympy import symbols\n",
    "\n",
    "x = symbols('x')\n",
    "\n",
    "3 ** x * 3 ** (2 * x)"
   ]
  },
  {
   "cell_type": "code",
   "execution_count": null,
   "id": "bbd81378",
   "metadata": {},
   "outputs": [],
   "source": [
    "from sympy import simplify\n",
    "\n",
    "simplify(2 ** x / (2 ** 2))"
   ]
  },
  {
   "cell_type": "markdown",
   "id": "ed50608e",
   "metadata": {},
   "source": [
    "Unfortunately, the final example does not work with `sympy`. \n",
    "\n",
    "<hr>"
   ]
  }
 ],
 "metadata": {
  "kernelspec": {
   "display_name": "m4c",
   "language": "python",
   "name": "python3"
  },
  "language_info": {
   "codemirror_mode": {
    "name": "ipython",
    "version": 3
   },
   "file_extension": ".py",
   "mimetype": "text/x-python",
   "name": "python",
   "nbconvert_exporter": "python",
   "pygments_lexer": "ipython3",
   "version": "3.11.11"
  }
 },
 "nbformat": 4,
 "nbformat_minor": 5
}
