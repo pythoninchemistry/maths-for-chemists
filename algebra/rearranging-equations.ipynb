{
 "cells": [
  {
   "cell_type": "markdown",
   "id": "e8776f5f",
   "metadata": {},
   "source": [
    "# Rearranging Equations\n",
    "\n",
    "Rearranging equations is changing the arrangement of terms in an equation. \n",
    "Consider the ideal gas equation, $pV=nRT$. \n",
    "We could rearrange the equation so that we have $T$ in terms of the other variables, so in this case $T = \\frac{pV}{nR}$. \n",
    "This rearranging is called making $T$ the subject of the formula. \n",
    "When rearranging, we perform operations to both sides of the equation, so we may: \n",
    "- Add or subtract the same quantity to or from both sides. \n",
    "- Multiply or divide both sides by the same quantity. \n",
    "\n",
    "## Order To Do Rearrangements\n",
    "\n",
    "````{margin}\n",
    "```{note}\n",
    "As mentioned in [Section 1.1](./../mathematical-foundations/addition-subtraction-multiplication-division.ipynb), addition and subtraction have the same priority so can be done in either order. \n",
    "The same is true for multiplication and division.\n",
    "```\n",
    "````\n",
    "BODMAS is used to decide which operations we should undo to make our quantity the subject. \n",
    "It is used in reverse, so the operations are undone in the following order: \n",
    "1. Subtraction/Addition\n",
    "2. Multiplication/Division\n",
    "3. Orders\n",
    "4. Brackets\n",
    "\n",
    "```{admonition} Equations of Motion\n",
    ":class: chem\n",
    "\n",
    "An ion is moving through a magnetic field. \n",
    "After a time, $t$, the ion's velocity has increased from $u$ to $v$. \n",
    "The acceleration is $a$ and is described by the equation $v=u=+at$. \n",
    "Rearrange the equation to make $a$ the subject. \n",
    "\n",
    "*Solution:* We identify the operations in use are + and &times;. \n",
    "Then we undo (or invert) each of the operations. \n",
    "Remember that we can do anything as long as we do it on both side of the = sign. \n",
    "\n",
    "$$\n",
    "v = u + at\n",
    "$$\n",
    "\n",
    "We start by undoing the addition as we go in the order of BODMAS backwards. \n",
    "On the right hand side, we have $u$ being added to the term involving $a$. \n",
    "We then invert the operation by doing the opposite and subtracting $u$ from both sides of the equation. \n",
    "So\n",
    "\n",
    "$$\n",
    "\\begin{aligned}\n",
    "v & = u + at \\\\\n",
    "v-u & = u - u + at \\\\ \n",
    "v-u & = at\n",
    "\\end{aligned}\n",
    "$$\n",
    "\n",
    "We can now see that the only other operation acting on our $a$ is multiplication, which we undo by dividing both side of the equation by $t$: \n",
    "\n",
    "$$\n",
    "\\begin{aligned}\n",
    "\\frac{v-u}{t} & = \\frac{at}{t} \\\\\n",
    "\\frac{v-u}{t} & = \\frac{a\\cancel{t}}{\\cancel{t}} \\\\\n",
    "a & = \\frac{v-u}{t}\n",
    "\\end{aligned}\n",
    "$$\n",
    "\n",
    "We now have made $a$ the subject of this equation. \n",
    "```\n",
    "\n",
    "<hr>\n",
    "\n",
    "We can use the `sympy` library to double check our rearrangement.\n",
    "\n",
    "````{margin}\n",
    "```{admonition} Python Note\n",
    ":class: python\n",
    "\n",
    "This result is the same as the mathematical, just with the $u$ and $v$ swapped. \n",
    "```\n",
    "````"
   ]
  },
  {
   "cell_type": "code",
   "execution_count": 2,
   "id": "14f142e3",
   "metadata": {},
   "outputs": [
    {
     "data": {
      "text/plain": [
       "[(-u + v)/t]"
      ]
     },
     "execution_count": 2,
     "metadata": {},
     "output_type": "execute_result"
    }
   ],
   "source": [
    "from sympy import symbols, Eq, solve\n",
    "\n",
    "v, u, a, t = symbols('v, u, a, t')\n",
    "eq = Eq(u + a * t, v)\n",
    "solve(eq, a)"
   ]
  },
  {
   "cell_type": "markdown",
   "id": "e3f9de3f",
   "metadata": {},
   "source": [
    "<hr>\n",
    "\n",
    "```{admonition} Gibbs Equation\n",
    ":class: chem\n",
    "\n",
    "In thermodynamics, the Gibbs equation, $\\Delta G$, dictates whether a reaction is feasible at the temperature, $T$. $\\Delta S$ and $\\Delta H$ are the entropy and enthalpy changes for the reaction. \n",
    "They are all related by the following equation: \n",
    "\n",
    "$$\n",
    "\\Delta G = \\Delta H - T\\Delta S\n",
    "$$\n",
    "Rearrange this equation to make $\\Delta S$ the subject. \n",
    "\n",
    "*Solution:* The first step is to under the subtraction on the right hand side by adding $t\\Delta S$ to each side. \n",
    "This produces the equation: \n",
    "\n",
    "$$\n",
    "\\Delta G + T\\Delta S = \\Delta H\n",
    "$$\n",
    "\n",
    "The next step would be to undo the addition by subtracting $\\Delta G$ from both sides to get the term involving $\\Delta S$ on its own. \n",
    "Doing this step gives: \n",
    "\n",
    "$$\n",
    "T\\Delta S = \\Delta H - \\Delta G\n",
    "$$\n",
    "\n",
    "This leaves only the multiplication to be dealt with, which is undone by dividing by $T$ to give the equation for $\\Delta S$ to be: \n",
    "\n",
    "$$\n",
    "\\Delta S = \\frac{\\Delta H - \\Delta H}{T}\n",
    "$$\n",
    "```\n",
    "\n",
    "<hr>\n",
    "\n",
    "With Python. "
   ]
  },
  {
   "cell_type": "code",
   "execution_count": 3,
   "id": "987f7599",
   "metadata": {},
   "outputs": [
    {
     "data": {
      "text/plain": [
       "[(-Delta_G + Delta_H)/T]"
      ]
     },
     "execution_count": 3,
     "metadata": {},
     "output_type": "execute_result"
    }
   ],
   "source": [
    "Delta_G, Delta_H, T, Delta_S = symbols('Delta_G, Delta_H, T, Delta_S')\n",
    "\n",
    "eq = Eq(Delta_G, Delta_H - T * Delta_S)\n",
    "solve(eq, Delta_S)"
   ]
  },
  {
   "cell_type": "markdown",
   "id": "f1f40ae4",
   "metadata": {},
   "source": [
    "<hr>\n",
    "\n",
    "## Rearranging with Power and Roots\n",
    "\n",
    "The inverse operations of powers are roots, so to reverse a power, we take a root and vice versa. \n",
    "We complete rearrangement in reverse order of BODMAS, therefore, we rearrange powers and roots in the orders section. \n",
    "\n",
    "````{margin}\n",
    "```{note}\n",
    "If we were to make $a$ the subject in the equation $a^2 = b+c$, we take the square root of the whole of both sides of the equation to get $a=\\sqrt{b+c}$ and **not** $a = \\sqrt{b} + \\sqrt{c}$. \n",
    "Similarly, if we were to make $d$ the subject in the equation $\\sqrt{d} = e + f$, we square the whole of both sides of the equation to get $d = (e + f)^2$ and **not** $d=e^2+f^2$. \n",
    "```\n",
    "````\n",
    "\n",
    "```{admonition} Mass-Energy Equivalence\n",
    ":class: chem\n",
    "\n",
    "Einstein's equation for mass-energy equivalence is often seen in the form: \n",
    "\n",
    "$$\n",
    "E=mc^2\n",
    "$$\n",
    "\n",
    "Express it with $c$ being the subject. \n",
    "\n",
    "*Solution:* To start with, we should divide each side of the equation by $m$. \n",
    "\n",
    "$$\n",
    "\\frac{E}{m} = \\frac{mc^2}{m} \\Rightarrow \\frac{E}{m} = \\frac{\\cancel{m}c^2}{\\cancel{m}} \\Rightarrow \\frac{E}{m} = c^2\n",
    "$$\n",
    "\n",
    "Now $c$ is raised to the power of 2. \n",
    "To undo this operation, we take the square root of both sides. \n",
    "\n",
    "$$\n",
    "\\frac{E}{m} = c^2 \\Rightarrow = \\sqrt{\\frac{E}{m}} = \\sqrt{c^2} \\Rightarrow \\sqrt{\\frac{E}{m}} = c\n",
    "$$\n",
    "```\n",
    "\n",
    "<hr> "
   ]
  },
  {
   "cell_type": "code",
   "execution_count": 17,
   "id": "308ad49d",
   "metadata": {},
   "outputs": [
    {
     "data": {
      "text/plain": [
       "[-sqrt(E/m), sqrt(E/m)]"
      ]
     },
     "execution_count": 17,
     "metadata": {},
     "output_type": "execute_result"
    }
   ],
   "source": [
    "E, m, c = symbols('E, m, c')\n",
    "eq = Eq(E, m * c**2)\n",
    "solve(eq, c)"
   ]
  },
  {
   "cell_type": "markdown",
   "id": "4c6858ce",
   "metadata": {},
   "source": [
    "````{margin}\n",
    "```{note} \n",
    "Recall that speed is distinct from velocity, which does have a sign as there is a direction associated. \n",
    "```\n",
    "````\n",
    "Naturely, we would use the one with the positive sign as a negative speed is not really logical. \n",
    "\n",
    "<hr>\n",
    "\n",
    "```{admonition} Example\n",
    ":class: example\n",
    "\n",
    "Solve the following: \n",
    "\n",
    "1. Given $px + a = qx + b$, make $x$ the subject of the formula. \n",
    "2. Given $\\frac{\\sqrt{t} + 2}{y} = y make $t$ the subject of the equation.\n",
    "3. Make $P$ the subject of the equation $x(1+P)^2 = \\frac{4}{x}$.\n",
    "\n",
    "*Solution:*\n",
    "\n",
    "1. We have an $x$ on both sides of the equation $px+a=qx+b$, so we need to collect these together\n",
    "    - First by subtracting $qx$ from both sides: $px+a-qx = qx + b-qx$\n",
    "    - Then factorise and simplify: $x(p-q)+a = b$\n",
    "    - Subtract $a$ from both sides: $x(p-q) + a - a = b - a$\n",
    "    - Now simplify: $x(p-q) = b-a$\n",
    "    - Divide both sides by $(p-q)$: $x = \\frac{b-a}{p-q}$\n",
    "\n",
    "2. We notice that the only $t$ is on the top of the fraction and underneath a square root. \n",
    "    - The first step would be to multiple both sides by $y$: $\\sqrt{t}+2 = y^2$\n",
    "    - Take away 2 from both sides: $\\sqrt{t} = y^2 - 2$\n",
    "    - Square both sides to remove the root: $t = (y^2-2)^2$\n",
    "\n",
    "3. The $P$ is inside a bracket, which is being squared and multiplied. \n",
    "    - The first step would be divide both sides by $x$: $(1+P)^2 = \\frac{4}{x^2}$\n",
    "    - Take the square root of both sides: $1+P = \\sqrt{\\frac{4}{x^2}}$\n",
    "    - This square root can be simplified down, since the numerator and denominator are both squares: $1+P = \\frac{2}{x}$\n",
    "    - Subtract 1 from both sides: $P = \\frac{2}{x}-1$. \n",
    "```\n",
    "\n",
    "<hr>\n",
    "\n",
    "With `sympy` these are all rather simple to perform. "
   ]
  },
  {
   "cell_type": "code",
   "execution_count": 20,
   "id": "2fa5a082",
   "metadata": {},
   "outputs": [
    {
     "data": {
      "text/plain": [
       "[(-a + b)/(p - q)]"
      ]
     },
     "execution_count": 20,
     "metadata": {},
     "output_type": "execute_result"
    }
   ],
   "source": [
    "p, q, x, a, b = symbols('p q x a b')\n",
    "eq = Eq(p * x + a, q * x + b)\n",
    "solve(eq, x)"
   ]
  },
  {
   "cell_type": "code",
   "execution_count": 19,
   "id": "71c87828",
   "metadata": {},
   "outputs": [
    {
     "data": {
      "text/plain": [
       "[(y**2 - 2)**2]"
      ]
     },
     "execution_count": 19,
     "metadata": {},
     "output_type": "execute_result"
    }
   ],
   "source": [
    "from sympy import sqrt\n",
    "\n",
    "t, y = symbols('t y')\n",
    "eq = Eq((sqrt(t) + 2) / y, y)\n",
    "solve(eq, t)"
   ]
  },
  {
   "cell_type": "code",
   "execution_count": 18,
   "id": "4bb99b05",
   "metadata": {},
   "outputs": [
    {
     "data": {
      "text/plain": [
       "[(2 - x)/x, (-x - 2)/x]"
      ]
     },
     "execution_count": 18,
     "metadata": {},
     "output_type": "execute_result"
    }
   ],
   "source": [
    "P, x = symbols('P x')\n",
    "eq = Eq(x * (1 + P) ** 2, 4 / x)\n",
    "solve(eq, P)"
   ]
  },
  {
   "cell_type": "markdown",
   "id": "6260fddc",
   "metadata": {},
   "source": [
    "<hr>"
   ]
  }
 ],
 "metadata": {
  "kernelspec": {
   "display_name": "m4c",
   "language": "python",
   "name": "python3"
  },
  "language_info": {
   "codemirror_mode": {
    "name": "ipython",
    "version": 3
   },
   "file_extension": ".py",
   "mimetype": "text/x-python",
   "name": "python",
   "nbconvert_exporter": "python",
   "pygments_lexer": "ipython3",
   "version": "3.11.11"
  }
 },
 "nbformat": 4,
 "nbformat_minor": 5
}
