{
 "cells": [
  {
   "cell_type": "markdown",
   "id": "aa7515c3",
   "metadata": {},
   "source": [
    "# Logarithms \n",
    "\n",
    "Just as addition and multiplication have inverses (subtraction and division), so we have inverses for exponentials. \n",
    "These are called **logarithms**. \n",
    "A logarithm answers the question \"how many of one number do we multiply to get another number?\". \n",
    "\n",
    "```{admonition} Example\n",
    ":class: example\n",
    "How many 2s do we multiply to get 8? \n",
    "\n",
    "*Solution:* 2 &times 2 &times 2 = 8, so we need to multiply 3 of the 2s to get 8. \n",
    "So the logarithm is 3. \n",
    "```\n",
    "We have a notation for logarithms, for example, the last example would be written as: \n",
    "\n",
    "$$\n",
    "\\log_2(8) = 3\n",
    "$$\n",
    "\n",
    "where this tells us we need to multiply 2 by itself 3 times to get 8. \n",
    "\n",
    "So more generally, we can write: \n",
    "\n",
    "$$\n",
    "\\log_a(x) = y\n",
    "$$\n",
    "\n",
    "- This tells use that we need to multiply $a$ by itself $y$ times to get $x$ (in other words $x = a ^ y$). \n",
    "- We say that $a$ is the **base** of the logarithm. \n",
    "\n",
    "We can see clearly that as logarithms are the inverse of exponents, there exists a relationship between the two, given by: \n",
    "\n",
    "$$\n",
    "\\textrm{If }y = a^x\\textrm{ then }x=\\log_a(y)\n",
    "$$\n",
    "\n",
    "```{admonition} Example\n",
    ":class: example\n",
    "Write $81^{0.5}=9$, as a logarithm. \n",
    "\n",
    "*Solution:* So we need to multiply 81 by itself 0.5 times to get 9, so we have $\\log_{81}(9) = 0.5$. \n",
    "```\n",
    "\n",
    "```{admonition} Example\n",
    ":class: example\n",
    "If $10^x = 3$, then find $x$. \n",
    "\n",
    "*Solution:* We need to multiply 10 by itself $x$ times to get 3, so we have: \n",
    "\n",
    "$$\n",
    "x = \\log_{10}(3) = 0.447\\textrm{ to 3 s.f.}\n",
    "$$\n",
    "```\n",
    "\n",
    "<hr>\n",
    "\n",
    "Python is capable of performing logarithms, for a logarithm to base ten, any of the following will work. \n",
    "\n",
    "````{margin}\n",
    "```{admonition} Python Note\n",
    ":class: Python\n",
    "The `numpy` library should always be used where you are working with an array of data.\n",
    "```\n",
    "````"
   ]
  },
  {
   "cell_type": "code",
   "execution_count": 1,
   "id": "41df0940",
   "metadata": {},
   "outputs": [
    {
     "data": {
      "text/plain": [
       "0.47712125471966244"
      ]
     },
     "execution_count": 1,
     "metadata": {},
     "output_type": "execute_result"
    }
   ],
   "source": [
    "from math import log10\n",
    "\n",
    "log10(3)"
   ]
  },
  {
   "cell_type": "code",
   "execution_count": 2,
   "id": "e5b57baf",
   "metadata": {},
   "outputs": [
    {
     "data": {
      "text/plain": [
       "0.47712125471966244"
      ]
     },
     "execution_count": 2,
     "metadata": {},
     "output_type": "execute_result"
    }
   ],
   "source": [
    "from math import log \n",
    "\n",
    "log(3, 10)"
   ]
  },
  {
   "cell_type": "code",
   "execution_count": 3,
   "id": "617fc794",
   "metadata": {},
   "outputs": [
    {
     "data": {
      "text/plain": [
       "0.47712125471966244"
      ]
     },
     "execution_count": 3,
     "metadata": {},
     "output_type": "execute_result"
    }
   ],
   "source": [
    "import numpy as np\n",
    "\n",
    "np.log10(3)"
   ]
  },
  {
   "cell_type": "markdown",
   "id": "3da5b6d6",
   "metadata": {},
   "source": [
    "<hr>\n",
    "\n",
    "Logarithms are useful for expressing quantities that span several orders of magnitude. \n",
    "For example, the pH equation $\\textrm{pH} = -\\log_{10}{[\n",
    "\\textrm{H}^+]}$ as small change in pH results in a very large change in [H<sup>+</sup>].\n",
    "\n",
    "## Logarithms: The Inverses of Exponentials\n",
    "\n",
    "As taking a logarithm is the inverse of an exponential, to the same base, we can cancel them using the rules below: \n",
    "\n",
    "$$\n",
    "\\log_a(a^x) = x \\;\\;\\;\\;\\;\\; a^{\\log_a(x)} = x\n",
    "$$\n",
    "\n",
    "```{important}\n",
    "1. When cancelling in the first case, all the quantities in the logarithm must be contained in the 'power' of the exponential. \n",
    "    For example, $\\log_a(a^x+3) \\neq x + 3$, as the 3 is not part of the power of the exponential.\n",
    "2. When cancelling in the second case, all of the power must be contained in the logarithm. \n",
    "    For example, $a^{\\log_a(x) + 4} \\neq x+4$, as the 4 is not in the logarithm. \n",
    "```\n",
    "\n",
    "```{admonition} Example\n",
    ":class: example\n",
    "\n",
    "Simplifying the following: \n",
    "\n",
    "1. $\\log_{10}(10^{5x^3 + 3x})$\n",
    "2. $3^{\\log_3(x^7+1)}$\n",
    "3. $\\log_3(10^{4x})$\n",
    "4. $a^{\\log_a(4x^3) + 2x}$\n",
    "5. $\\log_8(8^{2x^4} + 7)$\n",
    "\n",
    "*Solution:* \n",
    "1. $\\log_{10}(10^{5x^3 + 3x}) = 5x^3 + 3x$ \n",
    "2. $3^{\\log_3(x^7+1)} = x^7+1$\n",
    "3. We cannot simplify this as the logarithm has the base 3, and the exponential is to the base 10. \n",
    "4. First, note that $a^{\\log_a(4x^3) + 2x} \\neq 4x^3 + 2x$. We do this as follows: \n",
    "$$\n",
    "a^{\\log_a(4x^3) + 2x} = a^{\\log_a(4x^3)} a^{2x} = 4x^3a^{2x}\n",
    "$\n",
    "5. We cannot simplify this case, as the 7 is not part of the exponential. \n",
    "```\n",
    "\n",
    "<hr>\n",
    "\n",
    "Let's see how `sympy.simplify` gets on with these. \n",
    "\n",
    "````{margin}\n",
    "```{admonition} Python Note\n",
    ":class: python\n",
    "\n",
    "The `sympy.log` function will take the base as the second argument.\n",
    "For these simplifcations to be true, the numbers must be both positive and real.\n",
    "Here, we alias `sympy.log` as `slog`, such that it is distinct from the `math.log` above. \n",
    "```\n",
    "````"
   ]
  },
  {
   "cell_type": "code",
   "execution_count": 4,
   "id": "d27df254",
   "metadata": {},
   "outputs": [
    {
     "data": {
      "text/latex": [
       "$\\displaystyle x \\left(5 x^{2} + 3\\right)$"
      ],
      "text/plain": [
       "x*(5*x**2 + 3)"
      ]
     },
     "execution_count": 4,
     "metadata": {},
     "output_type": "execute_result"
    }
   ],
   "source": [
    "from sympy import symbols, simplify\n",
    "from sympy import log as slog\n",
    "\n",
    "x = symbols('x', positive=True, real=True)\n",
    "\n",
    "simplify(slog(10 ** (5 * x ** 3 + 3 * x), 10))"
   ]
  },
  {
   "cell_type": "code",
   "execution_count": 5,
   "id": "d8090fe2",
   "metadata": {},
   "outputs": [
    {
     "data": {
      "text/latex": [
       "$\\displaystyle x^{7} + 1$"
      ],
      "text/plain": [
       "x**7 + 1"
      ]
     },
     "execution_count": 5,
     "metadata": {},
     "output_type": "execute_result"
    }
   ],
   "source": [
    "3 ** (slog(x ** 7 + 1, 3))"
   ]
  },
  {
   "cell_type": "code",
   "execution_count": 6,
   "id": "a9ffc5ff",
   "metadata": {},
   "outputs": [
    {
     "data": {
      "text/latex": [
       "$\\displaystyle \\frac{\\log{\\left(10^{4 x} \\right)}}{\\log{\\left(3 \\right)}}$"
      ],
      "text/plain": [
       "log(10**(4*x))/log(3)"
      ]
     },
     "execution_count": 6,
     "metadata": {},
     "output_type": "execute_result"
    }
   ],
   "source": [
    "slog(10 ** (4 * x), 3)"
   ]
  },
  {
   "cell_type": "code",
   "execution_count": 7,
   "id": "af035794",
   "metadata": {},
   "outputs": [
    {
     "data": {
      "text/latex": [
       "$\\displaystyle 4 a^{2 x} x^{3}$"
      ],
      "text/plain": [
       "4*a**(2*x)*x**3"
      ]
     },
     "execution_count": 7,
     "metadata": {},
     "output_type": "execute_result"
    }
   ],
   "source": [
    "a = symbols('a', positive=True, real=True)\n",
    "\n",
    "simplify(a ** (slog(4 * x ** 3, a) + 2 * x))"
   ]
  },
  {
   "cell_type": "code",
   "execution_count": 8,
   "id": "03b3004a",
   "metadata": {},
   "outputs": [
    {
     "data": {
      "text/latex": [
       "$\\displaystyle \\frac{\\log{\\left(8^{2 x^{4}} + 7 \\right)}}{\\log{\\left(8 \\right)}}$"
      ],
      "text/plain": [
       "log(8**(2*x**4) + 7)/log(8)"
      ]
     },
     "execution_count": 8,
     "metadata": {},
     "output_type": "execute_result"
    }
   ],
   "source": [
    "slog(8 ** (2 * x ** 4) + 7, 8)"
   ]
  },
  {
   "cell_type": "markdown",
   "id": "d50b360f",
   "metadata": {},
   "source": [
    "For some of the equations, it is necessary to use the `simplify` function, while for others, it is not. \n",
    "\n",
    "<hr>\n",
    "\n",
    "## Logarithms to the Base 10\n",
    "\n",
    "Many equations in chemistry include logarithms, and we tend to use only two logarithms to different bases. \n",
    "The first one is to the base 10, such as in the pH equation, $\\textrm{pH} = -\\log_{10}[\\textrm{H}^+]$. \n",
    "In the usual notation, we would write $\\log_{10}$, however we tend to write logs to the base 10 as $\\log$, so $\\textrm{pH} = -\\log[\\textrm{H}^+]$. \n",
    "All the rules we have looked at are the same, just when the base $a=10$, so in particular:\n",
    "\n",
    "$$\n",
    "\\textrm{If }y=10^x\\textrm{ then }x = \\log{(y)}\n",
    "$$\n",
    "\n",
    "## Logarithms to the Base $e$\n",
    "\n",
    "The second common logarithm found in chemistry is the logarithm to the base $e$, known as the 'natural logarithm'. \n",
    "We use the notation $\\ln{(x)}$ but this means the same as $\\log_e{(x)}$. \n",
    "The natural logarithm is the inverse operation for the exponential, $y=e^x$, so we have the relationship as before: \n",
    "\n",
    "$$\n",
    "\\textrm{If }y=e^x\\textrm{ then }x = \\ln{(y)}\n",
    "$$\n",
    "\n",
    "```{admonition} Example\n",
    ":class: example\n",
    "\n",
    "If $3=e^x$, then $x = \\ln{(3)} \\approx 1.09861$\n",
    "```\n",
    "\n",
    "<hr>\n",
    "\n",
    "In Python, `math.log` or `np.log` perform the natural logarithm by default. "
   ]
  },
  {
   "cell_type": "code",
   "execution_count": 9,
   "id": "22ff5748",
   "metadata": {},
   "outputs": [
    {
     "data": {
      "text/plain": [
       "1.0986122886681098"
      ]
     },
     "execution_count": 9,
     "metadata": {},
     "output_type": "execute_result"
    }
   ],
   "source": [
    "log(3)"
   ]
  },
  {
   "cell_type": "code",
   "execution_count": 10,
   "id": "af346f66",
   "metadata": {},
   "outputs": [
    {
     "data": {
      "text/plain": [
       "1.0986122886681098"
      ]
     },
     "execution_count": 10,
     "metadata": {},
     "output_type": "execute_result"
    }
   ],
   "source": [
    "np.log(3)"
   ]
  },
  {
   "cell_type": "markdown",
   "id": "af3ebf16",
   "metadata": {},
   "source": [
    "<hr>\n",
    "\n",
    "````{margin}\n",
    "```{note}\n",
    "These rules are the same as the more general ones earlier in the section, however, look different due to the $\\ln$ notation. \n",
    "```\n",
    "````\n",
    "As natural logarithms are the inverse operation to exponentials, we have the following rules: \n",
    "\n",
    "$$\n",
    "\\ln(e^x) = x \\;\\;\\;\\;\\; e^{\\ln(x)} = x\n",
    "$$\n",
    "\n",
    "```{admonition} Example\n",
    ":class: example\n",
    "We can simplify $e^{\\ln(x^4+2)} = x^4 + 2$.\n",
    "```\n",
    "\n",
    "<hr>\n",
    "\n",
    "Using now the `exp` method from `sympy`."
   ]
  },
  {
   "cell_type": "code",
   "execution_count": 11,
   "id": "11447d17",
   "metadata": {},
   "outputs": [
    {
     "data": {
      "text/latex": [
       "$\\displaystyle x^{4} + 2$"
      ],
      "text/plain": [
       "x**4 + 2"
      ]
     },
     "execution_count": 11,
     "metadata": {},
     "output_type": "execute_result"
    }
   ],
   "source": [
    "from sympy import exp\n",
    "\n",
    "exp(slog(x ** 4 + 2))"
   ]
  },
  {
   "cell_type": "markdown",
   "id": "0a8568a7",
   "metadata": {},
   "source": [
    "<hr>\n",
    "\n",
    "```{admonition} Example\n",
    ":class: example\n",
    "\n",
    "We can simplify $\\ln{\\left[e^{(5x^4 + 2^x)}\\right]} = 5x^4 + 2^x$. \n",
    "```\n",
    "\n",
    "<hr>"
   ]
  },
  {
   "cell_type": "code",
   "execution_count": 12,
   "id": "27fb75ab",
   "metadata": {},
   "outputs": [
    {
     "data": {
      "text/latex": [
       "$\\displaystyle 2^{x} + 5 x^{4}$"
      ],
      "text/plain": [
       "2**x + 5*x**4"
      ]
     },
     "execution_count": 12,
     "metadata": {},
     "output_type": "execute_result"
    }
   ],
   "source": [
    "slog(exp(5 * x ** 4 + 2 ** x))"
   ]
  },
  {
   "cell_type": "markdown",
   "id": "3f3d6cf5",
   "metadata": {},
   "source": [
    "<hr>\n",
    "\n",
    "## Laws of Logarithms\n",
    "\n",
    "There are 3 laws of logarithms that we use to help algebraically manipulate equations involving logarithms: \n",
    "\n",
    "````{margin}\n",
    "```{note}\n",
    "Remember, we write $\\ln(x)$ for $\\log_e(x)$. \n",
    "```\n",
    "````\n",
    "\n",
    "1. $\\log_a(x\\times y) = \\log_a(x) + \\log_a(y)$\n",
    "2. $\\log_a\\left(\\frac{x}{y}\\right) = \\log_a(x) - \\log_a(y)$\n",
    "3. $\\log_a(x^b) = b \\times \\log_a(x)$. \n",
    "\n",
    "```{admonition} Example\n",
    ":class: example\n",
    "\n",
    "Simplify each of the following into a single logarithm: \n",
    "\n",
    "1. $\\log(5) + \\log(2)$\n",
    "2. $\\log_3(2) + \\log_3(2) + \\log_3(2)$\n",
    "3. $3\\log(3) - 2\\log(2)$\n",
    "4. $\\ln(8) - \\ln(4)$\n",
    "\n",
    "*Solution:*\n",
    "\n",
    "1. Using the first law, we can see that:\n",
    "\n",
    "    $$\n",
    "    \\log(5) + \\log(2) = \\log(5 \\times 2) = \\log(10)\n",
    "    $$\n",
    "\n",
    "    Since $\\log$ is used to denote the base 10 logarithm, $\\log(10) = 1$. \n",
    "\n",
    "2. this can be done using law 1 or by using law 3: \n",
    "\n",
    "    $$\n",
    "    \\log_3(2) + \\log_3(2) + \\log_3(2) = 3\\log_3(2) = \\log_3(2^3) = \\log_3(8)\n",
    "    $$\n",
    "\n",
    "3. Law 3 need to be used to remove the co-efficient in front of the logs: \n",
    "\n",
    "    $$\n",
    "    3\\log(3) - 2\\log(2) = \\log(3^2) - \\log(2^3) = \\log(27)-\\log(4)\n",
    "    $$\n",
    "\n",
    "    Now law 2 is applied to produce, $\\log\\left(\\frac{27}{4}\\right)$, which can be simplified further. \n",
    "\n",
    "4. Law 2 is used to give: \n",
    "\n",
    "    $$\n",
    "    \\ln(8)-\\ln(4) = \\ln\\left(\\frac{8}{4}\\right) = \\ln(2)\n",
    "    $$\n",
    "```\n",
    "\n",
    "<hr>\n",
    "\n",
    "We can use `sympy.logcombine` to simplify these logarithms."
   ]
  },
  {
   "cell_type": "code",
   "execution_count": 21,
   "id": "9d5000a5",
   "metadata": {},
   "outputs": [
    {
     "data": {
      "text/latex": [
       "$\\displaystyle \\log{\\left(10 \\right)}$"
      ],
      "text/plain": [
       "log(10)"
      ]
     },
     "execution_count": 21,
     "metadata": {},
     "output_type": "execute_result"
    }
   ],
   "source": [
    "from sympy import logcombine, expand_log\n",
    "\n",
    "logcombine(slog(5) + slog(2))"
   ]
  },
  {
   "cell_type": "code",
   "execution_count": 39,
   "id": "1fda2cce",
   "metadata": {},
   "outputs": [
    {
     "data": {
      "text/latex": [
       "$\\displaystyle \\log{\\left(8 \\right)}$"
      ],
      "text/plain": [
       "log(8)"
      ]
     },
     "execution_count": 39,
     "metadata": {},
     "output_type": "execute_result"
    }
   ],
   "source": [
    "logcombine(slog(2) + slog(2) + slog(2))"
   ]
  },
  {
   "cell_type": "code",
   "execution_count": 37,
   "id": "e5c0826f",
   "metadata": {},
   "outputs": [
    {
     "data": {
      "text/latex": [
       "$\\displaystyle \\log{\\left(\\frac{27}{4} \\right)}$"
      ],
      "text/plain": [
       "log(27/4)"
      ]
     },
     "execution_count": 37,
     "metadata": {},
     "output_type": "execute_result"
    }
   ],
   "source": [
    "logcombine(3 * slog(3) - 2 * slog(2))"
   ]
  },
  {
   "cell_type": "code",
   "execution_count": 38,
   "id": "5c977886",
   "metadata": {},
   "outputs": [
    {
     "data": {
      "text/latex": [
       "$\\displaystyle \\log{\\left(2 \\right)}$"
      ],
      "text/plain": [
       "log(2)"
      ]
     },
     "execution_count": 38,
     "metadata": {},
     "output_type": "execute_result"
    }
   ],
   "source": [
    "logcombine(slog(8) - slog(4))"
   ]
  },
  {
   "cell_type": "markdown",
   "id": "6f93553f",
   "metadata": {},
   "source": [
    "We use $\\log$ without any explicit base as the rules of logarithms are the same for all bases. \n",
    "\n",
    "<hr>\n",
    "\n",
    "```{admonition} Equilibrium Constants \n",
    ":class: chem\n",
    "\n",
    "A general reaction takes place of the form: \n",
    "\n",
    "$$\n",
    "a\\textrm{A} + b\\textrm{B} \\rightarrow c\\textrm{C} + d\\textrm{D}\n",
    "$$\n",
    "\n",
    "where the equilibrium constants $K$ is defined as $K = [\\textrm{A}]^{-a}\\times[\\textrm{B}]^{-b}\\times[\\textrm{C}]^{-c}\\times[\\textrm{D}]^{d}$. \n",
    "Find the logarithm of $K$, as a sum of logarithms. \n",
    "\n",
    "*Solution:* First, we take the log of both sides of the equation. \n",
    "\n",
    "$$\n",
    "\\log{(K)} = \\log{\\left([\\textrm{A}]^{-a}\\times[\\textrm{B}]^{-b}\\times[\\textrm{C}]^{-c}\\times[\\textrm{D}]^{d}\\right)}\n",
    "$$\n",
    "\n",
    "Then using law 1, we can expand this to be a sum of several logs. \n",
    "\n",
    "$$\n",
    "\\log{(K)} = \\log([\\textrm{A}]^{-a}) + \\log([\\textrm{B}]^{-b}) + \\log([\\textrm{C}]^{-c}) + \\log([\\textrm{D}]^{-d})\n",
    "$$\n",
    "\n",
    "Now, we can use law 3 to bring the powers down. \n",
    "\n",
    "$$\n",
    "\\log{(K)} = -a\\log([\\textrm{A}]) -b\\log([\\textrm{B}]) + c\\log([\\textrm{C}]) + d\\log([\\textrm{D}])\n",
    "$$\n",
    "```\n",
    "\n",
    "<hr>\n",
    "\n",
    "The `sympy.expand_log` function can be used to perform the opposite operation from `logcombine`, as we show below. "
   ]
  },
  {
   "cell_type": "code",
   "execution_count": 50,
   "id": "7eb6599e",
   "metadata": {},
   "outputs": [
    {
     "data": {
      "text/latex": [
       "$\\displaystyle - a \\log{\\left(A \\right)} - b \\log{\\left(B \\right)} + c \\log{\\left(C \\right)} + d \\log{\\left(D \\right)}$"
      ],
      "text/plain": [
       "-a*log(A) - b*log(B) + c*log(C) + d*log(D)"
      ]
     },
     "execution_count": 50,
     "metadata": {},
     "output_type": "execute_result"
    }
   ],
   "source": [
    "A, B, C, D = symbols('A B C D', positive=True, real=True)\n",
    "a, b, c, d = symbols('a b c d', positive=True, real=True)\n",
    "\n",
    "expand_log(slog(A ** -a * B ** -b * C ** c * D ** d))"
   ]
  },
  {
   "cell_type": "markdown",
   "id": "62494478",
   "metadata": {},
   "source": [
    "<hr>\n",
    "\n",
    "## Converting Between Logarithms and Different Bases\n",
    "\n",
    "We may wish to convert between the different logarithms of different bases, so for example, we might want to convert $\\log(x)$ to $\\ln(x)$. \n",
    "We do this using the following formula: \n",
    "\n",
    "$$\n",
    "\\log_a(x) = \\frac{1}{\\log_b(a)} \\times \\log_b(x)\n",
    "$$\n",
    "\n",
    "```{admonition} Example\n",
    ":class: example \n",
    "\n",
    "Convert $\\log(x)$ to be in the form $\\ln(x)$..\n",
    "\n",
    "*Solution:* Remember that $\\log(x) = \\log_{10}(x)$ and $\\ln(x) = \\log_e(x)$. \n",
    "So using the formula above, we have:\n",
    "\n",
    "$$\n",
    "\\log_{10}(x) = \\frac{1}{\\log_e(10)}\\times \\log_e(x) = \\frac{\\ln(x)}{\\ln(10)}\n",
    "$$"
   ]
  }
 ],
 "metadata": {
  "kernelspec": {
   "display_name": "m4c",
   "language": "python",
   "name": "python3"
  },
  "language_info": {
   "codemirror_mode": {
    "name": "ipython",
    "version": 3
   },
   "file_extension": ".py",
   "mimetype": "text/x-python",
   "name": "python",
   "nbconvert_exporter": "python",
   "pygments_lexer": "ipython3",
   "version": "3.11.11"
  }
 },
 "nbformat": 4,
 "nbformat_minor": 5
}
