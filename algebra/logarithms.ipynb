{
 "cells": [
  {
   "cell_type": "markdown",
   "id": "aa7515c3",
   "metadata": {},
   "source": [
    "# Logarithms \n",
    "\n",
    "Just as addition and multiplication have inverses (subtraction and division), so we have inverses for exponentials. \n",
    "These are called **logarithms**. \n",
    "A logarithm answers the question \"how many of one number do we multiply to get another number?\". \n",
    "\n",
    "```{admonition} Example\n",
    ":class: example\n",
    "How many 2s do we multiply to get 8? \n",
    "\n",
    "*Solution:* 2 &times 2 &times 2 = 8, so we need to multiply 3 of the 2s to get 8. \n",
    "So the logarithm is 3. \n",
    "```\n",
    "We have a notation for logarithms, for example, the last example would be written as: \n",
    "\n",
    "$$\n",
    "\\log_2(8) = 3\n",
    "$$\n",
    "\n",
    "where this tells us we need to multiply 2 by itself 3 times to get 8. \n",
    "\n",
    "So more generally, we can write: \n",
    "\n",
    "$$\n",
    "\\log_a(x) = y\n",
    "$$\n",
    "\n",
    "- This tells use that we need to multiply $a$ by itself $y$ times to get $x$ (in other words $x = a ^ y$). \n",
    "- We say that $a$ is the **base** of the logarithm. \n",
    "\n",
    "We can see clearly that as logarithms are the inverse of exponents, there exists a relationship between the two, given by: \n",
    "\n",
    "$$\n",
    "\\textrm{If }y = a^x\\textrm{ then }x=\\log_a(y)\n",
    "$$\n",
    "\n",
    "```{admonition} Example\n",
    ":class: example\n",
    "Write $81^{0.5}=9$, as a logarithm. \n",
    "\n",
    "*Solution:* So we need to multiply 81 by itself 0.5 times to get 9, so we have $\\log_{81}(9) = 0.5$. \n",
    "```\n",
    "\n",
    "```{admonition} Example\n",
    ":class: example\n",
    "If $10^x = 3$, then find $x$. \n",
    "\n",
    "*Solution:* We need to multiply 10 by itself $x$ times to get 3, so we have: \n",
    "\n",
    "$$\n",
    "x = \\log_{10}(3) = 0.447\\textrm{ to 3 s.f.}\n",
    "$$\n",
    "```\n",
    "\n",
    "<hr>\n",
    "\n",
    "Python is capable of performing logarithms, for a logarithm to base ten, any of the following will work. \n",
    "\n",
    "````{margin}\n",
    "```{admonition} Python Note\n",
    ":class: Python\n",
    "The `numpy` library should always be used where you are working with an array of data.\n",
    "```\n",
    "````"
   ]
  },
  {
   "cell_type": "code",
   "execution_count": 9,
   "id": "41df0940",
   "metadata": {},
   "outputs": [
    {
     "data": {
      "text/plain": [
       "0.47712125471966244"
      ]
     },
     "execution_count": 9,
     "metadata": {},
     "output_type": "execute_result"
    }
   ],
   "source": [
    "from math import log10\n",
    "\n",
    "log10(3)"
   ]
  },
  {
   "cell_type": "code",
   "execution_count": 10,
   "id": "e5b57baf",
   "metadata": {},
   "outputs": [
    {
     "data": {
      "text/plain": [
       "0.47712125471966244"
      ]
     },
     "execution_count": 10,
     "metadata": {},
     "output_type": "execute_result"
    }
   ],
   "source": [
    "from math import log \n",
    "\n",
    "log(3, 10)"
   ]
  },
  {
   "cell_type": "code",
   "execution_count": 11,
   "id": "617fc794",
   "metadata": {},
   "outputs": [
    {
     "data": {
      "text/plain": [
       "0.47712125471966244"
      ]
     },
     "execution_count": 11,
     "metadata": {},
     "output_type": "execute_result"
    }
   ],
   "source": [
    "import numpy as np\n",
    "\n",
    "np.log10(3)"
   ]
  },
  {
   "cell_type": "markdown",
   "id": "3da5b6d6",
   "metadata": {},
   "source": [
    "<hr>\n",
    "\n",
    "Logarithms are useful for expressing quantities that span several orders of magnitude. \n",
    "For example, the pH equation $\\textrm{pH} = -\\log_{10}{[\n",
    "\\textrm{H}^+]}$ as small change in pH results in a very large change in [H<sup>+</sup>].\n",
    "\n",
    "## Logarithms: The Inverses of Exponentials\n",
    "\n",
    "As taking a logarithm is the inverse of an exponential, to the same base, we can cancel them using the rules below: \n",
    "\n",
    "$$\n",
    "\\log_a(a^x) = x \\;\\;\\;\\;\\;\\; a^{\\log_a(x)} = x\n",
    "$$\n",
    "\n",
    "```{important}\n",
    "1. When cancelling in the first case, all the quantities in the logarithm must be contained in the 'power' of the exponential. \n",
    "    For example, $\\log_a(a^x+3) \\neq x + 3$, as the 3 is not part of the power of the exponential.\n",
    "2. When cancelling in the second case, all of the power must be contained in the logarithm. \n",
    "    For example, $a^{\\log_a(x) + 4} \\neq x+4$, as the 4 is not in the logarithm. \n",
    "```\n",
    "\n",
    "```{admonition} Example\n",
    ":class: example\n",
    "\n",
    "Simplifying the following: \n",
    "\n",
    "1. $\\log_{10}(10^{5x^3 + 3x})$\n",
    "2. $3^{\\log_3(x^7+1)}$\n",
    "3. $\\log_3(10^{4x})$\n",
    "4. $a^{\\log_a(4x^3) + 2x}$\n",
    "5. $\\log_8(8^{2x^4} + 7)$\n",
    "\n",
    "*Solution:* \n",
    "1. $\\log_{10}(10^{5x^3} + 3x) = 5x^3 + 3x$ \n",
    "2. $3^{\\log_3(x^7+1)} = x^7+1$\n",
    "3. We cannot simplify this as the logarithm has the base 3, and the exponential is to the base 10. \n",
    "4. First, note that $a^{\\log_a(4x^3) + 2x} \\neq 4x^3 + 2x$. We do this as follows: \n",
    "$$\n",
    "a^{\\log_a(4x^3) + 2x} = a^{\\log_a(4x^3)} a^{2x} = 4x^3a^{2x}\n",
    "$$\n",
    "5. We cannot simplify this case, as the 7 is not part of the exponential. \n",
    "```\n",
    "\n",
    "<hr>\n",
    "\n",
    "Let's see how `sympy.simplify` gets on with these. "
   ]
  },
  {
   "cell_type": "code",
   "execution_count": 20,
   "id": "d27df254",
   "metadata": {},
   "outputs": [
    {
     "data": {
      "text/latex": [
       "$\\displaystyle \\frac{\\log{\\left(10^{x \\left(5 x^{2} + 3\\right)} \\right)}}{\\log{\\left(10 \\right)}}$"
      ],
      "text/plain": [
       "log(10**(x*(5*x**2 + 3)))/log(10)"
      ]
     },
     "execution_count": 20,
     "metadata": {},
     "output_type": "execute_result"
    }
   ],
   "source": [
    "from sympy import symbols, log, simplify\n",
    "\n",
    "x = symbols('x')\n",
    "\n",
    "simplify(log(10 ** (5 * x ** 3 + 3 * x), 10))"
   ]
  },
  {
   "cell_type": "code",
   "execution_count": null,
   "id": "d8090fe2",
   "metadata": {},
   "outputs": [],
   "source": []
  }
 ],
 "metadata": {
  "kernelspec": {
   "display_name": "m4c",
   "language": "python",
   "name": "python3"
  },
  "language_info": {
   "codemirror_mode": {
    "name": "ipython",
    "version": 3
   },
   "file_extension": ".py",
   "mimetype": "text/x-python",
   "name": "python",
   "nbconvert_exporter": "python",
   "pygments_lexer": "ipython3",
   "version": "3.11.11"
  }
 },
 "nbformat": 4,
 "nbformat_minor": 5
}
