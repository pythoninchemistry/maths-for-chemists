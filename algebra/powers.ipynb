{
 "cells": [
  {
   "cell_type": "markdown",
   "id": "105de689-6b49-4212-b3c8-0c883d504629",
   "metadata": {},
   "source": [
    "# Powers\n",
    "\n",
    "Powers are a way to write that we have multiplied a number by itself a given number of times. For\n",
    "example 4 squared is $4^2 = 4 \\times 4$ and 5 cubed would be $5^3 = 5 \\times 5 \\times 5$. So more generally, for any positive whole number $n$:\n",
    "\n",
    "$$\n",
    "x^n = \\underbrace{x\\times x \\times \\cdots \\times x}_{n \\textrm{ times}}\n",
    "$$"
   ]
  },
  {
   "cell_type": "markdown",
   "id": "9df0d73d-cec6-4e87-bbfc-84536f9ac86a",
   "metadata": {},
   "source": [
    "- We call $x$ the **base**.\n",
    "- We call $n$ the **index of the base** or its **power**.\n",
    "  \n",
    "We would either say $x^n$ as ‘$x$ raised to the power of $n$’, ‘$x$ to the power of $n$’ or ‘$x$ to the $n$’. "
   ]
  },
  {
   "cell_type": "markdown",
   "id": "00045cd9-d3d0-4867-b398-ae3f924631e2",
   "metadata": {},
   "source": [
    "```{admonition} Example\n",
    ":class: example\n",
    "We can write $T \\times T \\times T \\times T \\times T$ as $T^5$. (Note that $T$ is the base and the power is 5).\n",
    "```"
   ]
  },
  {
   "cell_type": "markdown",
   "id": "62ce1145-791c-44c9-8d63-feadc0fd1c85",
   "metadata": {},
   "source": [
    "```{admonition} Example\n",
    ":class: example\n",
    "When a negative number is raised to an even power then the answer is positive:\n",
    "\n",
    "$$\n",
    "(-2)^4 = -2 \\times -2 \\times -2 \\times -2 = 16\n",
    "$$\n",
    "```\n",
    "<hr>\n",
    "\n",
    "In Python, powers are represented using `**`."
   ]
  },
  {
   "cell_type": "code",
   "execution_count": null,
   "id": "ea723fc1-38d5-449f-96bb-bf0ff4fa9037",
   "metadata": {},
   "outputs": [],
   "source": [
    "(-2)**4"
   ]
  },
  {
   "cell_type": "markdown",
   "id": "c54cc620-541b-45ea-95bf-6d7defa72cd4",
   "metadata": {},
   "source": [
    "<hr>\n",
    "\n",
    "## Negative Powers\n",
    "\n",
    "We can also have negative numbers as powers, these give fractions called reciprocals. For example $2^{−1} = \\frac{1}{2}$. So more generally:\n",
    "\n",
    "$$\n",
    "x^{-n} = \\frac{1}{x^n}, \\text{ as long as } x \\neq 0\n",
    "$$"
   ]
  },
  {
   "cell_type": "markdown",
   "id": "0bc38559-a5d7-4610-9112-66fb152c58d0",
   "metadata": {},
   "source": [
    "```{admonition} Example\n",
    ":class: example\n",
    "We can write $\\frac{1}{qqqqqq}$ as $\\frac{1}{q^6}$, which is the same as $q^{-6}$.\n",
    "```\n",
    "<hr>"
   ]
  },
  {
   "cell_type": "code",
   "execution_count": null,
   "id": "0a297724-6147-4fe5-802b-22f31de8a293",
   "metadata": {},
   "outputs": [],
   "source": [
    "from sympy import symbols \n",
    "q = symbols('q')\n",
    "1/(q*q*q*q*q*q) == q**(-6)"
   ]
  },
  {
   "cell_type": "markdown",
   "id": "987d33ba-a68b-4188-825e-d439b145399c",
   "metadata": {},
   "source": [
    "<hr>\n",
    "\n",
    "We can simplify multiple terms like in the examples below by collecting together the terms which are\n",
    "the same."
   ]
  },
  {
   "cell_type": "markdown",
   "id": "54c04e9f-8baa-4a52-96be-44a67c8f6441",
   "metadata": {},
   "source": [
    "```{admonition} Example\n",
    ":class: example\n",
    "We can simplify $cccdcd$ to $c^4d^2$. (Note that we have collected all the c and d together separately)\n",
    "```\n",
    "<hr>"
   ]
  },
  {
   "cell_type": "code",
   "execution_count": null,
   "id": "b200b3f3-17de-4cd4-be95-446a2036a9b4",
   "metadata": {},
   "outputs": [],
   "source": [
    "c, d = symbols('c d') \n",
    "c*c*c*d*c*d == c**4*d**2"
   ]
  },
  {
   "cell_type": "markdown",
   "id": "2084baed-690c-47e2-b38f-456e96f81ec6",
   "metadata": {},
   "source": [
    "<hr>\n",
    "\n",
    "```{admonition} Example\n",
    ":class: example\n",
    "We can simplify $\\frac{xxyzzzz}{abbb}$ to $\\frac{x^2yz^4}{ab^3}$, which we can then write as $x^2yz^4a^{-1}b^{-3}$.\n",
    "```"
   ]
  },
  {
   "cell_type": "markdown",
   "id": "95b3643e-11f6-4df4-ad67-7bae7e4a0f6a",
   "metadata": {},
   "source": [
    "## Special Cases\n",
    "\n",
    "````{margin}\n",
    "```{note}\n",
    "Usually we do not write bases to the index of 1 we just write the base. So we would write\n",
    "$x$ and not $x^1$.\n",
    "```\n",
    "````\n",
    "\n",
    "1. Any non zero number raised to the power of 1 is itself, for example $3^1 = 3$ and $15^1 = 15$. So we\n",
    "have:\n",
    "\n",
    "$$\n",
    "x^1 = x\n",
    "$$\n",
    "\n",
    "2. If a number is rasied to the power of 0 then the answer is 1. For example $4^0 = 1$ and $(−454.786)^0 = 1$. So we have:\n",
    "\n",
    "$$\n",
    "x^0 = 1\n",
    "$$\n",
    "\n",
    "<hr>"
   ]
  },
  {
   "cell_type": "code",
   "execution_count": null,
   "id": "80518cc6-3140-4dee-a15b-52e2ef7eea7a",
   "metadata": {},
   "outputs": [],
   "source": [
    "x = symbols('x')\n",
    "x**0"
   ]
  },
  {
   "cell_type": "markdown",
   "id": "a7e2b1af-ba42-44e6-a4fa-b30705fa1938",
   "metadata": {},
   "source": [
    "<hr>\n",
    "\n",
    "## Rules for Powers\n",
    "\n",
    "We have the following three rules for when working with powers:\n",
    "1. $x^a \\times x^b = x^{a+b}$\n",
    "2. $\\frac{x^a}{x^b} = x^{a-b}$\n",
    "3. $(x^a)^b = x^{a\\times b}$"
   ]
  },
  {
   "cell_type": "markdown",
   "id": "429c84fa-6810-4b06-b033-2576f257300d",
   "metadata": {},
   "source": [
    "```{admonition} Example\n",
    ":class: example\n",
    "We can simplify $\\frac{y^3z^2y^4}{z^6}$ to $y^{3+4}z^{2-6}$, which we can then write as $y^7z^{-4}$ (we have used rules 1 and 2 here).\n",
    "```\n",
    "<hr>"
   ]
  },
  {
   "cell_type": "code",
   "execution_count": null,
   "id": "28740074-1873-4d77-95e0-5106a6e35c7e",
   "metadata": {},
   "outputs": [],
   "source": [
    "from sympy import simplify\n",
    "x,y,z = symbols('x y z')\n",
    "simplify(y**3*z**2*y**4/z**6)"
   ]
  },
  {
   "cell_type": "markdown",
   "id": "c251ef6b-7d85-447c-8fd7-1f7e8aac60ee",
   "metadata": {},
   "source": [
    "<hr>\n",
    "\n",
    "```{admonition} Example\n",
    ":class: example\n",
    "We can simplify $(a^3b^2ca)^2$ to $(a^4b^2c)^2$ to $(a^4)^2(b^2)^2(c)^2$, which we can then write as $a^8b^4c^2$ using rule 3.\n",
    "```\n",
    "\n",
    "<hr>"
   ]
  },
  {
   "cell_type": "code",
   "execution_count": null,
   "id": "f4c07750-23e6-486a-838d-0d3a05b426a0",
   "metadata": {},
   "outputs": [],
   "source": [
    "a,b,c = symbols('a b c')\n",
    "simplify((a**3*b**2*c*a)**2)"
   ]
  },
  {
   "cell_type": "markdown",
   "id": "b6157d48-fa74-4016-8467-1327585e23ad",
   "metadata": {},
   "source": [
    "<hr>\n",
    "\n",
    "## Roots\n",
    "\n",
    "The opposite of squaring a number, say $4^2 = 16$, is finding the square root, in this case $\\sqrt{16} = 4$. Note the notation for square root is $\\sqrt{}$. The same is true for cubing and cube roots which are denoted $\\sqrt[3]{}$; for example $3 \\times 3 \\times 3 = 27$, so $\\sqrt[3]{27} = 3$. In general the opposite of raising a number $x$ to the power of $n$ is to find the $n^\\text{th}$ root, which is denoted $\\sqrt[n]{}$.\n",
    "\n",
    "````{margin}\n",
    "```{note}\n",
    "A root written in its fractional form is often must easier to manipulate with the algebraic rules\n",
    "for powers.\n",
    "```\n",
    "````\n",
    "\n",
    "We also use fractional powers as another, often more useful way, to write roots. So we have that $\\sqrt{x} = x^\\frac{1}{2}$ and $\\sqrt[3]{x} = x^\\frac{1}{3}$. More generally we have:\n",
    "\n",
    "$$\n",
    "x^{\\frac{1}{n}} = \\sqrt[n]{x}\n",
    "$$"
   ]
  },
  {
   "cell_type": "markdown",
   "id": "bb555b66-572a-4ac7-9f8b-07e293b40edb",
   "metadata": {},
   "source": [
    "```{admonition} Example\n",
    ":class: example\n",
    "A numerical example: since $\\sqrt[5]{32} = 2$ we could also write $32^\\frac{1}{5}$ = 2\n",
    "```\n",
    "<hr>"
   ]
  },
  {
   "cell_type": "code",
   "execution_count": null,
   "id": "06d3fa12-8d37-4786-bb28-5a3b945bfeff",
   "metadata": {},
   "outputs": [],
   "source": [
    "32**(1/5)"
   ]
  },
  {
   "cell_type": "markdown",
   "id": "69304380-61f5-4a47-8410-606a375bfb64",
   "metadata": {},
   "source": [
    "<hr>\n",
    "\n",
    "```{admonition} Example\n",
    ":class: example\n",
    "We can write $\\frac{\\sqrt{x}}{x} = \\frac{x^\\frac{1}{2}}{x} = x^{\\frac{1}{2}-1}=x^{-\\frac{1}{2}}$.\n",
    "```\n",
    "<hr>"
   ]
  },
  {
   "cell_type": "code",
   "execution_count": null,
   "id": "d43b23c8-934c-4fc1-bc00-91fdaf4ac5cc",
   "metadata": {},
   "outputs": [],
   "source": [
    "simplify(x**(1/2)/x)"
   ]
  },
  {
   "cell_type": "markdown",
   "id": "c7c8940e-c6c8-4a0e-9c66-9178d3587407",
   "metadata": {},
   "source": [
    "<hr>\n",
    "\n",
    "```{admonition} Example\n",
    ":class: example\n",
    "Simplify the following:\n",
    "\n",
    "$$\n",
    "\\frac{\\sqrt[3]{ab^3}(ac^4)^2}{a^\\frac{4}{3}b}\n",
    "$$\n",
    "\n",
    "*Solution:* We begin by expanding the brackets in the numerator:\n",
    "\n",
    "$$\n",
    "\\begin{align}\n",
    "\\frac{\\sqrt[3]{ab^3}(ac^4)^2}{a^\\frac{4}{3}b} & = \\frac{\\sqrt[3]{ab^3}a^2c^8}{a^\\frac{4}{3}b} \\tag*{The cube root can now be simplified}\\\\\n",
    "& = \\frac{a^\\frac{1}{3}ba^2c^8}{a^\\frac{4}{3}b} \\tag*{All the powers can be collected}\\\\\n",
    "& = a^{\\frac{1}{3}-\\frac{4}{3}+2}b^{1-1}c^8 \\tag*{This can be simplified}\\\\\n",
    "& = a^{-1+2}b^{0}c^8 \\\\\n",
    "& = ac^8\n",
    "\\end{align}\n",
    "$$\n",
    "```\n",
    "\n",
    "<hr>"
   ]
  },
  {
   "cell_type": "markdown",
   "id": "e007a143",
   "metadata": {},
   "source": [
    "Sometimes, `sympy` is not able to find the *best* simplification. \n",
    "This is noted in the [`sympy` documention](https://docs.sympy.org/latest/tutorials/intro-tutorial/simplification.html#simplify)."
   ]
  },
  {
   "cell_type": "code",
   "execution_count": null,
   "id": "b44ece12-373b-4cf3-a9bf-b8e81866c152",
   "metadata": {},
   "outputs": [],
   "source": [
    "simplify((a*b**3)**(1/3)*(a*c**4)**2/(a**(4/3)*b))"
   ]
  },
  {
   "cell_type": "markdown",
   "id": "9aa44163-0460-42a9-b798-bdef569d7169",
   "metadata": {},
   "source": [
    "<hr>"
   ]
  }
 ],
 "metadata": {
  "kernelspec": {
   "display_name": "m4c",
   "language": "python",
   "name": "python3"
  },
  "language_info": {
   "codemirror_mode": {
    "name": "ipython",
    "version": 3
   },
   "file_extension": ".py",
   "mimetype": "text/x-python",
   "name": "python",
   "nbconvert_exporter": "python",
   "pygments_lexer": "ipython3",
   "version": "3.11.11"
  }
 },
 "nbformat": 4,
 "nbformat_minor": 5
}
