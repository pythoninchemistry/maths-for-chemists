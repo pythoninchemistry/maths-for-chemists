{
 "cells": [
  {
   "cell_type": "markdown",
   "id": "e865f7c8",
   "metadata": {},
   "source": [
    "# Quadratics \n",
    "\n",
    "A quadratic (with the variable $x$) is any expression of the form: \n",
    "\n",
    "$$\n",
    "ax^2 + bx + c\n",
    "$$\n",
    "\n",
    "where $a$, $b$, and $c$ are constants. \n",
    "It is called a quadratic because it contains terms of $x$ up to and including $x^2$. \n",
    "\n",
    "A quadratic function has the form: \n",
    "\n",
    "$$\n",
    "y = ax^2 + bx + c\n",
    "$$\n",
    "\n",
    "again, $a$, $b$, and $c$ are constants. \n",
    "There are a number of examples of such functions illustrated in the sections that follow. \n",
    "\n",
    "## Expanding Brackets to Produce a Quadratic\n",
    "\n",
    "Quadratic expressions can also be factorised and written in the form: \n",
    "\n",
    "$$\n",
    "(x+A)(x+B)\n",
    "$$\n",
    "\n",
    "where $A$ and $B$ are constants. \n",
    "We have a method called **FOIL** for expanding quadratic equations in the above form, so that they appear in the form $ax^2+bx+c$. \n",
    "\n",
    "**FOIL** stands for **F**irst, **O**uter, **I**nner, and **L**ast and tells us which terms to take the product of. \n",
    "In the general case $(x+A)(x+B)$ **FOIL** works as follows: \n",
    "\n",
    "1. The **F**irst terms will be the $x$s since they are both first in their brackets. \n",
    "2. The **O**uter terms will be $x$ and $B$ because they are on the outer side (nearest to the edges). \n",
    "3. The **I**nner terms are $A$ and the other $x$ as they are on the inner. \n",
    "4. The **L**ast terms are $A$ and $B$ because these are last in their brackets. \n",
    "\n",
    "We then expand our quadratic $(x+A)(x+B)$ as shown below.\n",
    "````{margin}\n",
    "```{note}\n",
    "This is in the form $ax^2+bx+c$, where $a=1$, $b = A+B$ and $c=AB$.\n",
    "```\n",
    "````\n",
    "$$\n",
    "(x+A)(x+B) = x\\times x + x \\times B + A \\times x + A \\times B = x^2 + (A+B)x + AB\n",
    "$$\n",
    "\n",
    "```{admonition} Example\n",
    ":class:\n",
    "\n",
    "Expand the brackets of the following: \n",
    "\n",
    "1. $(x+5)(x+7)$\n",
    "2. $(x-3)(x+2)$\n",
    "3. $(x+1)^2$\n",
    "\n",
    "*Solution:*\n",
    "\n",
    "1. We use **FOIL** to get:\n",
    "\n",
    "    $$\n",
    "    (x+5)(x+7) = x\\times x + x\\times 7 + 5 \\times x + 5 \\times 7\n",
    "    $$\n",
    "\n",
    "    Multiplying these out gives:\n",
    "\n",
    "    $$\n",
    "    x^2 + 7x + 5x + 35 = x^2 + 12x + 35\n",
    "    $$\n",
    "\n",
    "2. There are some negative numbers here so be careful when using **FOIL**\n",
    "\n",
    "$$\n",
    "\\begin{aligned}\n",
    "(x-3)(x+2) & = x\\times x + x\\times 2 + (-3 \\times x) + (-3 \\times 2) \\\\\n",
    " & = x^2 + 2x - 3x - 6 = x^2 - x - 6\n",
    "\\end{aligned}\n",
    "$$\n",
    "\n",
    "3. We can write $(x+1)^2$ as $(x+1)(x+1)$, which we can then apply **FOIL** to\n",
    "\n",
    "$$\n",
    "\\begin{aligned}\n",
    "(x+1)(x+1) & = x\\times x + x\\times 1 + 1 \\times x + 1 \\times 1 \\\\\n",
    "& = x^2 + x + x + 1 = x^2 + 2x + 1\n",
    "\\end{aligned}\n",
    "$$\n",
    "```\n",
    "\n",
    "<hr>\n",
    "\n",
    "As you would expect, `sympy` can work with expanding these. "
   ]
  },
  {
   "cell_type": "code",
   "execution_count": null,
   "id": "f8dd2c0c",
   "metadata": {},
   "outputs": [],
   "source": [
    "from sympy import symbols, expand\n",
    "\n",
    "x = symbols('x')\n",
    "\n",
    "expand((x + 5) * (x + 7))"
   ]
  },
  {
   "cell_type": "code",
   "execution_count": null,
   "id": "2d091786",
   "metadata": {},
   "outputs": [],
   "source": [
    "expand((x - 3) * (x + 2))"
   ]
  },
  {
   "cell_type": "code",
   "execution_count": null,
   "id": "0cf4dc58",
   "metadata": {},
   "outputs": [],
   "source": [
    "expand((x + 1) ** 2)"
   ]
  },
  {
   "cell_type": "markdown",
   "id": "cf34ae2f",
   "metadata": {},
   "source": [
    "<hr>"
   ]
  }
 ],
 "metadata": {
  "kernelspec": {
   "display_name": "m4c",
   "language": "python",
   "name": "python3"
  },
  "language_info": {
   "codemirror_mode": {
    "name": "ipython",
    "version": 3
   },
   "file_extension": ".py",
   "mimetype": "text/x-python",
   "name": "python",
   "nbconvert_exporter": "python",
   "pygments_lexer": "ipython3",
   "version": "3.11.11"
  }
 },
 "nbformat": 4,
 "nbformat_minor": 5
}
