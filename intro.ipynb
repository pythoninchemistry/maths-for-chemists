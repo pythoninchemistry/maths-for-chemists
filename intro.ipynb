{
 "cells": [
  {
   "cell_type": "markdown",
   "id": "b0189485",
   "metadata": {},
   "source": [
    "# Maths for Chemists\n",
    "\n",
    "Welcome to Maths for Chemistry (*feat.* Python). \n",
    "This is Jupyter Book is an open-source, redevelopment of the [Maths for Chemists](https://edu.rsc.org/download?ac=15395) booklet that was originally prepared by Allan Cunningham and Rory Whelan (supported by Michael Grove, Joe Kyle, and Samantha Pugh). \n",
    "\n",
    "The majority of the text and chemistry examples are drawn, with permission, directly from this previous resource. \n",
    "However, in this version, the text and example have been adapted to include presentations of how the results are obtained using Python code. \n",
    "We hope that this will facilitate chemistry students that have *some* understanding of programming to get a better understanding of the mathematics necessary for chemistry. \n",
    "\n",
    "This Jupyter Book is an open-source project, developed on Github. \n",
    "This material is a *living book* and, therefore, may diverge from the source material overtime. \n",
    "If you would like to contribute to this book, perhaps by transcribing a section from the original source, please do so by opening a pull request on the [Github repository](https://github.com/pythoninchemistry/maths-for-chemists), adding yourself to the contributors list below.\n",
    "This project is led by [Andrew R. McCluskey](https://scams-research.github.io) (University of Bristol) and [Alan M. Lewis](https://www.york.ac.uk/chemistry/people/alan-lewis/) (University of York). \n",
    "\n",
    "## How To Use This Webpage\n",
    "\n",
    "- The contents can be found in the sidebar to the left of the page, or accessed from the ☰ icon in the top-left, and from there each section can be viewed by clicking on them. \n",
    "- Worked examples of the mathematics contained in this webpage are in boxes with blue headers, as shown below: \n",
    "\n",
    "```{admonition} Example \n",
    ":class: example\n",
    "\n",
    "What is the sum $1+1$? \n",
    "\n",
    "*Solution:* $1+1=2$\n",
    "```\n",
    "\n",
    "- Worked chemistry examples that explain the application of mathematics in a chemistry related problem are in boxes with yellow headers, as shown below: \n",
    "\n",
    "```{admonition} Molecular Mass of Water\n",
    ":class: chem\n",
    "What is the molecular mass of water? \n",
    "\n",
    "*Solution:* The molecular formula for water is H<sub>2</sub>O. \n",
    "We have that the atomic mass of oxygen is 16 and hydrogen is 1. \n",
    "Hence, the molecular mas sof water is equal to $16 + (1 \\times 2) = 18$. \n",
    "```\n",
    "\n",
    "- For many of the examples and chemistry examples, we provide Python code to implement the mathematics. \n",
    "While providing Python examples, we will not give details of how to write Python from scratch. \n",
    "For this, please look at some of the [other resources](https://pythoninchemistry.org/educational-resources/linked-resources.html) the Python in Chemistry network have available.\n",
    "To keep the focus of the webpage on the maths, we demarcate any Python section with green horizontal lines, as shown below: \n",
    "\n",
    "<hr>"
   ]
  },
  {
   "cell_type": "code",
   "execution_count": null,
   "id": "1dd224d9",
   "metadata": {},
   "outputs": [],
   "source": [
    "print('Hello World!')"
   ]
  },
  {
   "cell_type": "markdown",
   "id": "26271c2e",
   "metadata": {},
   "source": [
    "At times for pedagogical reasons, we may hide code cells but keep the output. \n",
    "In such cases you will see:\n"
   ]
  },
  {
   "cell_type": "code",
   "execution_count": null,
   "id": "85ceeae5",
   "metadata": {
    "tags": [
     "hide-input"
    ]
   },
   "outputs": [],
   "source": [
    "print('Chemistry > Maths')"
   ]
  },
  {
   "cell_type": "markdown",
   "id": "e4cc88e0",
   "metadata": {},
   "source": [
    "<hr>\n",
    "\n",
    "## Contributors \n",
    "\n",
    "- Andrew R. McCluskey\n",
    "- Alan M. Lewis\n",
    "\n",
    "```{tableofcontents}\n",
    "```"
   ]
  }
 ],
 "metadata": {
  "kernelspec": {
   "display_name": "m4c",
   "language": "python",
   "name": "python3"
  },
  "language_info": {
   "name": "python",
   "version": "3.11.11"
  }
 },
 "nbformat": 4,
 "nbformat_minor": 5
}
