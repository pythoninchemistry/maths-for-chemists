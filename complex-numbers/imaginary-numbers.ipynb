{
 "cells": [
  {
   "cell_type": "markdown",
   "id": "be0d346e",
   "metadata": {},
   "source": [
    "# Imaginary Numbers\n",
    "\n",
    "Imaginary numbers allow us to find an answer to the question \"what is the square root of a negative number?\". \n",
    "We define $i$ to be the square root of minus one. \n",
    "\n",
    "$$\n",
    "i = \\sqrt{-1}\n",
    "$$\n",
    "\n",
    "We find the other square roots of a negative number, say $-x$, as follows: \n",
    "\n",
    "$$\n",
    "\\sqrt{-x} = \\sqrt{x \\times -1} = \\sqrt{x} \\times \\sqrt{-1} = \\sqrt{x} \\times i\n",
    "$$\n",
    "\n",
    "```{admonition} Example\n",
    ":class: example\n",
    "\n",
    "Find the square root of: \n",
    "\n",
    "1. $\\sqrt{-9}$\n",
    "2. $\\sqrt{-13}$\n",
    "\n",
    "*Solution:*\n",
    "\n",
    "1. $\\sqrt{-9} = \\sqrt{9\\times -1} = \\sqrt{9}\\times\\sqrt{-1} = 3i$\n",
    "2. $\\sqrt{-13} = \\sqrt{13\\times -1} = \\sqrt{13}\\times\\sqrt{-1} = \\sqrt{13}i$\n",
    "```\n",
    "\n",
    "<hr>\n",
    "\n",
    "Using NumPy, it is necessary for the input to be a [complex number](./complex-numbers) to produce the correct result. \n",
    "\n",
    "````{margin}\n",
    "```{admonition} Python Note\n",
    ":class: python\n",
    "\n",
    "For [historical reasons](https://stackoverflow.com/questions/24812444/why-are-complex-numbers-in-python-denoted-with-j-instead-of-i), Python uses `j` instead of `i` to indicate an imaginary number. \n",
    "```\n",
    "````"
   ]
  },
  {
   "cell_type": "code",
   "execution_count": null,
   "id": "1d63f6c5",
   "metadata": {},
   "outputs": [],
   "source": [
    "import numpy as np\n",
    "\n",
    "np.sqrt(-9 + 0j)"
   ]
  },
  {
   "cell_type": "code",
   "execution_count": null,
   "id": "014181bf",
   "metadata": {},
   "outputs": [],
   "source": [
    "np.sqrt(-13 + 0j)"
   ]
  },
  {
   "cell_type": "markdown",
   "id": "24f76cc4",
   "metadata": {},
   "source": [
    "We can check that $3.6055\\ldots$ is equal to $\\sqrt{13}$."
   ]
  },
  {
   "cell_type": "code",
   "execution_count": null,
   "id": "ddebd17c",
   "metadata": {},
   "outputs": [],
   "source": [
    "np.sqrt(-13 + 0j) == np.sqrt(13) * 1j"
   ]
  },
  {
   "cell_type": "markdown",
   "id": "b11cf869",
   "metadata": {},
   "source": [
    "\n",
    "If a non-complex input is provided, `np.sqrt` will return a `nan`. "
   ]
  },
  {
   "cell_type": "code",
   "execution_count": null,
   "id": "f2e5a525",
   "metadata": {},
   "outputs": [],
   "source": [
    "np.sqrt(-9)"
   ]
  },
  {
   "cell_type": "markdown",
   "id": "26546ae1",
   "metadata": {},
   "source": [
    "<hr>"
   ]
  }
 ],
 "metadata": {
  "kernelspec": {
   "display_name": "m4c",
   "language": "python",
   "name": "python3"
  },
  "language_info": {
   "codemirror_mode": {
    "name": "ipython",
    "version": 3
   },
   "file_extension": ".py",
   "mimetype": "text/x-python",
   "name": "python",
   "nbconvert_exporter": "python",
   "pygments_lexer": "ipython3",
   "version": "3.11.11"
  }
 },
 "nbformat": 4,
 "nbformat_minor": 5
}
