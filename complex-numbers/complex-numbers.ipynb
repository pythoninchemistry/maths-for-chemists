{
 "cells": [
  {
   "cell_type": "markdown",
   "id": "366997ad",
   "metadata": {},
   "source": [
    "# Complex Numbers\n",
    "\n",
    "A complex number is a number that has both a real and imaginary component. \n",
    "They can be written in the form:\n",
    "\n",
    "$$\n",
    "a + bi\n",
    "$$\n",
    "\n",
    "where $a$ and $b$ are real numbers and $i=\\sqrt{-1}$. \n",
    "\n",
    "We often denote complex numbers by the letter $z$, so $z = a+bi$:\n",
    "\n",
    "- $a$ is the real part of $z$, which we denote $\\textrm{Re}(z) = a$.\n",
    "- $b$ is the imaginary part of $z$, which we denote $\\textrm{Im}(z) = b$. \n",
    "- $z^* = a-bi$ is called the complex conjugate of $z = a+bi$. \n",
    "\n",
    "Just as we have a number line for real numbers, we can draw complex numbers on an *x*, *y*-axis called an {term}`Argand diagram` with imaginary numbers of the *y*-axis and real numbers on the *x*-axis. \n",
    "We have drawn $2+3i$ on the {term}`Argand diagram` below. "
   ]
  },
  {
   "cell_type": "code",
   "execution_count": null,
   "id": "03c960bd",
   "metadata": {
    "tags": [
     "hide-input"
    ]
   },
   "outputs": [],
   "source": [
    "import numpy as np\n",
    "import matplotlib.pyplot as plt\n",
    "\n",
    "x = np.linspace(0, 2, 2)\n",
    "y = 3 / 2 * x\n",
    "\n",
    "fig, ax = plt.subplots(figsize=(4, 6))\n",
    "ax.plot(x, y, 'k-')\n",
    "ax.plot(x[-1], y[-1], 'o', ms=10)\n",
    "ax.set_xlabel(r'$\\text{Re}(z)$')\n",
    "ax.set_ylabel(r'$\\text{Im}(z)$')\n",
    "\n",
    "plt.show()\n"
   ]
  },
  {
   "cell_type": "markdown",
   "id": "facf89a4",
   "metadata": {},
   "source": [
    "```{admonition} Example\n",
    ":class: example\n",
    "\n",
    "Find the imaginary and real parts of the following complex numbers, along with their complex conjugates: \n",
    "\n",
    "1. $z=-3+5i$\n",
    "2. $z=1-2\\sqrt{3}i$\n",
    "3. $z=i$\n",
    "\n",
    "*Solution:* \n",
    "\n",
    "1. For $z=-3+5i$, we have $\\textrm{Re}(z) = -3$, $\\textrm{Im}(z) = 5$, and $z^*=-3-5i$. \n",
    "2. For $z=1-2\\sqrt{3}i$, we have $\\textrm{Re}(z) = 1$, $\\textrm{Im}(z) = -2\\sqrt{3}$, and $z^*=1+2\\sqrt{3}$. \n",
    "3. For $z=i$, we have $\\textrm{Re}(z) = 0$, $\\textrm{Im}(z) = 1$, and $z^*=-i$. \n",
    "```\n",
    "\n",
    "## Different Form for Complex Numbers \n",
    "\n",
    "When a complex number $z$ is in the form $z=a+bi$, we say it is written in Cartesian form. \n",
    "We can also write complex numbers in: \n",
    "\n",
    "````{margin}\n",
    "```{note}\n",
    "These two forms are related via [Euler's formula](https://en.wikipedia.org/wiki/Euler%27s_formula), which has been referred to as \"the most remarkable formula in mathematics\". \n",
    "```\n",
    "````\n",
    "- Polar form: $r(\\cos{(\\phi)} + i\\sin{(\\phi)})$\n",
    "- Exponential form: $r\\exp{(i\\phi)}$ \n",
    "\n",
    "where the magnitude $|z|$ (or modulus) of $z$ is the lenght $r$\n",
    "\n",
    "$$\n",
    "|z| = r = \\sqrt{a^2 + b^2}\n",
    "$$\n",
    "\n",
    "and the argument of $z$ is the angle $\\phi$ (in radians)\n",
    "\n",
    "$$\n",
    "\\arg{(z)}= \\phi = \\tan^{-1}\\left(\\frac{b}{a}\\right)\n",
    "$$\n",
    "\n",
    "This argument $\\phi$ is usually between $-\\pi$ and $\\pi$. \n",
    "Expressed mathematically, this is $-\\pi < \\phi \\leq \\pi$. \n",
    "\n",
    "We can see on the an {term}`Argand diagram`, the relationship between the different forms for representing a complex number. "
   ]
  },
  {
   "cell_type": "code",
   "execution_count": null,
   "id": "c25cdf7b",
   "metadata": {
    "tags": [
     "hide-input"
    ]
   },
   "outputs": [],
   "source": [
    "from matplotlib.patches import Arc\n",
    "\n",
    "fig, ax = plt.subplots(figsize=(4, 6))\n",
    "ax.plot(x, y, 'k-')\n",
    "ax.annotate(\"\", xytext=(0, 0), xy=(2, 0), arrowprops=dict(arrowstyle=\"<->\", color='b'))\n",
    "ax.text(1, 0.1, '$a$', va='center', ha='center', color='b')\n",
    "ax.annotate(\"\", xytext=(2, 0), xy=(2, 3), arrowprops=dict(arrowstyle=\"<->\", color='b'))\n",
    "ax.text(2-0.05, 1.5, '$b$', va='center', ha='center', color='b')\n",
    "ax.annotate(\"\", xytext=(0, 0.1), xy=(2, 3.1), arrowprops=dict(arrowstyle=\"<->\", color='b'))\n",
    "ax.text(1, 1.7, '$r$', va='center', ha='center', color='b')\n",
    "arc = Arc([0, 0], 1, 1, theta1=0, theta2=56.31, color='b')\n",
    "ax.add_patch(arc)\n",
    "ax.text(0.5, 0.27, '$\\phi$', va='center', ha='center', color='b')\n",
    "\n",
    "ax.plot(x[-1], y[-1], 'o', ms=10, zorder=10)\n",
    "\n",
    "ax.set_xlabel(r'$\\text{Re}(z)$')\n",
    "ax.set_ylabel(r'$\\text{Im}(z)$')\n",
    "\n",
    "plt.show()"
   ]
  },
  {
   "cell_type": "markdown",
   "id": "1b8bf491",
   "metadata": {},
   "source": [
    "```{admonition} Example\n",
    ":class: example\n",
    "\n",
    "Find the modulus and argument of the following complex numbers: \n",
    "\n",
    "1. $3+3i$\n",
    "2. $-4+3i$\n",
    "3. $-3i$\n",
    "4. 4\n",
    "\n",
    "*Solution:*\n",
    "\n",
    "1. For $3+3i$, we have $|z|=\\sqrt{3^2 + 3^2} = \\sqrt{18}$ and $\\arg{(z)}=\\tan^{-1}\\left(\\frac{3}{3}\\right) = \\frac{\\pi}{4}\\;\\textrm{rad}$.\n",
    "2. For $-4+3i$, we have $|z|=\\sqrt{(-4)^2 + 3^2} = 5$ and $\\arg{(z)}=\\tan^{-1}\\left(\\frac{3}{-4}\\right) = -0.64\\;\\textrm{rad}$.\n",
    "3. For $-3i$, we have $|z|=\\sqrt{0^2 + (-3)^2} = 3$ and $\\arg{(z)}=\\tan^{-1}\\left(\\frac{-3}{0}\\right)$. \n",
    "    \n",
    "    This calculation does not make sense, since we can't divide by zero. \n",
    "    However, if we imagine the {term}`Argand diagram`, the argument is $\\arg{(z)}=\\frac{\\pi}{2}\\;\\textrm{rad}$, is the vector would be pointing negative along the $\\textrm{Im}(z)$ axis. \n",
    "4. For $4$, we have $|z|=\\sqrt{4^2 + 0^2} = 4$ and $\\arg{(z)}=\\tan^{-1}\\left(\\frac{0}{4}\\right) = 0\\;\\textrm{rad}$\n",
    "```\n",
    "\n",
    "<hr>\n",
    "\n",
    "Python can natively handle complex numbers, but the `numpy` module is necessary to find the argument of a complex number, with the `np.angle` function. "
   ]
  },
  {
   "cell_type": "code",
   "execution_count": null,
   "id": "75f40620",
   "metadata": {},
   "outputs": [],
   "source": [
    "z = complex(3, 3)\n",
    "abs(z), np.angle(z)"
   ]
  },
  {
   "cell_type": "markdown",
   "id": "19b41e0f",
   "metadata": {},
   "source": [
    "The `abs` function is used to magnitude or modulus. "
   ]
  },
  {
   "cell_type": "code",
   "execution_count": null,
   "id": "958e6772",
   "metadata": {},
   "outputs": [],
   "source": [
    "z = complex(-4, 3)\n",
    "abs(z), np.angle(z)"
   ]
  },
  {
   "cell_type": "markdown",
   "id": "2a279708",
   "metadata": {},
   "source": [
    "The `numpy` function is capable of handling the divide by zero appropriately. "
   ]
  },
  {
   "cell_type": "code",
   "execution_count": null,
   "id": "f092b5bc",
   "metadata": {},
   "outputs": [],
   "source": [
    "z = complex(0, -3)\n",
    "abs(z), np.angle(z)"
   ]
  },
  {
   "cell_type": "code",
   "execution_count": null,
   "id": "59d93a0c",
   "metadata": {},
   "outputs": [],
   "source": [
    "z = complex(4, 0)\n",
    "abs(z), np.angle(z)"
   ]
  },
  {
   "cell_type": "markdown",
   "id": "4e4935ac",
   "metadata": {},
   "source": [
    "<hr>\n",
    "\n",
    "```{admonition} Example\n",
    ":class: example\n",
    "\n",
    "Express $4-5i$ in polar and exponential form. \n",
    "\n",
    "*Solution:* First, we need to find the modulus and argument . \n",
    "\n",
    "$$\n",
    "|z| = r = \\sqrt{4^2 + (-5)^2} = \\sqrt{41}$\n",
    "$$\n",
    "\n",
    "and \n",
    "\n",
    "$$ \n",
    "\\arg{(z)} = \\phi = \\tan^{-1}\\left(\\frac{-5}{4}\\right) = -0.9\\;\\textrm{rad}\n",
    "$$\n",
    "\n",
    "So, in polar form, we have\n",
    "\n",
    "$$\n",
    "\\sqrt{41}\\left(\\cos{(-0.9)} + i\\sin{(-0.9)}\\right)\n",
    "$$\n",
    "\n",
    "and in exponential form, \n",
    "\n",
    "$$\n",
    "\\sqrt{41}\\exp{(-0.9i)}\n",
    "$$\n",
    "```\n",
    "\n",
    "```{admonition} Radial Wave Function\n",
    ":class: chem\n",
    "\n",
    "Written in the exponential form, the radial wave function for a 2p orbital of hydrogen is: \n",
    "\n",
    "$$\n",
    "\\psi_{2\\textrm{p}} = \\mp \\frac{1}{\\sqrt{2}}r \\sin{(\\theta)}\\exp{(\\pm i\\phi)} f(r)\n",
    "$$\n",
    "\n",
    "Write this in polar form. \n",
    "\n",
    "*Solution:* A complex number in exponential form: $r\\exp{(i\\phi)}$ has the polar form $r\\left(\\cos{(\\phi)} + i\\sin{(\\phi)}\\right)$. \n",
    "\n",
    "Because of the $\\mp$ and $\\pm$ signs in this question, we have either: \n",
    "\n",
    "$$\n",
    "r = \\frac{1}{\\sqrt{2}}r\\sin{(\\theta)}f(r)\\;\\;\\;\\textrm{and}\\;\\;\\;\\phi = -\\phi \n",
    "$$\n",
    "\n",
    "<center>OR</center>\n",
    "\n",
    "$$\n",
    "r = -\\frac{1}{\\sqrt{2}}r\\sin{(\\theta)}f(r)\\;\\;\\;\\textrm{and}\\;\\;\\;\\phi = \\phi \n",
    "$$ \n",
    "\n",
    "Hence in the polar form, we have either:\n",
    "\n",
    "$$\n",
    "r = \\frac{1}{\\sqrt{2}}r\\sin{(\\theta)}f(r)\\left(\\cos{(-\\phi)} + i\\sin{(-\\phi)}\\right) \n",
    "$$\n",
    "\n",
    "<center>OR</center>\n",
    "r = -\\frac{1}{\\sqrt{2}}r\\sin{(\\theta)}f(r)\\left(\\cos{(\\phi)} + i\\sin{(\\phi)}\\right) \n",
    "$$ \n",
    "```\n",
    "\n",
    "## Applications\n",
    "\n",
    "When using the quadratic formula: \n",
    "\n",
    "$$\n",
    "\\frac{-b\\pm\\sqrt{b^2-4ac}}{2a}\n",
    "$$\n",
    "\n",
    "we would not have known what to do if $b^2-4ac$ was negative, however, now we are able to solve this square root using imaginary numbers. \n",
    "\n",
    "````{margin}\n",
    "```{note}\n",
    "The two roots in this result at the complex conjugates of each other. \n",
    "```\n",
    "````\n",
    "```{admonition} Example\n",
    ":class: example\n",
    "\n",
    "Solve the equation $x^2+3x+12$, using the quadratic formula. \n",
    "\n",
    "*Solution:* So we have that $a=1$, $b=3$, and $c=12$, so the quadratic formula gives: \n",
    "\n",
    "$$\n",
    "\\begin{aligned}\n",
    "\\frac{-b\\pm\\sqrt{b^2-4ac}}{2a} & = \\frac{-3\\pm\\sqrt{3^2-4\\times 1\\times 12}}{2\\times 1} \\\\\n",
    "& = \\frac{-3\\pm\\sqrt{-39}}{2} \\\\\n",
    "& = \\frac{-3\\pm i\\sqrt{39}}{2} \n",
    "\\end{aligned}\n",
    "$$\n",
    "\n",
    "This gives us $x = \\frac{-3 + i\\sqrt{39}}{2}$ and $x = \\frac{-3 - i\\sqrt{39}}{2}$. \n",
    "```\n",
    "\n",
    "<hr>\n",
    "\n",
    "As we would expect, `sympy` can help us with this. \n",
    "````{margin}\n",
    "```{admonition} Python Note\n",
    ":class: python\n",
    "\n",
    "`sympy`, confusingly, uses the uppercase `I` to indicate $i$. \n",
    "```\n",
    "````"
   ]
  },
  {
   "cell_type": "code",
   "execution_count": null,
   "id": "8e170391",
   "metadata": {},
   "outputs": [],
   "source": [
    "from sympy import symbols, solve\n",
    "\n",
    "x = symbols('x')\n",
    "\n",
    "solve(x**2 + 3*x + 12, x)"
   ]
  },
  {
   "cell_type": "markdown",
   "id": "cff00aa4",
   "metadata": {},
   "source": [
    "But we can also use the [quadratic formula](./../algebra/solving-quadratics.ipynb#the-quadratic-formula), however, it is necessary that our inputs for $a$, $b$, and $c$ are `complex`-type variables. "
   ]
  },
  {
   "cell_type": "code",
   "execution_count": null,
   "id": "3d7e849e",
   "metadata": {},
   "outputs": [],
   "source": [
    "def quadratic_formula(a, b, c):\n",
    "    \"\"\"\n",
    "    Returns the two solutions to the quadratic equation ax^2 + bx + c = 0. \n",
    "    \n",
    "    :param a: Coefficient of x^2\n",
    "    :param b: Coefficient of x\n",
    "    :param c: Constant term\n",
    "    :return: A tuple containing the two roots\n",
    "    \"\"\"\n",
    "    discriminant = b**2 - 4 * a * c\n",
    "    root1 = (-b + np.sqrt(discriminant)) / (2 * a)\n",
    "    root2 = (-b - np.sqrt(discriminant)) / (2 * a)\n",
    "    \n",
    "    return root1, root2\n",
    "\n",
    "quadratic_formula(1+0j, 3+0j, 12+0j)"
   ]
  },
  {
   "cell_type": "markdown",
   "id": "25e9afec",
   "metadata": {},
   "source": [
    "<hr>"
   ]
  }
 ],
 "metadata": {
  "kernelspec": {
   "display_name": "m4c",
   "language": "python",
   "name": "python3"
  },
  "language_info": {
   "codemirror_mode": {
    "name": "ipython",
    "version": 3
   },
   "file_extension": ".py",
   "mimetype": "text/x-python",
   "name": "python",
   "nbconvert_exporter": "python",
   "pygments_lexer": "ipython3",
   "version": "3.11.11"
  }
 },
 "nbformat": 4,
 "nbformat_minor": 5
}
