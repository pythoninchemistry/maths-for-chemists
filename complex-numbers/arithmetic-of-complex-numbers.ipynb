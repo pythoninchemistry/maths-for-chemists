{
 "cells": [
  {
   "cell_type": "markdown",
   "id": "65c366ad",
   "metadata": {},
   "source": [
    "# Arithmetic of Complex Numbers\n",
    "\n",
    "If we have two complex numbers $a+bi$ and $c+di$, then we have the following rules for the arithmetic between them: \n",
    "\n",
    "1. **Addition**: \n",
    "\n",
    "    $$\n",
    "    (a+bi)(c+di) = (a+c) + (b+d)i\n",
    "    $$\n",
    "\n",
    "    Add the real parts and add the imaginary parts separately. \n",
    "\n",
    "2. **Subtraction**:\n",
    "\n",
    "    $$\n",
    "    (a+bi)-(c+di) = (a-c) + (b-d)i\n",
    "    $$\n",
    "\n",
    "    Same as addition, but with subtraction. \n",
    "\n",
    "3. **Multiplication**: \n",
    "\n",
    "    $$\n",
    "    (a+bi)(c+di) = (ac - bd) + (ad + bc)i\n",
    "    $$\n",
    "\n",
    "    Treat it as 2 sets of brackets and use FOIL. Remembering that $i^2=-1$.\n",
    "\n",
    "4. **Division**:\n",
    "\n",
    "    $$\n",
    "    \\frac{a+bi}{c+di} = \\frac{ac+bd}{c^2+d^2} + \\frac{bc-ad}{c^2+d^2}i\n",
    "    $$\n",
    "\n",
    "    Multiply the numerator and demoniator by the conjugate of the denominator. \n",
    "    This makes the demoninater a real number and the numerator the multiplication of two complex numbers. \n",
    "\n",
    "```{admonition} Example\n",
    ":class: example\n",
    "\n",
    "Find the following: \n",
    "\n",
    "1. $(2+i)+(1-i)$\n",
    "2. $(-4-4i) - (-5i)$\n",
    "3. $(1+i)(2-3i)$\n",
    "4. $\\frac{1-i}{2+3i}$\n",
    "\n",
    "*Solution:*\n",
    "\n",
    "1. $(2+i)+(1-i) = (2+1) + (1-1)i = 3$\n",
    "2. $(-4-4i) - (-5i) = (-4-0) + (-4-(-5))i = -4+i$\n",
    "3. $(1+i)(2-3i) = ((1\\times 2) - (1\\times -3)) + ((1\\times -3) + (1\\times 2))i = 5-i$\n",
    "4. $\\frac{1-i}{2+3i} = \\frac{(1\\times 2) + (-1\\times 3)}{2^2+3^2} + \\frac{(-1\\times 2) - (1\\times 3)}{2^2+3^2} i = \\frac{-1}{13} - \\frac{5}{13}i$\n",
    "```\n",
    "\n",
    "<hr>\n",
    "\n",
    "Naturally, the Python `complex`-type is capable of this arithmetic. "
   ]
  },
  {
   "cell_type": "code",
   "execution_count": null,
   "id": "abc76442",
   "metadata": {},
   "outputs": [],
   "source": [
    "2 + 1j + 1 - 1j"
   ]
  },
  {
   "cell_type": "code",
   "execution_count": null,
   "id": "122ff23b",
   "metadata": {},
   "outputs": [],
   "source": [
    "-4-4j - (-5j)"
   ]
  },
  {
   "cell_type": "code",
   "execution_count": null,
   "id": "fa0bd594",
   "metadata": {},
   "outputs": [],
   "source": [
    "(1 + 1j) * (2 - 3j)"
   ]
  },
  {
   "cell_type": "code",
   "execution_count": null,
   "id": "df5033c8",
   "metadata": {},
   "outputs": [],
   "source": [
    "(1 - 1j) / (2 + 3j)"
   ]
  },
  {
   "cell_type": "markdown",
   "id": "137ede04",
   "metadata": {},
   "source": [
    "<hr>\n",
    "\n",
    "````{margin}\n",
    "```{note}\n",
    "$a^2+b^2$ is also $r^2$ if the complex number was in polar or exponential form. \n",
    "Since $r$ is called the modulus, $\\Psi\\Psi^*$ is often called the mod-squared distribution, since it produces the modulus squared. \n",
    "```\n",
    "````\n",
    "```{admonition} Particle Probability\n",
    ":class: chem\n",
    "\n",
    "A particle is describes by a wavefunction $\\Psi$. \n",
    "To calculate the probability of finding this particle somewhere $\\Psi\\Psi^*$ needs to be calculated.\n",
    "When $\\Psi$ is in the form: \n",
    "\n",
    "$$\n",
    "\\Psi = a+bi\n",
    "$$\n",
    "\n",
    "calculate $\\Psi\\Psi^*$. \n",
    "\n",
    "*Solution:* Since $\\psi = a+bi$, this means that $\\Psi^*=a-bi$. \n",
    "\n",
    "- Multipying them together gives: $(a+bi)(a-bi)$\n",
    "- Expand the brackets: $a^2 + abi - abi - (bi)^2$\n",
    "- Simplify this: $a^2-b^2i^2$\n",
    "- Simplify the $i^2$: $a^2+b^2$. \n",
    "```"
   ]
  }
 ],
 "metadata": {
  "kernelspec": {
   "display_name": "m4c",
   "language": "python",
   "name": "python3"
  },
  "language_info": {
   "codemirror_mode": {
    "name": "ipython",
    "version": 3
   },
   "file_extension": ".py",
   "mimetype": "text/x-python",
   "name": "python",
   "nbconvert_exporter": "python",
   "pygments_lexer": "ipython3",
   "version": "3.11.11"
  }
 },
 "nbformat": 4,
 "nbformat_minor": 5
}
