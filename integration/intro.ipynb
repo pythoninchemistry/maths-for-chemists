{
 "cells": [
  {
   "cell_type": "markdown",
   "id": "b79e1463",
   "metadata": {},
   "source": [
    "# Introduction to Integration"
   ]
  }
 ],
 "metadata": {
  "language_info": {
   "name": "python"
  }
 },
 "nbformat": 4,
 "nbformat_minor": 5
}
