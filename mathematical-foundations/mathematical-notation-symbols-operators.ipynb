{
 "cells": [
  {
   "cell_type": "markdown",
   "id": "dc40b534",
   "metadata": {},
   "source": [
    "# Mathematical Notation, Symbols and Operators\n",
    "\n",
    "In order to save ourselves time, we often use symbols as shorthand. \n",
    "We look at three new symbols &Delta;, &Sigma; and &Pi;, which are used to describe operations, just like (&plus;), (&minus;), (&times;), and (&divide;).\n",
    "\n",
    "## The Delta &Delta; Operator\n",
    "\n",
    "We use the Greek capital letter &Delta (called delta) to represent the difference (or change) between the start and end values of a quantity. \n",
    "For any quantity $A$: \n",
    "\n",
    "$$\n",
    "\\Delta A = A_{\\textrm{final}} - A_{\\textrm{initial}}\n",
    "$$\n",
    "\n",
    "where $A_{\\textrm{final}}$ is the final amount of $A$ and $A_{\\textrm{initial}}$ is the initial amount of $A$, so $\\Delta A$ is equal to the difference between these to values. \n",
    "````{margin}\n",
    "```{note}\n",
    "If $\\Delta A$ is positive, then there is an increase in $A$ and if $\\Delta A$ is negative, then there is a decrease in $A$. \n",
    "```\n",
    "````\n",
    "\n",
    "```{admonition} Change in Absorbance\n",
    ":class: chem\n",
    "If the optical abosrbance $Abs$ increase from 0.65 to 1.35 during a reaction, what is $\\Delta(Abs)$? \n",
    "\n",
    "First recall that:\n",
    "\n",
    "$$\n",
    "\\Delta(Abs) = Abs_{\\textrm{final}} - Abs_{\\textrm{initial}} \n",
    "$$\n",
    "\n",
    "From the question, $Abs_{\\textrm{initial}} = 0.65$ and $Abs_{\\textrm{final}} = 1.35$. \n",
    "Hence $\\Delta(Abs) = 1.35 - 0.65 = 0.70$.\n",
    "```\n",
    "\n",
    "<hr>\n",
    "\n",
    "This is straightforward in Python"
   ]
  },
  {
   "cell_type": "code",
   "execution_count": null,
   "id": "dace7e90",
   "metadata": {},
   "outputs": [],
   "source": [
    "abs_initial = 0.65\n",
    "abs_final = 1.35\n",
    "\n",
    "delta_abs = abs_final - abs_initial\n",
    "delta_abs"
   ]
  },
  {
   "cell_type": "markdown",
   "id": "cddb4465",
   "metadata": {},
   "source": [
    "<hr>\n",
    "\n",
    "## The Sigma &Sigma; Operator\n",
    "\n",
    "The Greek capital letter &Sigma; (called sigma) is used to represent a sum, normally long sums which would take a while to write out completely. \n",
    "The general form for a sum using sigma is: \n",
    "\n",
    "$$\n",
    "\\sum^{n}_{i=1}{X_i} = X_1 + X_2 + X_3 + \\ldots + X_n\n",
    "$$\n",
    "\n",
    "Below, we have which each of the terms in the sum means: \n",
    "\n",
    "- $X_i$ are the numbers that are being summed; it could be an expression involving $i$. \n",
    "- $i$ is called the summation index; it identifies each term in the sum. \n",
    "- $i=1$ tells us to start summing at $i=1$. \n",
    "- $n$ tells us to stop summing when we have reached $i=n$. \n",
    "\n",
    "For a numerical explanation, consider take the sum $1 + 2 + 3 + 4 + 5$. \n",
    "This can be simplified into the sum notation as $\\sum_{i=1}^{5}i$. \n",
    "From the notation, we can see that we are summing the number $i$ from when $i$ is equal to 1 to 5. \n",
    "\n",
    "```{admonition} Example\n",
    ":class: example\n",
    "What is the value of $\\sum_{i=4}^7{i^2}$\n",
    "\n",
    "To begin, we 'read' what the operation is telling us to do. \n",
    "We know it is a sum from the &Sigma; and the terms we are summing are the squares of the index. \n",
    "We are starting with 4 and ending at 7 (and assum that each number is an integer). \n",
    "This then will give us: \n",
    "\n",
    "$$\n",
    "\\sum_{i=4}^7{i^2} = 4^2 + 5^2 + 6^2 + 7^2 = 16 + 25 + 36 + 49 = 126\n",
    "$$\n",
    "```\n",
    "\n",
    "<hr>\n",
    "\n",
    "In Python, there are two ways to perform a summation, the first (and significantly slower) approach is to use a loop, for example. "
   ]
  },
  {
   "cell_type": "code",
   "execution_count": null,
   "id": "90dbe673",
   "metadata": {},
   "outputs": [],
   "source": [
    "total = 0\n",
    "for i in range(4, 8):\n",
    "    total += i ** 2\n",
    "print(total)"
   ]
  },
  {
   "cell_type": "markdown",
   "id": "de99697d",
   "metadata": {},
   "source": [
    "The second is to use the `numpy` library. "
   ]
  },
  {
   "cell_type": "code",
   "execution_count": null,
   "id": "bf299d8e",
   "metadata": {},
   "outputs": [],
   "source": [
    "import numpy as np\n",
    "\n",
    "i = np.arange(4, 8)\n",
    "total = np.sum(np.square(i))\n",
    "print(total)"
   ]
  },
  {
   "cell_type": "markdown",
   "id": "6ec06471",
   "metadata": {},
   "source": [
    "<hr>\n",
    "\n",
    "```{admonition} Relative Molecular Mass\n",
    ":class: chem\n",
    "The summation index might not be numbers, for example, when finding the RMM (relative molecular mass) of a molecule, we sum the masses of all its constituent elementes. \n",
    "This can be expressed as: \n",
    "\n",
    "$$\n",
    "\\sum_{i = \\textrm{Element}} N_iM_i\n",
    "$$\n",
    "\n",
    "where $i$ goes through all the elements present in the molecule. \n",
    "$N_i$ is the number of element $i$ atoms in the molecule and $M_i$ is the RAM (relative atomic mass) of element $i$. \n",
    "\n",
    "For example, finding the RMM of methane, CH<sub>4</sub> would look like this: \n",
    "\n",
    "$$\n",
    "\\sum_{i=\\textrm{Elements}} N_iM_i = N_{\\textrm{Carbon}}M_{\\textrm{Carbon}} + N_{\\textrm{Hydrogen}}M_{\\textrm{Hydrogen}} = (1 \\times 12) + (4 \\times 1) = 16\n",
    "$$\n",
    "```\n",
    "\n",
    "<hr>\n",
    "\n",
    "The above would be implemented with `numpy` as shown below."
   ]
  },
  {
   "cell_type": "code",
   "execution_count": null,
   "id": "05939667",
   "metadata": {},
   "outputs": [],
   "source": [
    "import numpy as np\n",
    "\n",
    "N = np.array([1, 4])\n",
    "M = np.array([12, 1])\n",
    "\n",
    "np.sum(N * M)"
   ]
  },
  {
   "cell_type": "markdown",
   "id": "05880ca1",
   "metadata": {},
   "source": [
    "<hr>\n",
    "\n",
    "(foundations:notation:product)=\n",
    "## The Pi &Pi; Operator\n",
    "\n",
    "You will be familiar with the Greek letter &pi; (called pi) as the constant 3.1415... \n",
    "But capital pi &Pi; is used as an operator. \n",
    "The operation it represents is similar to the one that the &Sigma; operator does, but instead of adding all the terms, you multiply them. \n",
    "The general form for the product using &Pi; is: \n",
    "\n",
    "$$\n",
    "\\prod_{i=1}^{n} X_i = X_1 \\times X_2 \\times X_3 \\times \\ldots \\times X_n\n",
    "$$\n",
    "\n",
    "All the other notation you should recongise from the &Sigma; operator. \n",
    "````{margin}\n",
    "```{note} \n",
    "An easy way to remember which is which, **S**igma = **S**um, **P**i = **P**roduct. \n",
    "```\n",
    "````\n",
    "\n",
    "```{admonition} Overall Yield\n",
    ":class: chem \n",
    "\n",
    "A chemist is making a species that requires 3 steps. \n",
    "The first step gives a 66 % yield, the second gives a 50 % yield and the third gives a 95 % yield. \n",
    "What is the overall percentage yield for this synthesis? \n",
    "\n",
    "We can calculate the overall percentage yield by using the &Pi; operator as the overall yield is the product of all the individual yields. \n",
    "\n",
    "$$\n",
    "\\textrm{Overall Yield} = \\prod_{i=1}^{3}(\\textrm{yield of step i})\n",
    "$$\n",
    "\n",
    "Plugging in the numbers gives: \n",
    "\n",
    "$$\n",
    "\\begin{aligned}\n",
    "\\textrm{Overall Yield} & = \\textrm{yield of step 1} \\times \\textrm{yield of step 2} \\times \\textrm{yield of step 3} \\\\ \n",
    " & = 0.66 \\times 0.50 \\times 0.95 = 0.3135\n",
    "\\end{aligned}\n",
    "$$\n",
    "Hence the overall percentage yield will be 31 % to 2 significant figures. \n",
    "```\n",
    "\n",
    "<hr>\n",
    "\n",
    "In Python, we can use the `np.prod` function. "
   ]
  },
  {
   "cell_type": "code",
   "execution_count": null,
   "id": "0c6ce1bd",
   "metadata": {},
   "outputs": [],
   "source": [
    "import numpy as np\n",
    "\n",
    "yields = np.array([0.66, 0.5, 0.95])\n",
    "overall_yield = np.prod(yields)\n",
    "overall_yield"
   ]
  },
  {
   "cell_type": "markdown",
   "id": "245214fe",
   "metadata": {},
   "source": [
    "<hr>"
   ]
  }
 ],
 "metadata": {
  "kernelspec": {
   "display_name": "m4c",
   "language": "python",
   "name": "python3"
  },
  "language_info": {
   "codemirror_mode": {
    "name": "ipython",
    "version": 3
   },
   "file_extension": ".py",
   "mimetype": "text/x-python",
   "name": "python",
   "nbconvert_exporter": "python",
   "pygments_lexer": "ipython3",
   "version": "3.11.11"
  }
 },
 "nbformat": 4,
 "nbformat_minor": 5
}
