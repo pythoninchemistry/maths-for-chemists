{
 "cells": [
  {
   "cell_type": "markdown",
   "id": "9a1bd7f8",
   "metadata": {},
   "source": [
    "# Graphs\n",
    "\n",
    "Plotting data on a graph has the major advantage, it is often clear to see trends and patterns that are present. \n",
    "In experiments, we have: \n",
    "- a control variable that we can change, \n",
    "- an observed variable that we measure, \n",
    "- and all other quantities we try to keep constant. \n",
    "\n",
    "When plotting a graph of data, we always plot the control variable along the horizontal (or $x$-) axis and the observed variable along the vertical (or $y$-) axis. "
   ]
  },
  {
   "cell_type": "code",
   "execution_count": null,
   "id": "dd7191d0",
   "metadata": {
    "tags": [
     "hide-input"
    ]
   },
   "outputs": [],
   "source": [
    "import matplotlib.pyplot as plt\n",
    "import numpy as np \n",
    "\n",
    "x = np.linspace(-1, 6, 10)\n",
    "y = 0.5 * x + 1\n",
    "\n",
    "plt.plot(x, y)\n",
    "plt.xlabel('Control variable, $x$')\n",
    "plt.ylabel('Observed variable, $y$')\n",
    "plt.show()"
   ]
  },
  {
   "cell_type": "markdown",
   "id": "5adbf0be",
   "metadata": {},
   "source": [
    "## Straight Line Graphs\n",
    "\n",
    "Straight line graphs come in the form: \n",
    "\n",
    "$$\n",
    "y = mx + c\n",
    "$$\n",
    "\n",
    "where $x$ is the control variable, $y$ is the observed variable and $m$ and $c$ are constants. \n",
    "\n",
    "- $c$ is known as the intercept and is where the graph passes through the $y$-axis. \n",
    "    Hence to find $c$, we find the value of $y$ when $x=0$. \n",
    "- $m$ is known as the gradient and describes how steep the line is. \n",
    "    It can be found by drawing a \"triangle\" on the straight line and using it to calculate the equation: \n",
    "\n",
    "$$\n",
    "m = \\frac{\\Delta y}{\\Delta x}\n",
    "$$\n",
    "\n",
    "This can all be visualised on the graph below: "
   ]
  },
  {
   "cell_type": "code",
   "execution_count": null,
   "id": "06eec793",
   "metadata": {
    "tags": [
     "hide-input"
    ]
   },
   "outputs": [],
   "source": [
    "x = np.linspace(-0.2, 3.3, 100)\n",
    "y = 2 * x - 1\n",
    "\n",
    "plt.plot(x, y)\n",
    "plt.axvline(x=0, color='gray', linestyle='-')\n",
    "plt.axhline(y=0, color='gray', linestyle='-')\n",
    "plt.axvline(x=1, color='red', linestyle='--', ymin=0.2, ymax=0.38)\n",
    "plt.axvline(x=3, color='red', linestyle='--', ymin=0.2, ymax=0.38)\n",
    "plt.axvline(x=3, color='red', linestyle='-', ymin=0.38, ymax=0.87)\n",
    "plt.axhline(y=1, color='red', linestyle='--', xmin=0.21, xmax=0.38)\n",
    "plt.axhline(y=5, color='red', linestyle='--', xmin=0.21, xmax=0.625)\n",
    "plt.axhline(y=1, color='red', linestyle='-', xmin=0.38, xmax=0.625)\n",
    "plt.text(-0.5, 1, '$y_1$', fontsize=12, ha='center')\n",
    "plt.text(-0.5, 5, '$y_2$', fontsize=12, ha='center')\n",
    "plt.text(1, -0.7, '$x_1$', fontsize=12, ha='center')\n",
    "plt.text(3, -0.7, '$x_2$', fontsize=12, ha='center')\n",
    "plt.text(2, 0.6, '$\\Delta x$', fontsize=12, ha='center')\n",
    "plt.text(3.3, 3, '$\\Delta y$', fontsize=12, ha='center')\n",
    "plt.text(3.4, 5.4, '$f(x)=2x-1$', fontsize=12, ha='left')\n",
    "plt.xlabel('Control variable, $x$')\n",
    "plt.ylabel('Observed variable, $y$')\n",
    "plt.xlim(-2, 6)\n",
    "plt.ylim(-2, 6)\n",
    "plt.show()"
   ]
  },
  {
   "cell_type": "markdown",
   "id": "be3fffd8",
   "metadata": {},
   "source": [
    "````{admonition} Example\n",
    ":class: Example\n",
    "What is the equation of the straight line shown in the diagram below? \n",
    "```{image} ./images/graph1.png\n",
    ":alt: A plot with a straight line with the equation y=2x + 1.\n",
    ":width: 80%\n",
    ":align: center\n",
    "```\n",
    "\n",
    "*Solution:* We know that since this is a straight line, it will be in the form $y=mx+c$. \n",
    "The values of $c$ is the value of $y$ when $x=0$. At $x=0$, $y=1$ from the graph. \n",
    "Therefore, $c=1$. \n",
    "\n",
    "To find $m$, we need to calculate $\\frac{\\Delta y}{\\Delta x}$. \n",
    "Using the triangle method with the triangle in the above graph gives: \n",
    "\n",
    "$$\n",
    "\\textrm{gradient} = \\frac{\\Delta y}{\\Delta x} = \\frac{y_2-y_1}{x_2-x_1} = \\frac{3 - (-1)}{1 - (-1)} = \\frac{4}{2} = 2\n",
    "$$\n",
    "\n",
    "Since $m=2$, the equation of the line is $y=2x+1$. \n",
    "````"
   ]
  },
  {
   "cell_type": "markdown",
   "id": "b92ada04",
   "metadata": {},
   "source": [
    "````{admonition} Example\n",
    ":class: Example\n",
    "What is the equation of the straight line shown in the diagram below? \n",
    "\n",
    "```{image} ./images/graph2.png\n",
    ":alt: A plot with a straight line with the equation y=-0.5x.\n",
    ":width: 80%\n",
    ":align: center\n",
    "```\n",
    "\n",
    "*Solution:* Since this is a straight line, it will be in the form $y=mx+c$. \n",
    "The values of $c$ can be seen to be $0$, because when $x=0$, $y$ is also $0$.\n",
    "\n",
    "Using the triangle method, we can find the gradient of the line. \n",
    "with the triangles on the graph, we have\n",
    "\n",
    "$$\n",
    "\\textrm{gradient} = \\frac{\\Delta y}{\\Delta x} = \\frac{y_2-y_1}{x_2-x_1} = \\frac{-1 - 1}{2 - (-2)} = \\frac{-2}{4} = \\frac{-1}{2}\n",
    "$$\n",
    "\n",
    "Since $m=\\frac{-1}{2}$, the equation of the line is $y=\\frac{-1}{2}x$. \n",
    "````\n",
    "\n",
    "<hr>\n",
    "\n",
    "Python, specifically the `matplotlib` library can be used to plot these straight lines using their equations. "
   ]
  },
  {
   "cell_type": "code",
   "execution_count": null,
   "id": "5abcd4ba",
   "metadata": {},
   "outputs": [],
   "source": [
    "import matplotlib.pyplot as plt\n",
    "import numpy as np \n",
    "\n",
    "x = np.linspace(-3, 3, 100)\n",
    "line_1 = 2 * x +1 \n",
    "line_2 = -0.5 * x\n",
    "\n",
    "plt.plot(x, line_1, label='$y=2x+1$')\n",
    "plt.plot(x, line_2, label='$y=-0.5x$')\n",
    "plt.axhline(y=0, color='gray', linestyle='-')\n",
    "plt.axvline(x=0, color='gray', linestyle='-')\n",
    "plt.legend()\n",
    "plt.show()"
   ]
  },
  {
   "cell_type": "markdown",
   "id": "7da675a0",
   "metadata": {},
   "source": [
    "<hr>\n",
    "\n",
    "## Graphs with Units\n",
    "\n",
    "Often graphs won't be those of just numbers and a line, but instead will have some physical significance and hence include units. \n",
    "Consider the graph of a particles velocity as a function of time. "
   ]
  },
  {
   "cell_type": "code",
   "execution_count": null,
   "id": "c0893832",
   "metadata": {
    "tags": [
     "hide-input"
    ]
   },
   "outputs": [],
   "source": [
    "t = np.linspace(0, 10, 100)\n",
    "v = 8 * t + 25\n",
    "\n",
    "plt.plot(t, v)\n",
    "plt.xlabel('Time, $t$ (s)')\n",
    "plt.ylabel('Velocity, $v$ (m/s)')\n",
    "plt.xlim(0, None)\n",
    "plt.ylim(0, None)\n",
    "plt.show()"
   ]
  },
  {
   "cell_type": "markdown",
   "id": "34f16052",
   "metadata": {},
   "source": [
    "The equation of the line is $v = 8 t + 25$. \n",
    "$v$ has units of metres per second and to make the equation work so everything on the right hand side must also have units of metres per second as well. \n",
    "That means that the $c=25$ has units of m/s. \n",
    "This 25 m/s is the starting velocity of the particle. \n",
    "\n",
    "The units of $m$ can be worked out fro the equation: \n",
    "\n",
    "$$\n",
    "\\frac{\\Delta y}{\\Delta x} \\textrm{ or in this case }\\frac{\\Delta v}{\\Delta t}\n",
    "$$\n",
    "\n",
    "$\\Delta v$ has the same units as $v$ (m/s) and similarly $t$ has the units (s). \n",
    "This means $m$, the gradient, has the units of m/s &\\divide; s or m/s<sup>2</sup>. \n",
    "Since the gradient has units of distance per time squared, then it means that it is an acceleration. \n",
    "The particle will accelerate at 8 m/s<sup>2</sup>"
   ]
  }
 ],
 "metadata": {
  "kernelspec": {
   "display_name": "m4c",
   "language": "python",
   "name": "python3"
  },
  "language_info": {
   "codemirror_mode": {
    "name": "ipython",
    "version": 3
   },
   "file_extension": ".py",
   "mimetype": "text/x-python",
   "name": "python",
   "nbconvert_exporter": "python",
   "pygments_lexer": "ipython3",
   "version": "3.11.11"
  }
 },
 "nbformat": 4,
 "nbformat_minor": 5
}
