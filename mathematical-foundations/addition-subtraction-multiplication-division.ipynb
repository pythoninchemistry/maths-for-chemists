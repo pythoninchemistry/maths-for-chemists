{
 "cells": [
  {
   "cell_type": "markdown",
   "id": "e7f2a3f2",
   "metadata": {},
   "source": [
    "# Addition, Subtraction, Multiplication and Division\n",
    "\n",
    "We will all be familiar with the following operations: addition (&plus;), subtraction (&minus;), multiplication (&times;) and division (&divide;) but for the sake of completeness we will review some simple rules and conventions. \n",
    "\n",
    "```{list-table}\n",
    ":header-rows: 1\n",
    "\n",
    "* - Operator\n",
    "  - Mathematical Representation\n",
    "  - Pythonic Representation\n",
    "  - Ordering\n",
    "* - Addition\n",
    "  - $A + B$\n",
    "  - `A + B`\n",
    "  - $A + B = B + A$\n",
    "* - Subtraction\n",
    "  - $A - B$\n",
    "  - `A - B`\n",
    "  - $A - B \\neq B - A$\n",
    "* - Multiplication\n",
    "  - $A \\times B$\n",
    "  - `A * B`\n",
    "  - $A \\times B = B \\times A$\n",
    "* - Division\n",
    "  - $A \\div B$\n",
    "  - `A / B`\n",
    "  - $A \\div B \\neq B \\div A$\n",
    "```\n",
    "\n",
    "## Addition and Multiplication are Distributive\n",
    "\n",
    "For numbers $x$, $y$ and $a$ the distributive rule for addition and multiplication is:\n",
    "\n",
    "$$\n",
    "a \\times (x + y) = (a \\times x) + (a \\times y)\n",
    "$$\n",
    "\n",
    "```{admonition} Example\n",
    ":class: example\n",
    "For example, support we have $x = 3$, $y = 5$ and $a=6$ then: \n",
    "\n",
    "1. $ a \\times (x + y) = 6 \\times (3 + 5) = 6 \\times 8 = 48 $\n",
    "2. $(a \\times x) + (a \\times y) = (6 \\times 3) + (6 \\times 5) = 18 + 30 = 48$\n",
    "\n",
    "So $a \\times (x + y) = (a \\times x) + (a \\times y)$ and the distributive rule holds. \n",
    "```\n",
    "\n",
    "<hr>\n",
    "\n",
    "We show this with Python code below. "
   ]
  },
  {
   "cell_type": "code",
   "execution_count": null,
   "id": "f1d44ec0",
   "metadata": {},
   "outputs": [],
   "source": [
    "x = 3\n",
    "y = 5 \n",
    "a = 6"
   ]
  },
  {
   "cell_type": "code",
   "execution_count": null,
   "id": "fe042125",
   "metadata": {},
   "outputs": [],
   "source": [
    "a * (x + y)"
   ]
  },
  {
   "cell_type": "code",
   "execution_count": null,
   "id": "fc3050ee",
   "metadata": {},
   "outputs": [],
   "source": [
    "(a * x) + (a * y)"
   ]
  },
  {
   "cell_type": "markdown",
   "id": "f8e6240b",
   "metadata": {},
   "source": [
    "<hr>\n",
    "\n",
    "## Factorisation\n",
    "\n",
    "Factorisation is used to tidy up equations in order to make them easier to read and understand. \n",
    "\n",
    "````{margin}\n",
    "```{note}\n",
    "It is mathmematical convention not to include the &times; symbol when multiplying, so $4x$ means $4 \\times x$ and in this example $y = 4(2x+3)$ means $y = 4 \\times(2x + 3).\n",
    "```\n",
    "````\n",
    "```{admonition} Example\n",
    ":class: Example\n",
    "We can factorise the equation $y = 8x + 12$ if we note that both $8x$ and $12$ are divisible by $4$, this gives us $y = 4(2x + 3)$.\n",
    "```\n",
    "\n",
    "<hr>\n",
    "\n",
    "Again, we can see that these are equivalent with Python. "
   ]
  },
  {
   "cell_type": "code",
   "execution_count": null,
   "id": "25f90680",
   "metadata": {},
   "outputs": [],
   "source": [
    "8 * x + 12 == 4 * (2 * x + 3)"
   ]
  },
  {
   "cell_type": "markdown",
   "id": "868e8ec9",
   "metadata": {},
   "source": [
    "<hr>\n",
    "\n",
    "```{admonition} Example\n",
    ":class: example\n",
    "We can factorise the equation $y = 3x^2 + 6x$ if we note that both $3x^3$ and $6x$ are divisble by $3x^3$ this gives us, $y=3x(x^2 + 2)$. \n",
    "```\n",
    "\n",
    "<hr>"
   ]
  },
  {
   "cell_type": "code",
   "execution_count": null,
   "id": "0c828629",
   "metadata": {},
   "outputs": [],
   "source": [
    "3 * x ** 3 + 6 * x == 3 * x * (x ** 2 + 2)"
   ]
  },
  {
   "cell_type": "markdown",
   "id": "a804f6b5",
   "metadata": {},
   "source": [
    "<hr>\n",
    "\n",
    "## Multiplying Out Terms\n",
    "\n",
    "Multiplying out terms (or expanding out brackets) makes use of the distributive law to remove brackets from an equation and is the opposite of factorisation. \n",
    "\n",
    "```{admonition} Example\n",
    ":class: Example\n",
    "We can multiply out $y = 5(x + 3)$ to give $y = (5 \\times x) + (5 \\times 3) = 5x + 15$. \n",
    "```\n",
    "\n",
    "<hr>"
   ]
  },
  {
   "cell_type": "code",
   "execution_count": null,
   "id": "037cfb7d",
   "metadata": {},
   "outputs": [],
   "source": [
    "5 * (x + 3) == 5 * x + 15"
   ]
  },
  {
   "cell_type": "markdown",
   "id": "a87bdc45",
   "metadata": {},
   "source": [
    "<hr>\n",
    "\n",
    "```{admonition} Example\n",
    ":class: Example\n",
    "We can multiply out the equation $y = 3z(2x^4 + 7)$ to give: \n",
    "\n",
    "$$\n",
    "y = (3z\\times 2x^4) + (3z \\times 7) = 6zx^4 + 21z\n",
    "$$\n",
    "```\n",
    "\n",
    "<hr>"
   ]
  },
  {
   "cell_type": "code",
   "execution_count": null,
   "id": "4a4cc2c6",
   "metadata": {},
   "outputs": [],
   "source": [
    "z = 2\n",
    "\n",
    "3 * z * (2 * x ** 4 + 7) == 6 * z * x ** 4 + 21 * z"
   ]
  },
  {
   "cell_type": "markdown",
   "id": "8f0567b7",
   "metadata": {},
   "source": [
    "<hr>\n",
    "\n",
    "```{admonition} Example\n",
    ":class: example\n",
    "We can multiply out the equation $y = 3a[(a + 3b) - 5(2b-a)]$ to give:\n",
    "\n",
    "$$\n",
    "\\begin{aligned}\n",
    "y & = 3a [(a + 3b) - (5 \\times 2b - 5 \\times a)] = 3a [(a + 3b) - (10b - 5a)] \\\\\n",
    " & = 3a (6a - 7b) = 18a^2 - 21ab\n",
    "\\end{aligned}\n",
    "$$\n",
    "```\n",
    "\n",
    "<hr>"
   ]
  },
  {
   "cell_type": "code",
   "execution_count": null,
   "id": "34e2a990",
   "metadata": {},
   "outputs": [],
   "source": [
    "a = 2\n",
    "b = 8\n",
    "\n",
    "3 * a * ((a + 3 * b) - 5 * (2 * b - a)) == 18 * a ** 2 - 21 * a * b"
   ]
  },
  {
   "cell_type": "markdown",
   "id": "10d1f1b8",
   "metadata": {},
   "source": [
    "<hr>\n",
    "\n",
    "## Adding and Subtracting Negative Numbers \n",
    "\n",
    "1. Adding a negative number is like subtracting a positive number. \n",
    "2. Subtracting a negative number is like adding a positive number. \n",
    "\n",
    "```{admonition} Example\n",
    ":class: example\n",
    "Suppose we have $x=4$ and $y = -3$. \n",
    "\n",
    "$$\n",
    "\\begin{aligned}\n",
    "x + y = 4 + (-3) = 4 - 3 = 1 \\\\\n",
    "x - y = 4 - (-3) = 4 + 3 = 7\n",
    "\\end{aligned}\n",
    "$$\n",
    "```\n",
    "\n",
    "<hr>"
   ]
  },
  {
   "cell_type": "code",
   "execution_count": null,
   "id": "8d15e824",
   "metadata": {},
   "outputs": [],
   "source": [
    "x = 4 \n",
    "y = -3"
   ]
  },
  {
   "cell_type": "code",
   "execution_count": null,
   "id": "0fc58266",
   "metadata": {},
   "outputs": [],
   "source": [
    "x + y"
   ]
  },
  {
   "cell_type": "code",
   "execution_count": null,
   "id": "946a0af0",
   "metadata": {},
   "outputs": [],
   "source": [
    "x - y"
   ]
  },
  {
   "cell_type": "markdown",
   "id": "bee14be6",
   "metadata": {},
   "source": [
    "<hr>\n",
    "\n",
    "## Order of Operations: BODMAS\n",
    "\n",
    "Consider the calculation below: \n",
    "\n",
    "$$\n",
    "6 + (7 \\times 3 ^ 2 + 1)\n",
    "$$\n",
    "\n",
    "In what order should we calculate our operations? BODMAS tells us that we should carry out the operations in the order listed below: \n",
    "\n",
    "````{margin}\n",
    "```{note}\n",
    "Addition and subtraction have the same priority so can actually be done in either order. \n",
    "The same is true for multiplication and division. \n",
    "```\n",
    "````\n",
    "\n",
    "1. First **B**rackets.\n",
    "2. Then **O**rders (this is powers and roots). \n",
    "3. Then **D**ivision.\n",
    "4. Then **M**ultiplication.\n",
    "5. Then **A**ddition.\n",
    "6. Then **S**ubtraction. \n",
    "\n",
    "```{admonition} Example \n",
    ":class: example\n",
    "\n",
    "So returning back to $6 + (7 \\times 3 ^ 2 + 1)$:\n",
    "\n",
    "- Start inside the Brackets and do the Orders first: $6 + (7 \\times 9 + 1)$\n",
    "- Then Mulitply the 7 and 9: $6 + (63 + 1)$\n",
    "- Then Add the 63 and 1: $6 + (64)$\n",
    "- Brackets are done so the last operation is to Add the 6 and 64: $70$\n",
    "```\n",
    "\n",
    "<hr>\n",
    "\n",
    "Python naturally follows BODMAS. "
   ]
  },
  {
   "cell_type": "code",
   "execution_count": null,
   "id": "7ea00994",
   "metadata": {},
   "outputs": [],
   "source": [
    "6 + (7 * 3 ** 2 + 1)"
   ]
  },
  {
   "cell_type": "markdown",
   "id": "14ed16af",
   "metadata": {},
   "source": [
    "<hr>\n",
    "\n",
    "## Chemistry Examples\n",
    "\n",
    "```{admonition} Molecular Mass\n",
    ":class: chem\n",
    "Calculate the molecular mass of CuSO<sub>4</sub>&#183;5H<sub>2</sub>O (hydrated copper sulphate). \n",
    "\n",
    "*Solution:* The molar mass of the elements are as follows:\n",
    "- Cu: 64 amu\n",
    "- S: 32 amu\n",
    "- O: 16 amu\n",
    "- H: 1 amu\n",
    "\n",
    "So we compute the molecular mass as: \n",
    "\n",
    "$$\n",
    "\\begin{aligned}\n",
    "\\textrm{Mass of CuSO}_4\\cdot5\\textrm{H}_2\\textrm{O} & = 64 + 32 + (16 \\times 4) + 5 \\times ((1 \\times 2) + 16) \\\\\n",
    " & = 64 + 32 + 64 + 5 \\times (2 + 16) \\\\ \n",
    " & = 64 + 32 + 64 + 5 \\times 18 \\\\\n",
    " & = 64 + 32 + 64 + 90 \\\\\n",
    " & = 250\n",
    "\\end{aligned}\n",
    "$$\n",
    "\n",
    "```\n",
    "\n",
    "<hr>\n",
    "\n",
    "In Python, this would look like"
   ]
  },
  {
   "cell_type": "code",
   "execution_count": null,
   "id": "0a38f175",
   "metadata": {},
   "outputs": [],
   "source": [
    "\n",
    "Cu = 64 \n",
    "S = 32 \n",
    "O = 16\n",
    "H = 1\n",
    "\n",
    "Cu + S + O * 4 + 5 * (H * 2 + O)"
   ]
  },
  {
   "cell_type": "markdown",
   "id": "70661bcc",
   "metadata": {},
   "source": [
    "<hr>\n",
    "\n",
    "```{admonition} Van der Waals Equation\n",
    ":class: chem\n",
    "Below is the van der Waals equation: \n",
    "\n",
    "$$\n",
    "\\left(p + \\frac{an^2}{V^2}\\right)(V-nb) = nRT\n",
    "$$\n",
    "\n",
    "which relates the pressure $p$, the volume $V$ and the absolute temperature $T$ of an amount $n$ of a gas where $a$ and $b$ are constants. \n",
    "\n",
    "Suppose we have 1.0 mol of argon gas occupying a volume of 25&times;10<sup>-3</sup> m<sup>3</sup> at a pressure of 1.0&times;10<sup>5</sup> Pa and $a$ is 0.10 Pa m<sup>6</sup>mol<sup>-2</sup> and $b$ is 4.0&times;10<sup>-5</sup> m<sup>3</sup>mol<sup>-1</sup>. \n",
    "Calculate the left hand side of the equation. \n",
    "\n",
    "*Solution:* Using BODMAS, we start with the brackets. \n",
    "In this question, we have two sets of brackets so starting with the first.  \n",
    "\n",
    "- We begin with the first of them on the left side by substituting the values from the question: $\\left(p + \\frac{an^2}{V^2}\\right) = \\left(1 \\times 10^5 + \\frac{0.1 \\times 1^2}{(25\\times 10^{-3})^2}\\right)$\n",
    "\n",
    "- Do the orders: $\\left(p + \\frac{an^2}{V^2}\\right) = \\left(1 \\times 10^5 + \\frac{0.1 \\times 1}{625\\times10^{-6}}\\right)$\n",
    "- The Divide and Multiply: $\\left(p + \\frac{an^2}{V^2}\\right) = (1\\times 10^5 + 160)$\n",
    "- The finally Add: $\\left(p + \\frac{an^2}{V^2}\\right) = 1.0016\\times 10^5$\n",
    "\n",
    "We now calculate the second bracket. \n",
    "\n",
    "- First substitute the values from the question: $(V-nb) = (25\\times10^{-3} - 1 \\times 4 \\times 10^{-5})$\n",
    "- Then Multiply: $(V-nb) = (25\\times10^{-3} - 4 \\times 10^{-5})$ \n",
    "- Then Subtract: $(V-nb) = 2.496\\times 10^{-2}$\n",
    "\n",
    "Finally, as both brackets have been calculated, we can find their product. \n",
    "\n",
    "$$\n",
    "\\left(p + \\frac{an^2}{V^2}\\right)(V-nb) = 1.0016\\times 10^5 \\times 2.496\\times 10^{-2} = 2.5\\times10^3 \\textrm{ Pa m}^3\n",
    "$$\n",
    "\n",
    "to 2 significant figures. \n",
    "```\n",
    "\n",
    "<hr>\n",
    "\n",
    "This can be computed easily with Python. "
   ]
  },
  {
   "cell_type": "code",
   "execution_count": null,
   "id": "06607c0a",
   "metadata": {},
   "outputs": [],
   "source": [
    "n = 1.0\n",
    "V = 25e-3\n",
    "p  = 1e5\n",
    "\n",
    "a = 0.1\n",
    "b = 4.0e-5\n",
    "\n",
    "(p + (a * n ** 2) / (V ** 2)) * (V - n * b)"
   ]
  },
  {
   "cell_type": "markdown",
   "id": "1d3ff7fe",
   "metadata": {},
   "source": [
    "<hr>"
   ]
  }
 ],
 "metadata": {
  "kernelspec": {
   "display_name": "m4c",
   "language": "python",
   "name": "python3"
  },
  "language_info": {
   "codemirror_mode": {
    "name": "ipython",
    "version": 3
   },
   "file_extension": ".py",
   "mimetype": "text/x-python",
   "name": "python",
   "nbconvert_exporter": "python",
   "pygments_lexer": "ipython3",
   "version": "3.11.11"
  }
 },
 "nbformat": 4,
 "nbformat_minor": 5
}
