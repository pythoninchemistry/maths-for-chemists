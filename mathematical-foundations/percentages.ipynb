{
 "cells": [
  {
   "cell_type": "markdown",
   "id": "e6a6091f",
   "metadata": {
    "vscode": {
     "languageId": "plaintext"
    }
   },
   "source": [
    "# Percentages \n",
    "\n",
    "Percentages express how large one quantity is relative to another quantity; so for example percentage yields express how large the yield of a reaction is compared to the theoretical yield. \n",
    "A percentage of a quantity is a way of expressing a number as a fraaction of 100. \n",
    "The symbol for percentage is %. \n",
    "\n",
    "In general, if we have quantities $x$ and $y$ and we want to express how large $x$ is compared to $y$ (i.e., what percentage is $x$ of $y$?), we can use the formula: \n",
    "\n",
    "$$\n",
    "\\textrm{percentage} = \\frac{x}{y} \\times 100 \\%\n",
    "$$\n",
    "\n",
    "```{admonition} Example\n",
    ":class: Example \n",
    "\n",
    "What percentage is 8 of 160? \n",
    "\n",
    "*Solution:*\n",
    "\n",
    "$$\n",
    "\\frac{8}{160} \\times 100\\% = 5\\%\n",
    "$$\n",
    "```\n",
    "\n",
    "<hr>\n",
    "\n",
    "In Python, this looks like:"
   ]
  },
  {
   "cell_type": "code",
   "execution_count": 1,
   "id": "fa72d7d0",
   "metadata": {},
   "outputs": [
    {
     "data": {
      "text/plain": [
       "5.0"
      ]
     },
     "execution_count": 1,
     "metadata": {},
     "output_type": "execute_result"
    }
   ],
   "source": [
    "8 / 160 * 100"
   ]
  },
  {
   "cell_type": "markdown",
   "id": "7dc8a4e4",
   "metadata": {},
   "source": [
    "<hr>\n",
    "\n",
    "We may also want to calculate the percentage of a quantity, for example, what is 28 % of 132? \n",
    "In general, we can use the formula:\n",
    "\n",
    "$$\n",
    "x = \\frac{\\textrm{percentage}}{100\\%} \\times y\n",
    "$$\n",
    "\n",
    "```{admonition} Example\n",
    ":class: example\n",
    "\n",
    "What is 28% of 132?\n",
    "\n",
    "*Solution:*\n",
    "\n",
    "$$\n",
    "x = \\frac{28\\%}{100\\%} \\times 132 = 36.96\n",
    "$$\n",
    "```\n",
    "\n",
    "<hr>"
   ]
  },
  {
   "cell_type": "code",
   "execution_count": 2,
   "id": "afa1adcd",
   "metadata": {},
   "outputs": [
    {
     "data": {
      "text/plain": [
       "36.96"
      ]
     },
     "execution_count": 2,
     "metadata": {},
     "output_type": "execute_result"
    }
   ],
   "source": [
    "28 / 100 * 132"
   ]
  },
  {
   "cell_type": "markdown",
   "id": "2faebfec",
   "metadata": {},
   "source": [
    "<hr>\n",
    "\n",
    "````{margin}\n",
    "```{note}\n",
    "We may wish to convert between fractions and percentages: \n",
    "1. To convert a fraction to a percentage, we multiply the fraction by 100%. \n",
    "    For example, $\\frac{1}{2}$ as a percentage is $\\frac{1}{2} \\times 100\\% = 50\\%$. \n",
    "2. To convert a percentage to a fraction, we divide the percentage by 100% and simplify. \n",
    "    For example, 25% as a fraction is $\\frac{25\\%}{100\\%} = \\frac{1}{4}$. \n",
    "```\n",
    "````\n",
    "```{admonition} Esterification Yield\n",
    ":class: chem\n",
    "\n",
    "In the esterification reaction: \n",
    "\n",
    "<center>\n",
    "CH<sub>3</sub>OH + CH<sub>3</sub>COOH → CH<sub>3</sub>COOCH<sub>3</sub> + H<sub>2</sub>O\n",
    "</center>\n",
    "\n",
    "The reactants combine in the following proportions based on their molar masses: 32 g of CH<sub>3</sub>OH reacts with 60 g of CH<sub>3</sub>COOH to form 74 g of the ester product. \n",
    "\n",
    "In a particular reaction, 1.8 g of methanol is mixed with an excess of ethanoic acid. \n",
    "At the end of the experiment 2.6 g of the ester is extracted. \n",
    "What is the percentage yield? \n",
    "\n",
    "$$\n",
    "\\textrm{percentage yield} = \\frac{\\textrm{actual yield}}{\\textrm{theoretical maximum yield}} \\times 100\\%\n",
    "$$\n",
    "\n",
    "*Solution:* First, we need to calculate the theoretical maximum yield: \n",
    "\n",
    "From the question, we know that 32 g of CH<sub>3</sub>OH yields 74 g of ester. \n",
    "Dividing through by 32 gives us that 1 g of CH<sub>3</sub>OH yields $\\frac{74}{32}$ g of ester.  \n",
    "Multiplying by 1.8 gives use that 1.8 g of CH<sub>3</sub>OH yields $1.8 \\times \\frac{74}{32} = 4.2 $ g of ester (to on decimal point). \n",
    "\n",
    "We know from the question that the actual yield is 2.6 g, so using the percentage yield formula, we have: \n",
    "\n",
    "$$\n",
    "\\textrm{percengage yield} = \\frac{2.6\\;\\textrm{g}}{4.2\\;\\textrm{g}} \\times 100\\% = 61.9\\%\n",
    "$$\n",
    "```\n",
    "\n",
    "<hr>\n",
    "\n",
    "In Python, we can store the theoretical maximum yield as a variable to be reused. "
   ]
  },
  {
   "cell_type": "code",
   "execution_count": 6,
   "id": "46f0aa05",
   "metadata": {},
   "outputs": [
    {
     "data": {
      "text/plain": [
       "62.462462462462454"
      ]
     },
     "execution_count": 6,
     "metadata": {},
     "output_type": "execute_result"
    }
   ],
   "source": [
    "theoretical_maximum_yield = 1.8 * 74 / 32\n",
    "percentage_yield = 2.6 / theoretical_maximum_yield * 100\n",
    "percentage_yield"
   ]
  },
  {
   "cell_type": "markdown",
   "id": "754dd2a8",
   "metadata": {},
   "source": [
    "Notice, that by using Python variables, we can avoid carrying rounding errors through our calculation. \n",
    "\n",
    "<hr>"
   ]
  }
 ],
 "metadata": {
  "kernelspec": {
   "display_name": "m4c",
   "language": "python",
   "name": "python3"
  },
  "language_info": {
   "codemirror_mode": {
    "name": "ipython",
    "version": 3
   },
   "file_extension": ".py",
   "mimetype": "text/x-python",
   "name": "python",
   "nbconvert_exporter": "python",
   "pygments_lexer": "ipython3",
   "version": "3.11.11"
  }
 },
 "nbformat": 4,
 "nbformat_minor": 5
}
