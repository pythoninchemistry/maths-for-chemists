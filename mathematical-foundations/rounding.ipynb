{
 "cells": [
  {
   "cell_type": "markdown",
   "id": "573a163b",
   "metadata": {},
   "source": [
    "# Rounding, Significant Figures and Decimal Places\n",
    "\n",
    "## Rounding\n",
    "\n",
    "We round numbers as follows: \n",
    "\n",
    "1. Decide to which *nearest* number or decimal point to round to. \n",
    "2. Leave it the same if the next digit is less than 5 (rounding down). \n",
    "3. Increase it by 1 if the next digit is 5 or more (rounding up). \n",
    "\n",
    "```{admonition} Example\n",
    ":class: example\n",
    "Round 467 to the nearest 10. \n",
    "\n",
    "*Solution:* So the answer is 470 (we round up to 470 as the digit after the 6 is 7). \n",
    "```\n",
    "```{admonition} Example\n",
    ":class: Example \n",
    "Round 0.314 to 2 decimal places. \n",
    "\n",
    "*Solution:* So the answer is 0.31 (we round down to 0.31 as the digit after the 1 is a 4). \n",
    "```\n",
    "\n",
    "<hr>\n",
    "\n",
    "Rounding in Python can be achieved with the built in `round` function. \n",
    "This can act on integers or floats alike and takes two arguments, the first is the number to round and the second is how much to round it. \n",
    "A value of `2` as the second argument will round to the two decimal places. "
   ]
  },
  {
   "cell_type": "code",
   "execution_count": 17,
   "id": "db58db4e",
   "metadata": {},
   "outputs": [
    {
     "data": {
      "text/plain": [
       "0.31"
      ]
     },
     "execution_count": 17,
     "metadata": {},
     "output_type": "execute_result"
    }
   ],
   "source": [
    "round(0.314, 2)"
   ]
  },
  {
   "cell_type": "markdown",
   "id": "6c644d07",
   "metadata": {},
   "source": [
    "To round to the nearest 10 the second argument should be a value of `-1` (and to the nearest 100, it would be `-2`). "
   ]
  },
  {
   "cell_type": "code",
   "execution_count": 18,
   "id": "2c13c46e",
   "metadata": {},
   "outputs": [
    {
     "data": {
      "text/plain": [
       "470"
      ]
     },
     "execution_count": 18,
     "metadata": {},
     "output_type": "execute_result"
    }
   ],
   "source": [
    "round (467, -1)"
   ]
  },
  {
   "cell_type": "markdown",
   "id": "9135e29e",
   "metadata": {},
   "source": [
    "<hr>\n",
    "\n",
    "## Significant Figures\n",
    "\n",
    "Significant figures are used to give us an answer to the appropriate precision. \n",
    "We use s.f. as a short-hand for significant figures. \n",
    "So we write a number to a given number of significant figures as follows: \n",
    "\n",
    "- When asked to write a number to $n$ significant figures, we only display the first $n$ non-zero digits. \n",
    "- Therefore, an answer may require rounding up or down. \n",
    "    For example, a temperature of 37.678 &deg;C to 3 s.f. is 37.7 &deg;C. \n",
    "- For positive decimals less than 1, we start counting the number of significant figures from the first non-zero number. \n",
    "    For example, 0.009436 to 2 s.f. is 0.0094, and not 0.00. \n",
    "- We use significant figures on negative numbers in the same way. \n",
    "    For example, -137.54 to 2 s.f. is -140. \n",
    "\n",
    "\n",
    "```{important}\n",
    "When multiplying or dividing numbers express to different numbers of significant figures, we leave our answer to the smallest number of significant figures used in the numbers we have multipled or divided. \n",
    "We can think of this as not providing unfounded precision to our result.\n",
    "```\n",
    "\n",
    "```{admonition} Rate of Formation\n",
    ":class: chem\n",
    "\n",
    "Below we have the reaction of methoanol and salicyclic acid to from the ester methyl salicylate. \n",
    "\n",
    "HOC<sub>6</sub>H<sub>5</sub>COOH + CH<sub>3</sub>OH → HOC<sub>6</sub>H<sub>5</sub>COCH<sub>3</sub> + H<sub>2</sub>O\n",
    "\n",
    "The rate of formation of the ester is given by the expression:\n",
    "\n",
    "$$\n",
    "\\textrm{rate} = k[\\textrm{methanol}][\\textrm{selicylic acid}]\n",
    "$$\n",
    "where $k$ is the rate constant. \n",
    "What is the rate when $k$ is 3.057 (mol dm<sup>-3</sup>)<sup>-1</sup> s<sup>-1</sup>, the concentration of methanol is 3 mol dm<sup>-3</sup> and the concentration of salicylic acid is 0.86 mol dm<sup>-3</sup>?\n",
    "\n",
    "*Solution:* So substituting these values into the rate equation gives: \n",
    "\n",
    "$$\n",
    "\\textrm{rate} = 3.057 \\times 3 \\times 0.86 = 7.88706 \\textrm{ mol dm}^{-3}\\textrm{s}^{-1}\n",
    "$$\n",
    "\n",
    "Now our concentration of methanol was expressed in the fewest number of significant figures, in fact to 1 s.f., so we should also leave our answer to 1 s.f.\n",
    "\n",
    "$$\n",
    "\\textrm{rate} = 8 \\textrm{ mol dm}^{-3}\\textrm{s}^{-1}\n",
    "$$\n",
    "```\n",
    "\n",
    "## Decimal Places\n",
    "\n",
    "The correct number of decimal places is used to indicate the correct precision when adding or subtracting. \n",
    "Consider the number 4.5312, which is given to 4 d.p. (decimal places). \n",
    "Hwoever, we could also write this number to 1 d.p., which would be 4.5. \n",
    "\n",
    "```{admonition} Example\n",
    ":class: example\n",
    "\n",
    "A baker is making a cake and adds to the mixture 100.0 g of flour, 40.2 g of sugar, and 50.134 g of eggs. \n",
    "Calculate the total mass of the cake, to the correct number of decimal places. \n",
    "\n",
    "*Solution:* The issue is that the masses in the question are given to different numbers of decimal places. \n",
    "So we must follow these steps: \n",
    "\n",
    "1. Add or subtract as normal including all decimal places. \n",
    "2. Round the answer to the smallest number of decimal places of the items used in step 1. \n",
    "\n",
    "Applying these rules to the example: \n",
    "\n",
    "1. 100.0 g + 40.2 g + 50.134 g = 190.334 g\n",
    "2. Now the smallest number of decimal places in the items we summed in step 1 is 1 d.p. from the 100.0 g of flour and 40.2 g of sugar, so we round our answer from step 1 to 1 d.p. to get the answer 190.3 g. \n",
    "```\n",
    "\n",
    "<hr>\n",
    "\n",
    "Some simple Python can compute this, but we need to work out how many decimal places ourselves. "
   ]
  },
  {
   "cell_type": "code",
   "execution_count": 19,
   "id": "1e275db8",
   "metadata": {},
   "outputs": [
    {
     "data": {
      "text/plain": [
       "190.3"
      ]
     },
     "execution_count": 19,
     "metadata": {},
     "output_type": "execute_result"
    }
   ],
   "source": [
    "total = 100.0 + 40.2 + 50.134\n",
    "round(total, 1)"
   ]
  },
  {
   "cell_type": "markdown",
   "id": "5fb3be9b",
   "metadata": {},
   "source": [
    "<hr>"
   ]
  }
 ],
 "metadata": {
  "kernelspec": {
   "display_name": "m4c",
   "language": "python",
   "name": "python3"
  },
  "language_info": {
   "codemirror_mode": {
    "name": "ipython",
    "version": 3
   },
   "file_extension": ".py",
   "mimetype": "text/x-python",
   "name": "python",
   "nbconvert_exporter": "python",
   "pygments_lexer": "ipython3",
   "version": "3.11.11"
  }
 },
 "nbformat": 4,
 "nbformat_minor": 5
}
