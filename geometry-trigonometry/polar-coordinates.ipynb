{
 "cells": [
  {
   "cell_type": "markdown",
   "id": "5bcc29eb",
   "metadata": {},
   "source": [
    "# Polar Coordinates\n",
    "\n",
    "With the usual *x*/*y*-axis, we will be familiar with coordinates in the form (3,2), meaning that we move 3 units in the *x*-direction (along the *x*-axis) and by a move of 2 units in the *y*-direction. \n",
    "These are Cartesian coordinates. \n",
    "\n",
    "There is another coordinate system called polar coordinates. \n",
    "These are coordinates in the form (*r*, *&theta;*), where *r* is the distance to the point from the origin and *&theta;* is the angle, in **radians**, between the positive *x*-axis and the line form by *r*. \n",
    "This is all shown in the diagram below. \n",
    "\n",
    "```{image} ./images/polar.png\n",
    ":alt: A figure giving a graphical comparison between polar and Cartesian coordinate systems.\n",
    ":width: 50%\n",
    ":align: center\n",
    "```\n",
    "\n",
    "So the point that has Cartesian coordinates (*x*, *y*) can also be described in the polar form as (*r*, *&theta;*). \n",
    "From trigonometry and Pythagoras' Theorem, we have the following relationships: \n",
    "\n",
    "- $x = r\\cos(\\theta)$\n",
    "- $y = r\\sin(\\theta)$\n",
    "- $r = \\sqrt{x^2 + y^2}$\n",
    "\n",
    "We can use the formulae above to convert between polar and cartesian coordinates. \n",
    "\n",
    "```{admonition} Example\n",
    ":class: example\n",
    "\n",
    "A point has polar coordinates $\\left(3, \\frac{-\\pi}{4}\\right)$.\n",
    "What are the corresponding Cartesian coordinates? \n",
    "\n",
    "*Solution:* So $r=3$ and $\\theta = \\frac{-\\pi}{4}$. \n",
    "So using the formulae above we have: \n",
    "\n",
    "$$\n",
    "\\begin{aligned}\n",
    "x & = r\\cos(\\theta) = 3 \\times \\cos\\left(\\frac{-\\pi}{4}\\right) = \\frac{3\\sqrt{2}}{2} \\\\\n",
    "y & = r\\sin(\\theta) = 3 \\times \\sin\\left(\\frac{-\\pi}{4}\\right) = \\frac{-3\\sqrt{2}}{2}\n",
    "\\end{aligned}\n",
    "$$\n",
    "\n",
    "So our Cartesian coordinates are $\\left(\\frac{3\\sqrt{2}}{2}, \\frac{-3\\sqrt{2}}{2}\\right)$. \n",
    "```\n",
    "\n",
    "<hr>\n",
    "\n",
    "As we have seen, Python can help with this calculation. "
   ]
  },
  {
   "cell_type": "code",
   "execution_count": null,
   "id": "754e6d5d",
   "metadata": {},
   "outputs": [],
   "source": [
    "import numpy as np\n",
    "\n",
    "r = 3\n",
    "theta = -np.pi / 4\n",
    "\n",
    "x = r * np.cos(theta)\n",
    "y = r * np.sin(theta)\n",
    "\n",
    "x, y"
   ]
  },
  {
   "cell_type": "markdown",
   "id": "641e548f",
   "metadata": {},
   "source": [
    "<hr>\n",
    "\n",
    "```{admonition} Example\n",
    ":class: example\n",
    "\n",
    "A point has Cartesian coordiantes $(-2, 3)$.\n",
    "What are the corresponding polar coordinates? \n",
    "\n",
    "*Solution:* So we have that $x=-2$ and $y=3$. \n",
    "So using the formulae above, we have: \n",
    "\n",
    "$$\n",
    "r = \\sqrt{x^2 + y^2} = \\sqrt{(-2)^2 + 3^2} = \\sqrt{13}\n",
    "$$\n",
    "\n",
    "Now, we can find $\\theta$. \n",
    "\n",
    "$$\n",
    "x = r\\cos(\\theta) \\Rightarrow = \\cos^{-1}\\left(\\frac{x}{r}\\right) = \\cos^{-1}\\left(\\frac{-2}{\\sqrt{13}}\\right) = 2.158\\ldots \\approx 2.16 \\;\\textrm{rad}\n",
    "$$\n",
    "\n",
    "So our polar coordinates are $(\\sqrt{13}, 2.16)$. \n",
    "```\n",
    "\n",
    "<hr>\n",
    "\n",
    "Again, with Python. "
   ]
  },
  {
   "cell_type": "code",
   "execution_count": null,
   "id": "dd0d2187",
   "metadata": {},
   "outputs": [],
   "source": [
    "x = -2\n",
    "y = 3\n",
    "\n",
    "r = np.sqrt(x ** 2 + y ** 2)\n",
    "theta = np.arccos(x / r)\n",
    "\n",
    "r, theta"
   ]
  },
  {
   "cell_type": "markdown",
   "id": "20c92d52",
   "metadata": {},
   "source": [
    "<hr>"
   ]
  }
 ],
 "metadata": {
  "kernelspec": {
   "display_name": "m4c",
   "language": "python",
   "name": "python3"
  },
  "language_info": {
   "codemirror_mode": {
    "name": "ipython",
    "version": 3
   },
   "file_extension": ".py",
   "mimetype": "text/x-python",
   "name": "python",
   "nbconvert_exporter": "python",
   "pygments_lexer": "ipython3",
   "version": "3.11.11"
  }
 },
 "nbformat": 4,
 "nbformat_minor": 5
}
