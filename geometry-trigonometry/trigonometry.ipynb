{
 "cells": [
  {
   "cell_type": "markdown",
   "id": "ac0e09f2",
   "metadata": {},
   "source": [
    "# Trigonometry\n",
    "\n",
    "## Angles\n",
    "\n",
    "```{list-table}\n",
    ":header-rows: 1\n",
    "\n",
    "* - Angle Type\n",
    "  - Size of Angle\n",
    "* - Acute Angle\n",
    "  - $0^\\circ < \\theta < 90^\\circ$\n",
    "* - Right Angle\n",
    "  - $\\theta = 90^\\circ$\n",
    "* - Obtuse Angle\n",
    "  - $90^\\circ < \\theta < 180^\\circ$\n",
    "* - Straight Line\n",
    "  - $\\theta = 180^\\circ$\n",
    "* - Reflex Angle\n",
    "  - $180^\\circ < \\theta < 360^\\circ$\n",
    "* - Full Circle\n",
    "  - $\\theta < 360^\\circ$\n",
    "```\n",
    "\n",
    "```{image} ./images/angles.png\n",
    ":alt: A figure showing visually the angles described in the above table.\n",
    ":width: 70%\n",
    ":align: center\n",
    "```\n",
    "\n",
    "## Radians \n",
    "\n",
    "We often use degrees to measure angles, however, we have another measurement of angles called radians. \n",
    "Instead of splitting the full circle into 360&deg;, it is split into 2&pi; radians. \n",
    "We must use radians in calculus ([differentiation](../differentiation/intro.ipynb) and [integration](../integration/intro.ipynb)), [complex numbers](../complex-numbers/complex-numbers.ipynb) and [polar coordinates](./polar-coordinates.ipynb). \n",
    "This may seem new and complicated at first, however, it is no different to thinking that we could measure length in miles or metres. \n",
    "\n",
    "Below, we have a full circle, showing some angles in degrees and what they are in radians.\n",
    "\n",
    "```{image} ./images/radians.png\n",
    ":alt: A circle with the angles both in radians and degrees.\n",
    ":width: 50%\n",
    ":align: center\n",
    "```\n",
    "\n",
    "We may wish to convert between degree and radians. \n",
    "In order to turn $x^\\circ$ degrees into radians, we use the formula: \n",
    "\n",
    "$$\n",
    "x = \\frac{x^\\circ}{360^\\circ} \\times 2\\pi\n",
    "$$\n",
    "\n",
    "In order to convert $x$ radians into degrees, we use rearrange the formula: \n",
    "\n",
    "$$\n",
    "x^\\circ = \\frac{x}{2\\pi} \\times 360^\\circ\n",
    "$$\n",
    "\n",
    "```{admonition} Example\n",
    ":class: example\n",
    "\n",
    "Convert the following: \n",
    "\n",
    "1. $60^\\circ$ into radians. \n",
    "2. $\\frac{3\\pi}{8}$ radians to degrees. \n",
    "\n",
    "*Solution:*\n",
    "\n",
    "1. $\\frac{x^\\circ}{360^\\circ} \\times 2\\pi = \\frac{60^\\circ}{360^\\circ} \\times 2\\pi = \\frac{\\pi}{3}\\;\\textrm{rad}$\n",
    "2. $\\frac{x}{2\\pi} \\times 360^\\circ = \\frac{\\left(\\frac{3\\pi}{8}\\right)}{2\\pi} \\times 360^\\circ = \\frac{3}{16} \\times 360^\\circ = 67.5^\\circ$\n",
    "```\n",
    "\n",
    "<hr>\n",
    "\n",
    "The `pint` library has the ability to perform this unit conversion. "
   ]
  },
  {
   "cell_type": "code",
   "execution_count": 1,
   "id": "4e75f07c",
   "metadata": {},
   "outputs": [
    {
     "data": {
      "text/html": [
       "1.0471975511965976 radian"
      ],
      "text/latex": [
       "$1.0471975511965976\\ \\mathrm{radian}$"
      ],
      "text/plain": [
       "<Quantity(1.0471975511965976, 'radian')>"
      ]
     },
     "execution_count": 1,
     "metadata": {},
     "output_type": "execute_result"
    }
   ],
   "source": [
    "from numpy import pi\n",
    "from pint import UnitRegistry\n",
    "\n",
    "ureg = UnitRegistry()\n",
    "\n",
    "(60 * ureg.degree).to(ureg.radian)"
   ]
  },
  {
   "cell_type": "code",
   "execution_count": 2,
   "id": "3647ed55",
   "metadata": {},
   "outputs": [
    {
     "data": {
      "text/html": [
       "67.5 degree"
      ],
      "text/latex": [
       "$67.5\\ \\mathrm{degree}$"
      ],
      "text/plain": [
       "<Quantity(67.5, 'degree')>"
      ]
     },
     "execution_count": 2,
     "metadata": {},
     "output_type": "execute_result"
    }
   ],
   "source": [
    "(3 * pi / 8 * ureg.radian).to(ureg.degree)"
   ]
  },
  {
   "cell_type": "markdown",
   "id": "d0239785",
   "metadata": {},
   "source": [
    "<hr>\n",
    "\n",
    "## Right-Angle Triangles\n",
    "\n",
    "```{image} ./images/right-angle-triangle.png\n",
    ":alt: A diagram of a right-angled triangle with the hypotenuse, opposite, and adjacent identified.\n",
    ":width: 35%\n",
    ":align: center\n",
    "```\n",
    "\n",
    "As shown in the diagram above, when given a right-angled triangle with one of the non-right angles labelled &\\theta;, then we label the sides as follows: \n",
    "- The longest side is called the **hypotenuse**, this is always the side opposite the right angle. \n",
    "- The side that is opposite the angle &theta; is called the **opposite**. \n",
    "The side that is next to the angle &theta; is call the **adjacent**. \n",
    "\n",
    "### Pythagoras' Theorem\n",
    "\n",
    "Pythagoras' theroem relates only to right-angled triangles. \n",
    "So given a right-angled triangle, such as the one below, it states: \n",
    "\n",
    "$$\n",
    "a^2 + b^2 = c^2\n",
    "$$\n",
    "\n",
    "where $c$ is the length of the hypotheuse and $a$ and $b$ are the lengths of the other two sides of the triangle.\n",
    "\n",
    "```{image} ./images/pythagoras.png\n",
    ":alt: A diagram of a right-angled triangle with the hypotenuse labelled as c and the opposite and adjacent labelled as a and b.\n",
    ":width: 27%\n",
    ":align: center\n",
    "```\n",
    "\n",
    "````{admonition} Example\n",
    ":class: example\n",
    "\n",
    "Find the length of $x$ and $y$ in the following triangles \n",
    "\n",
    "![Two diagrams of right-angled triangles: the first has opposite and adjacent of 3 and 6 and the hypotenuse labelled x, the second has opposite and adjacent of 2 and y and the hypotenuse labelled 7.](./images/pythagoras-examples.png)\n",
    "\n",
    "*Solution:* \n",
    "\n",
    "1. Using Pythagoras' Theorem we know that, since $x$ is the hypotenuse,\n",
    "\n",
    "$$\n",
    "x^2 = 3^2 + 6^2 \\Rightarrow x = \\sqrt{45} \\approx 6.708\n",
    "$$\n",
    "\n",
    "2. Using Pythagoras' Theorem we know that,\n",
    "\n",
    "$$\n",
    "7^2 = y^2 + 2^2 \\Rightarrow y = \\sqrt{45} \\approx 6.708\n",
    "$$\n",
    "```` \n",
    "\n",
    "````{admonition} Crystalline Distances\n",
    ":class: chem\n",
    "\n",
    "Below is the structure of solid sodium chloride (sodium in blue, chloride in black). \n",
    "If the distance between the centres of adjacent chlroide and sodium ions is 278 pm, what is the next shortest distance between such ions? \n",
    "i.e., what is the length of the red dashed line?\n",
    "\n",
    "```{image} ./images/sodium-chloride.png\n",
    ":alt: Two diagrams of right-angled triangles: the first has opposite and adjacent of 3 and 6 and the hypotenuse labelled x, the second has opposite and adjacent of 2 and y and the hypotenuse labelled 7.\n",
    ":width: 63%\n",
    ":align: center\n",
    "```\n",
    "\n",
    "*Solution:* First we consider the triangle from the cube lattice above, with lengths $a$, $b$, and $c$. \n",
    "This is a right-angled triangle, shown below, so we can apply Pythagoras' Theorem. \n",
    "\n",
    "```{image} ./images/sodium-chloride-1.png\n",
    ":alt: Two diagrams of right-angled triangles: the first has opposite and adjacent of 3 and 6 and the hypotenuse labelled x, the second has opposite and adjacent of 2 and y and the hypotenuse labelled 7.\n",
    ":width: 63%\n",
    ":align: center\n",
    "```\n",
    "\n",
    "We know from the question tht the distance between adjacent chloride and sodium ions is 278 pm, so $a = b = 278\\;\\textrm{pm}$. \n",
    "So we have, using Pythagoras' Theorem, \n",
    "\n",
    "$$\n",
    "c^2 = 278^2 + 278^2 \\Rightarrow c = 393\\;\\textrm{pm}\n",
    "$$\n",
    "\n",
    "Now, consider the triangle from the cube lattice with lengths $c$, $d$, $e$. \n",
    "This is a right-angled triangle, shown below, so we can again apply Pythagoras' Theorem. \n",
    "\n",
    "```{image} ./images/sodium-chloride-2.png\n",
    ":alt: Two diagrams of right-angled triangles: the first has opposite and adjacent of 3 and 6 and the hypotenuse labelled x, the second has opposite and adjacent of 2 and y and the hypotenuse labelled 7.\n",
    ":width: 63%\n",
    ":align: center\n",
    "```\n",
    "\n",
    "We know from the question that the distance between adjacent chloride and sodium ions is 278 pm, so $d=278\\;\\textrm{pm}$ and from our previous calculations, we know $c=393\\;\\textrm{pm}$. \n",
    "So we have, using Pythagoras Theorem, \n",
    "\n",
    "$$\n",
    "e^2 = 278^2 + 393^2 \\Rightarrow e = 481\\;\\textrm{pm}.\n",
    "$$\n",
    "````\n",
    "\n",
    "### SOHCAHTOA\n",
    "\n",
    "```{image} ./images/right-angle-triangle.png\n",
    ":alt: A diagram of a right-angled triangle with the hypotenuse, opposite, and adjacent identified.\n",
    ":width: 35%\n",
    ":align: center\n",
    "```\n",
    "\n",
    "Given our right-angled triangle, we start by defining sine, cosine, and tangent, before reviewing what their graphs look like. \n",
    "\n",
    "````{margin}\n",
    "```{note}\n",
    "The angle &theta; is measured in radians in the following graphs on the *x*-axis.\n",
    "```\n",
    "````\n",
    "\n",
    "#### Sine Function\n",
    "\n",
    "We define sine as the ratio of the opposite to the hypotenuse. \n",
    "\n",
    "$$\n",
    "\\sin(\\theta) = \\frac{\\textrm{Opposite}}{\\textrm{Hypotenuse}}\n",
    "$$\n",
    "\n",
    "Part of the graph of $y=\\sin(\\theta)$ is shown below. "
   ]
  },
  {
   "cell_type": "code",
   "execution_count": 3,
   "id": "6b46453f",
   "metadata": {
    "tags": [
     "hide-input"
    ]
   },
   "outputs": [
    {
     "data": {
      "image/png": "[encoded data removed]",
      "text/plain": [
       "<Figure size 640x480 with 1 Axes>"
      ]
     },
     "metadata": {},
     "output_type": "display_data"
    }
   ],
   "source": [
    "import numpy as np\n",
    "import matplotlib.pyplot as plt\n",
    "\n",
    "fig, ax = plt.subplots()\n",
    "\n",
    "x = np.linspace(-2 * np.pi, 2 * np.pi, 100)\n",
    "y = np.sin(x)\n",
    "\n",
    "ax.plot(x, y)\n",
    "ax.set_xlabel(r'$\\theta$ / radians')\n",
    "ax.set_ylabel(r'$y$')\n",
    "plt.show()"
   ]
  },
  {
   "cell_type": "markdown",
   "id": "7e7b5e47",
   "metadata": {},
   "source": [
    "#### Cosine Function\n",
    "\n",
    "We define cosine as the ratio of the adjacent to the hypotenuse. \n",
    "\n",
    "$$\n",
    "\\cos(\\theta) = \\frac{\\textrm{Adjacent}}{\\textrm{Hypotenuse}}\n",
    "$$\n",
    "\n",
    "Part of the graph of $y=\\cos(\\theta)$ is shown below. "
   ]
  },
  {
   "cell_type": "code",
   "execution_count": 4,
   "id": "fead7596",
   "metadata": {
    "tags": [
     "hide-input"
    ]
   },
   "outputs": [
    {
     "data": {
      "image/png": "[encoded data removed]",
      "text/plain": [
       "<Figure size 640x480 with 1 Axes>"
      ]
     },
     "metadata": {},
     "output_type": "display_data"
    }
   ],
   "source": [
    "fig, ax = plt.subplots()\n",
    "\n",
    "x = np.linspace(-2 * np.pi, 2 * np.pi, 100)\n",
    "y = np.cos(x)\n",
    "\n",
    "ax.plot(x, y)\n",
    "ax.set_xlabel(r'$\\theta$ / radians')\n",
    "ax.set_ylabel(r'$y$')\n",
    "plt.show()"
   ]
  },
  {
   "cell_type": "markdown",
   "id": "ed71bc97",
   "metadata": {},
   "source": [
    "#### Tangent Function \n",
    "\n",
    "We define tangent as the ratio of the opposite to the adjacent. \n",
    "\n",
    "$$\n",
    "\\tan(\\theta) = \\frac{\\textrm{Opposite}}{\\textrm{Adjacent}}\n",
    "$$\n",
    "\n",
    "This leads to the relationship $\\tan{\\theta} = \\frac{\\sin{\\theta}}{\\cos{\\theta}}$ shown below: \n",
    "\n",
    "$$\n",
    "\\begin{aligned}\n",
    "\\tan{\\theta} & = \\frac{\\textrm{Opposite}}{\\textrm{Adjacent}} = \\frac{\\textrm{Opposite}\\times\\textrm{Hypotenuse}}{\\textrm{Adjacent}\\times\\textrm{Hypotenuse}} \\\\\n",
    "& = \\frac{\\frac{\\textrm{Opposite}}{\\textrm{Hypotenuse}}}{\\frac{\\textrm{Adjacent}}{\\textrm{Hypotenuse}}} = \\frac{\\sin{\\theta}}{\\cos{\\theta}} \n",
    "\\end{aligned}\n",
    "$$\n",
    "\n",
    "The graph of $y=\\tan(\\theta)$ is shown below. "
   ]
  },
  {
   "cell_type": "code",
   "execution_count": 5,
   "id": "82d47b2c",
   "metadata": {
    "tags": [
     "hide-input"
    ]
   },
   "outputs": [
    {
     "data": {
      "image/png": "[encoded data removed]",
      "text/plain": [
       "<Figure size 640x480 with 1 Axes>"
      ]
     },
     "metadata": {},
     "output_type": "display_data"
    }
   ],
   "source": [
    "fig, ax = plt.subplots()\n",
    "\n",
    "x = np.linspace(-3 / 2 * np.pi, 3 / 2 * np.pi, 100)\n",
    "y = np.tan(x)\n",
    "\n",
    "ax.plot(x, y)\n",
    "ax.set_xlabel(r'$\\theta$ / radians')\n",
    "ax.set_ylabel(r'$y$')\n",
    "ax.set_ylim(-5, 5)\n",
    "plt.show()"
   ]
  },
  {
   "cell_type": "markdown",
   "id": "74e538aa",
   "metadata": {},
   "source": [
    "The definition of sine, cosine, and tangent are often more easily remembered as SOHCAHTOA. \n",
    "We can use the formulas in SOHCAHTOA to calculate the size of angles and the lengths of sides in **right-angled triangles**. \n",
    "\n",
    "````{margin}\n",
    "```{note}\n",
    "Beaware, some of these questions use degrees and other radians. \n",
    "```\n",
    "````\n",
    "```{admonition} Example\n",
    ":class: example\n",
    "Using SOHCAHTOA, find the lengths of $x$, $y$, and $z$, in the right-angled triangles below. \n",
    "\n",
    "![Three right angled triangles](./images/sohcahtoa.png)\n",
    "\n",
    "*Solution:* For shorthand, we have used $\\textrm{H}$ to denote hypotenuse, $\\textrm{O}$ the opposite, and $\\textrm{A}$ the adjacent. \n",
    "\n",
    "1. We know the length of the hypotenuse and wish to find the opposite, hence we need to use: \n",
    "\n",
    "    $$\n",
    "    \\sin(\\theta) = \\frac{\\textrm{O}}{\\textrm{H}} \\Rightarrow \\sin(30^\\circ) = \\frac{\\textrm{O}}{3} \\Rightarrow \\textrm{O} = \\sin(30^\\circ) \\times 3 = \\frac{3}{2}\n",
    "    $$\n",
    "\n",
    "2. We know the length of the adjacent and wish to find the opposite, hence we need to use: \n",
    "\n",
    "    $$\n",
    "    \\tan(\\theta) = \\frac{\\textrm{O}}{\\textrm{A}} \\Rightarrow \\tan(30^\\circ) = \\frac{\\textrm{O}}{7} \\Rightarrow \\tan(30^\\circ)\\times 7 = \\frac{7\\sqrt{3}}{3}\n",
    "    $$\n",
    "\n",
    "3. We know the length of the adjacent are wish to find the hypotenuse, hence we need to use:\n",
    "\n",
    "    $$\n",
    "    \\cos(\\theta) = \\frac{\\mathrm{A}}{\\mathrm{H}} \\Rightarrow \\cos\\left(\\frac{\\pi}{4}\\right) = \\frac{6}{\\textrm{H}} \\Rightarrow \\textrm{H} = \\frac{6}{\\cos\\left(\\frac{\\pi}{4}\\right)} = 6\\sqrt{2}\n",
    "    $$\n",
    "```\n",
    "\n",
    "<hr>\n",
    "\n",
    "We can use Python to help us with these computations. \n",
    "\n",
    "````{margin}\n",
    "```{admonition} Python Note\n",
    ":class: python\n",
    "\n",
    "The NumPy trigonometric functions assume that the inputs are in radians. \n",
    "So for the computations with degrees, we use the `np.radians` function to convert. \n",
    "```\n",
    "````\n"
   ]
  },
  {
   "cell_type": "code",
   "execution_count": null,
   "id": "c0bad51b",
   "metadata": {},
   "outputs": [
    {
     "data": {
      "text/plain": [
       "(1.4999999999999998, 1.5)"
      ]
     },
     "execution_count": 9,
     "metadata": {},
     "output_type": "execute_result"
    }
   ],
   "source": [
    "np.sin(np.radians(30)) * 3"
   ]
  },
  {
   "cell_type": "code",
   "execution_count": 10,
   "id": "6098f94c",
   "metadata": {},
   "outputs": [
    {
     "data": {
      "text/plain": [
       "4.04145188432738"
      ]
     },
     "execution_count": 10,
     "metadata": {},
     "output_type": "execute_result"
    }
   ],
   "source": [
    "np.tan(np.radians(30)) * 7"
   ]
  },
  {
   "cell_type": "code",
   "execution_count": 11,
   "id": "ded0b259",
   "metadata": {},
   "outputs": [
    {
     "data": {
      "text/plain": [
       "8.48528137423857"
      ]
     },
     "execution_count": 11,
     "metadata": {},
     "output_type": "execute_result"
    }
   ],
   "source": [
    "6 / np.cos(np.pi / 4)"
   ]
  },
  {
   "cell_type": "markdown",
   "id": "916a6e7f",
   "metadata": {},
   "source": [
    "<hr>\n",
    "\n",
    "```{admonition} Carbon-Carbon Bond\n",
    ":class: chem\n",
    "\n",
    "A carbon-carbon bond has a length of 154 pm. \n",
    "If the bond is positioned at an angle of 30&deg; to a surface, as shown below. \n",
    "What is the projected length of the bond? \n",
    "\n",
    "![A carbon-carbon bond at a 30 degree angle](./images/projected.png)\n",
    "\n",
    "*Solution:* To solve this, we should first note that we have a right-angled triangle and can therefore use SOHCAHTOA. \n",
    "We know the hypotenuse, which is 154 pm and want to find the projected length, which is the adjacent.\n",
    "So, we need to use: \n",
    "\n",
    "$$\n",
    "\\cos(\\theta) = \\frac{\\textrm{A}}{\\textrm{H}} \\Rightarrow \\cos(30^\\circ) = \\frac{\\textrm{A}}{154\\;\\textrm{pm}} \\Rightarrow A = \\cos(30^\\circ) \\times 154\\;\\textrm{pm} = 77\\sqrt{3}\\;\\textrm{pm} \\approx 133\\;\\textrm{pm}\n",
    "$$\n",
    "\n",
    "```\n",
    "\n",
    "<hr>\n",
    "\n",
    "With Python\n"
   ]
  },
  {
   "cell_type": "code",
   "execution_count": 12,
   "id": "40ca2a77",
   "metadata": {},
   "outputs": [
    {
     "data": {
      "text/html": [
       "133.36791218280356 picometer"
      ],
      "text/latex": [
       "$133.36791218280356\\ \\mathrm{picometer}$"
      ],
      "text/plain": [
       "<Quantity(133.36791218280356, 'picometer')>"
      ]
     },
     "execution_count": 12,
     "metadata": {},
     "output_type": "execute_result"
    }
   ],
   "source": [
    "np.cos(np.radians(30)) * 154 * ureg.pm"
   ]
  },
  {
   "cell_type": "markdown",
   "id": "cd84d8fe",
   "metadata": {},
   "source": [
    "<hr>\n",
    "\n",
    "## Inverse Function and Rearranging Trigonometric Functions\n",
    "\n",
    "We may be given the lengths of two sides of a right-angled triangle and be asked to find the angle, &theta;, between them or be ased to rearrange an equation with a trigonometric function. \n",
    "In order to do these, we need to introduce the inverse trigonometric function: \n",
    "\n",
    "- The inverse function of sine is sin<sup>-1</sup>(&theta;), can also be denoted as arcsin(&theta;).\n",
    "- The inverse function of cosine is cos<sup>-1</sup>(&theta;), can also be denoted as arccos(&theta;).\n",
    "- The inverse function of tangent is tan<sup>-1</sup>(&theta;), can also be denoted as arctan(&theta;).\n",
    "\n",
    "We use the inverse trigonometric functions with SOHCAHTOA to find the values of anlges in right-angled triangles in which two of the lengths of the sides have been given. \n",
    "We do this as followis, suppose we know that: \n",
    "\n",
    "$$\n",
    "\\sin(\\theta) = \\frac{1}{2}\n",
    "$$\n",
    "\n",
    "To find &theta;, we can apply the inverse sine function to both sides of the equation, \n",
    "\n",
    "$$\n",
    "\\begin{aligned}\n",
    "    \\sin^{-1}\\left(\\sin(\\theta)\\right) & = \\sin^{-1}\\left(\\frac{1}{2}\\right) \\\\\n",
    "    \\theta & = \\sin^{-1}\\left(\\frac{1}{2}\\right) \\\\\n",
    "    \\theta & = 30^\\circ\n",
    "\\end{aligned}\n",
    "$$\n",
    "\n",
    "<hr>\n",
    "\n",
    "We can use a calculator, or Python, to find $\\sin^{-1}\\left(\\frac{1}{2}\\right) = 30^\\circ = \\frac{\\pi}{6} \\;\\textrm{radians}$. \n",
    "\n",
    "````{margin}\n",
    "```{admonition} Python Note\n",
    ":class: python\n",
    "\n",
    "NumPy uses `arc*` for the inverse functions. \n",
    "Also, note the use of `np.degrees`, to convert the radians result to degrees. \n",
    "```\n",
    "````"
   ]
  },
  {
   "cell_type": "code",
   "execution_count": 15,
   "id": "a3c3746f",
   "metadata": {},
   "outputs": [
    {
     "data": {
      "text/plain": [
       "(29.999999999999996, 0.5235987755982988)"
      ]
     },
     "execution_count": 15,
     "metadata": {},
     "output_type": "execute_result"
    }
   ],
   "source": [
    "np.degrees(np.arcsin(1/2)), np.arcsin(1/2)"
   ]
  },
  {
   "cell_type": "markdown",
   "id": "6a8aaf0d",
   "metadata": {},
   "source": [
    "<hr>\n",
    "\n",
    "```{admonition} Example\n",
    "\n",
    "Using SOHCAHTOA find the size of the angles $B$, $C$, and $D$, in the right-angled triangles below. \n",
    "\n",
    "![Three more right-angled triangles](./images/inverse.png)\n",
    "\n",
    "*Solution:*\n",
    "\n",
    "1. We know the length of the hypotenuse and the opposite. \n",
    "\n",
    "    $$\n",
    "    \\sin(\\theta) = \\frac{\\textrm{O}}{\\textrm{H}} \\Rightarrow \\sin(B) = \\frac{3}{5} \\Rightarrow \\sin^{-1}\\left(\\frac{3}{5}\\right) = 36.9^\\circ/0.64\\;\\textrm{rad}\n",
    "    $$\n",
    "\n",
    "2. We know the length of the adjacent and the opposite. \n",
    "\n",
    "    $$\n",
    "    \\tan(\\theta) = \\frac{\\textrm{O}}{\\textrm{A}} \\Rightarrow \\tan(C) = \\frac{6}{5} \\Rightarrow \\tan^{-1}\\left(\\frac{6}{5}\\right) = 50.2^\\circ/0.88\\;\\textrm{rad}\n",
    "    $$\n",
    "\n",
    "3. We know the length of the hypotenuse and the adjacent. \n",
    "\n",
    "    $$\n",
    "    \\cos(\\theta) = \\frac{\\textrm{A}}{\\textrm{H}} \\Rightarrow \\cos(D) = \\frac{6}{11} \\Rightarrow \\cos^{-1}\\left(\\frac{6}{11}\\right) = 56.9^\\circ/0.99\\;\\textrm{rad}\n",
    "    $$\n",
    "```\n",
    "\n",
    "<hr>\n",
    "\n",
    "Once again, using the `arc*` NumPy functions. "
   ]
  },
  {
   "cell_type": "code",
   "execution_count": 19,
   "id": "d7490d31",
   "metadata": {},
   "outputs": [
    {
     "data": {
      "text/plain": [
       "(0.6435011087932844, 36.86989764584402)"
      ]
     },
     "execution_count": 19,
     "metadata": {},
     "output_type": "execute_result"
    }
   ],
   "source": [
    "np.arcsin(3/5), np.degrees(np.arcsin(3/5))"
   ]
  },
  {
   "cell_type": "code",
   "execution_count": 20,
   "id": "73987713",
   "metadata": {},
   "outputs": [
    {
     "data": {
      "text/plain": [
       "(0.8760580505981934, 50.19442890773481)"
      ]
     },
     "execution_count": 20,
     "metadata": {},
     "output_type": "execute_result"
    }
   ],
   "source": [
    "np.arctan(6/5), np.degrees(np.arctan(6/5))"
   ]
  },
  {
   "cell_type": "code",
   "execution_count": 21,
   "id": "6aadb53c",
   "metadata": {},
   "outputs": [
    {
     "data": {
      "text/plain": [
       "(0.9938649815584398, 56.944268849146)"
      ]
     },
     "execution_count": 21,
     "metadata": {},
     "output_type": "execute_result"
    }
   ],
   "source": [
    "np.arccos(6/11), np.degrees(np.arccos(6/11))"
   ]
  },
  {
   "cell_type": "markdown",
   "id": "74370c79",
   "metadata": {},
   "source": [
    "<hr>\n",
    "\n",
    "````{margin}\n",
    "```{note}\n",
    "When squaring trigonometric functions, such as $\\left(\\sin(x)\\right)^2$, $\\left(\\cos(x)\\right)^2$, and $\\left(\\tan(x)\\right)^2$, we use the notation $\\sin^2(x)$, $\\cos^2(x)$, and $\\tan^2(x)$ are used in the same way. \n",
    "This is also true more generally, for example $\\left(\\sin(x)\\right)^n$ is denoted $\\sin^n(x)$.\n",
    "```\n",
    "````\n",
    "\n",
    "```{admonition} Bond Angles \n",
    ":class: chem\n",
    "\n",
    "The position of certain bands in the infra-red spectrum of SO<sub>2</sub> can be used to determine the angle &theta; of the O-S-O bonds. \n",
    "The analysis leads to the equation: \n",
    "\n",
    "$$\n",
    "\\sin^2{\\left(\\frac{\\theta}{2}\\right)} = 0.769\n",
    "$$\n",
    "\n",
    "Find the value of $\\theta$ in degrees. \n",
    "\n",
    "*Solution:* First, we can square root both sides to remove the square on the sin function. \n",
    "This gives us: \n",
    "\n",
    "$$\n",
    "\\begin{aligned}\n",
    "\\sqrt{\\sin^2\\left(\\frac{\\theta}{2}\\right)} & = \\sqrt{0.769} \\\\\n",
    "\\sin{\\left(\\frac{\\theta}{2}\\right)} & = 0.8769\\ldots\n",
    "\\end{aligned}\n",
    "$$\n",
    "\n",
    "We now take the inverse of both sides: \n",
    "\n",
    "$$\n",
    "\\begin{aligned}\n",
    "\\sin^{-1}\\left(\\sin\\left(\\frac{\\theta}{2}\\right)\\right) & = \\sin^{-1}(0.8769) \\\\\n",
    "\\frac{\\theta}{2} & = \\sin^{-1}(0.8769) \\\\\n",
    "\\frac{\\theta}{2} & = 61.27\\ldots \\\\\n",
    "\\theta & = 123^\\circ \\textrm{ (to 3 s.f.)}\n",
    "\\end{aligned}\n",
    "$$\n",
    "```\n",
    "\n",
    "<hr>\n",
    "\n",
    "We can check this with Python. "
   ]
  },
  {
   "cell_type": "code",
   "execution_count": 18,
   "id": "56121801",
   "metadata": {},
   "outputs": [
    {
     "data": {
      "text/plain": [
       "122.54759369030917"
      ]
     },
     "execution_count": 18,
     "metadata": {},
     "output_type": "execute_result"
    }
   ],
   "source": [
    "np.degrees(np.arcsin(np.sqrt(0.769)) * 2)"
   ]
  },
  {
   "cell_type": "markdown",
   "id": "9ac83694",
   "metadata": {},
   "source": [
    "<hr>"
   ]
  }
 ],
 "metadata": {
  "kernelspec": {
   "display_name": "m4c",
   "language": "python",
   "name": "python3"
  },
  "language_info": {
   "codemirror_mode": {
    "name": "ipython",
    "version": 3
   },
   "file_extension": ".py",
   "mimetype": "text/x-python",
   "name": "python",
   "nbconvert_exporter": "python",
   "pygments_lexer": "ipython3",
   "version": "3.11.11"
  }
 },
 "nbformat": 4,
 "nbformat_minor": 5
}
